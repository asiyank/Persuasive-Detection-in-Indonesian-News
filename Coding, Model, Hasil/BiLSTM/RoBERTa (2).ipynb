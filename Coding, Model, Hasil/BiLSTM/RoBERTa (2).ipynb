{
 "cells": [
  {
   "cell_type": "markdown",
   "metadata": {
    "id": "N577AJNNX56w"
   },
   "source": [
    "# Automatic Recognition of Persuasive Content on Electronic News + Text Rank"
   ]
  },
  {
   "cell_type": "markdown",
   "metadata": {
    "id": "As7ddBnHZ9yx"
   },
   "source": [
    "https://colab.research.google.com/github/dipanjanS/nlp_workshop_odsc19/blob/master/Module05%20-%20NLP%20Applications/Project06%20-%20Text%20Summarization.ipynb"
   ]
  },
  {
   "cell_type": "markdown",
   "metadata": {
    "id": "jgebE03Yq0UX"
   },
   "source": [
    "# Install Lib"
   ]
  },
  {
   "cell_type": "code",
   "execution_count": 1,
   "metadata": {
    "colab": {
     "base_uri": "https://localhost:8080/"
    },
    "id": "vfFvbPwXq12X",
    "outputId": "f0c3a9fb-de63-49b6-f294-67db462daa34"
   },
   "outputs": [
    {
     "name": "stderr",
     "output_type": "stream",
     "text": [
      "[nltk_data] Downloading collection 'popular'\n",
      "[nltk_data]    | \n",
      "[nltk_data]    | Downloading package cmudict to\n",
      "[nltk_data]    |     C:\\Users\\Asiyah\\AppData\\Roaming\\nltk_data...\n",
      "[nltk_data]    |   Package cmudict is already up-to-date!\n",
      "[nltk_data]    | Downloading package gazetteers to\n",
      "[nltk_data]    |     C:\\Users\\Asiyah\\AppData\\Roaming\\nltk_data...\n",
      "[nltk_data]    |   Package gazetteers is already up-to-date!\n",
      "[nltk_data]    | Downloading package genesis to\n",
      "[nltk_data]    |     C:\\Users\\Asiyah\\AppData\\Roaming\\nltk_data...\n",
      "[nltk_data]    |   Package genesis is already up-to-date!\n",
      "[nltk_data]    | Downloading package gutenberg to\n",
      "[nltk_data]    |     C:\\Users\\Asiyah\\AppData\\Roaming\\nltk_data...\n",
      "[nltk_data]    |   Package gutenberg is already up-to-date!\n",
      "[nltk_data]    | Downloading package inaugural to\n",
      "[nltk_data]    |     C:\\Users\\Asiyah\\AppData\\Roaming\\nltk_data...\n",
      "[nltk_data]    |   Package inaugural is already up-to-date!\n",
      "[nltk_data]    | Downloading package movie_reviews to\n",
      "[nltk_data]    |     C:\\Users\\Asiyah\\AppData\\Roaming\\nltk_data...\n",
      "[nltk_data]    |   Package movie_reviews is already up-to-date!\n",
      "[nltk_data]    | Downloading package names to\n",
      "[nltk_data]    |     C:\\Users\\Asiyah\\AppData\\Roaming\\nltk_data...\n",
      "[nltk_data]    |   Package names is already up-to-date!\n",
      "[nltk_data]    | Downloading package shakespeare to\n",
      "[nltk_data]    |     C:\\Users\\Asiyah\\AppData\\Roaming\\nltk_data...\n",
      "[nltk_data]    |   Package shakespeare is already up-to-date!\n",
      "[nltk_data]    | Downloading package stopwords to\n",
      "[nltk_data]    |     C:\\Users\\Asiyah\\AppData\\Roaming\\nltk_data...\n",
      "[nltk_data]    |   Package stopwords is already up-to-date!\n",
      "[nltk_data]    | Downloading package treebank to\n",
      "[nltk_data]    |     C:\\Users\\Asiyah\\AppData\\Roaming\\nltk_data...\n",
      "[nltk_data]    |   Package treebank is already up-to-date!\n",
      "[nltk_data]    | Downloading package twitter_samples to\n",
      "[nltk_data]    |     C:\\Users\\Asiyah\\AppData\\Roaming\\nltk_data...\n",
      "[nltk_data]    |   Package twitter_samples is already up-to-date!\n",
      "[nltk_data]    | Downloading package omw to\n",
      "[nltk_data]    |     C:\\Users\\Asiyah\\AppData\\Roaming\\nltk_data...\n",
      "[nltk_data]    |   Package omw is already up-to-date!\n",
      "[nltk_data]    | Downloading package omw-1.4 to\n",
      "[nltk_data]    |     C:\\Users\\Asiyah\\AppData\\Roaming\\nltk_data...\n",
      "[nltk_data]    |   Package omw-1.4 is already up-to-date!\n",
      "[nltk_data]    | Downloading package wordnet to\n",
      "[nltk_data]    |     C:\\Users\\Asiyah\\AppData\\Roaming\\nltk_data...\n",
      "[nltk_data]    |   Package wordnet is already up-to-date!\n",
      "[nltk_data]    | Downloading package wordnet2021 to\n",
      "[nltk_data]    |     C:\\Users\\Asiyah\\AppData\\Roaming\\nltk_data...\n",
      "[nltk_data]    |   Package wordnet2021 is already up-to-date!\n",
      "[nltk_data]    | Downloading package wordnet31 to\n",
      "[nltk_data]    |     C:\\Users\\Asiyah\\AppData\\Roaming\\nltk_data...\n",
      "[nltk_data]    |   Package wordnet31 is already up-to-date!\n",
      "[nltk_data]    | Downloading package wordnet_ic to\n",
      "[nltk_data]    |     C:\\Users\\Asiyah\\AppData\\Roaming\\nltk_data...\n",
      "[nltk_data]    |   Package wordnet_ic is already up-to-date!\n",
      "[nltk_data]    | Downloading package words to\n",
      "[nltk_data]    |     C:\\Users\\Asiyah\\AppData\\Roaming\\nltk_data...\n",
      "[nltk_data]    |   Package words is already up-to-date!\n",
      "[nltk_data]    | Downloading package maxent_ne_chunker to\n",
      "[nltk_data]    |     C:\\Users\\Asiyah\\AppData\\Roaming\\nltk_data...\n",
      "[nltk_data]    |   Package maxent_ne_chunker is already up-to-date!\n",
      "[nltk_data]    | Downloading package punkt to\n",
      "[nltk_data]    |     C:\\Users\\Asiyah\\AppData\\Roaming\\nltk_data...\n",
      "[nltk_data]    |   Package punkt is already up-to-date!\n",
      "[nltk_data]    | Downloading package snowball_data to\n",
      "[nltk_data]    |     C:\\Users\\Asiyah\\AppData\\Roaming\\nltk_data...\n",
      "[nltk_data]    |   Package snowball_data is already up-to-date!\n",
      "[nltk_data]    | Downloading package averaged_perceptron_tagger to\n",
      "[nltk_data]    |     C:\\Users\\Asiyah\\AppData\\Roaming\\nltk_data...\n",
      "[nltk_data]    |   Package averaged_perceptron_tagger is already up-\n",
      "[nltk_data]    |       to-date!\n",
      "[nltk_data]    | \n",
      "[nltk_data]  Done downloading collection popular\n"
     ]
    },
    {
     "name": "stdout",
     "output_type": "stream",
     "text": [
      "Requirement already satisfied: Sastrawi in c:\\users\\asiyah\\anaconda3\\envs\\asiyahnk\\lib\\site-packages (1.0.1)\n",
      "Requirement already satisfied: nlp-id in c:\\users\\asiyah\\anaconda3\\envs\\asiyahnk\\lib\\site-packages (0.1.15.0)\n",
      "Requirement already satisfied: scikit-learn==1.2.2 in c:\\users\\asiyah\\anaconda3\\envs\\asiyahnk\\lib\\site-packages (from nlp-id) (1.2.2)\n",
      "Requirement already satisfied: nltk==3.8.1 in c:\\users\\asiyah\\anaconda3\\envs\\asiyahnk\\lib\\site-packages (from nlp-id) (3.8.1)\n",
      "Requirement already satisfied: wget==3.2 in c:\\users\\asiyah\\anaconda3\\envs\\asiyahnk\\lib\\site-packages (from nlp-id) (3.2)\n",
      "Requirement already satisfied: pytest==7.3.1 in c:\\users\\asiyah\\anaconda3\\envs\\asiyahnk\\lib\\site-packages (from nlp-id) (7.3.1)\n",
      "Requirement already satisfied: click in c:\\users\\asiyah\\anaconda3\\envs\\asiyahnk\\lib\\site-packages (from nltk==3.8.1->nlp-id) (8.1.7)\n",
      "Requirement already satisfied: joblib in c:\\users\\asiyah\\anaconda3\\envs\\asiyahnk\\lib\\site-packages (from nltk==3.8.1->nlp-id) (1.4.2)\n",
      "Requirement already satisfied: regex>=2021.8.3 in c:\\users\\asiyah\\anaconda3\\envs\\asiyahnk\\lib\\site-packages (from nltk==3.8.1->nlp-id) (2024.7.24)\n",
      "Requirement already satisfied: tqdm in c:\\users\\asiyah\\anaconda3\\envs\\asiyahnk\\lib\\site-packages (from nltk==3.8.1->nlp-id) (4.66.4)\n",
      "Requirement already satisfied: iniconfig in c:\\users\\asiyah\\anaconda3\\envs\\asiyahnk\\lib\\site-packages (from pytest==7.3.1->nlp-id) (2.0.0)\n",
      "Requirement already satisfied: packaging in c:\\users\\asiyah\\anaconda3\\envs\\asiyahnk\\lib\\site-packages (from pytest==7.3.1->nlp-id) (24.1)\n",
      "Requirement already satisfied: pluggy<2.0,>=0.12 in c:\\users\\asiyah\\anaconda3\\envs\\asiyahnk\\lib\\site-packages (from pytest==7.3.1->nlp-id) (1.5.0)\n",
      "Requirement already satisfied: exceptiongroup>=1.0.0rc8 in c:\\users\\asiyah\\anaconda3\\envs\\asiyahnk\\lib\\site-packages (from pytest==7.3.1->nlp-id) (1.2.0)\n",
      "Requirement already satisfied: tomli>=1.0.0 in c:\\users\\asiyah\\anaconda3\\envs\\asiyahnk\\lib\\site-packages (from pytest==7.3.1->nlp-id) (2.0.1)\n",
      "Requirement already satisfied: colorama in c:\\users\\asiyah\\anaconda3\\envs\\asiyahnk\\lib\\site-packages (from pytest==7.3.1->nlp-id) (0.4.6)\n",
      "Requirement already satisfied: numpy>=1.17.3 in c:\\users\\asiyah\\anaconda3\\envs\\asiyahnk\\lib\\site-packages (from scikit-learn==1.2.2->nlp-id) (1.24.3)\n",
      "Requirement already satisfied: scipy>=1.3.2 in c:\\users\\asiyah\\anaconda3\\envs\\asiyahnk\\lib\\site-packages (from scikit-learn==1.2.2->nlp-id) (1.10.1)\n",
      "Requirement already satisfied: threadpoolctl>=2.0.0 in c:\\users\\asiyah\\anaconda3\\envs\\asiyahnk\\lib\\site-packages (from scikit-learn==1.2.2->nlp-id) (3.5.0)\n",
      "Requirement already satisfied: transformers in c:\\users\\asiyah\\anaconda3\\envs\\asiyahnk\\lib\\site-packages (4.44.0)\n",
      "Requirement already satisfied: filelock in c:\\users\\asiyah\\anaconda3\\envs\\asiyahnk\\lib\\site-packages (from transformers) (3.15.4)\n",
      "Requirement already satisfied: huggingface-hub<1.0,>=0.23.2 in c:\\users\\asiyah\\anaconda3\\envs\\asiyahnk\\lib\\site-packages (from transformers) (0.24.6)\n",
      "Requirement already satisfied: numpy>=1.17 in c:\\users\\asiyah\\anaconda3\\envs\\asiyahnk\\lib\\site-packages (from transformers) (1.24.3)\n",
      "Requirement already satisfied: packaging>=20.0 in c:\\users\\asiyah\\anaconda3\\envs\\asiyahnk\\lib\\site-packages (from transformers) (24.1)\n",
      "Requirement already satisfied: pyyaml>=5.1 in c:\\users\\asiyah\\anaconda3\\envs\\asiyahnk\\lib\\site-packages (from transformers) (6.0.1)\n",
      "Requirement already satisfied: regex!=2019.12.17 in c:\\users\\asiyah\\anaconda3\\envs\\asiyahnk\\lib\\site-packages (from transformers) (2024.7.24)\n",
      "Requirement already satisfied: requests in c:\\users\\asiyah\\anaconda3\\envs\\asiyahnk\\lib\\site-packages (from transformers) (2.32.3)\n",
      "Requirement already satisfied: safetensors>=0.4.1 in c:\\users\\asiyah\\anaconda3\\envs\\asiyahnk\\lib\\site-packages (from transformers) (0.4.4)\n",
      "Requirement already satisfied: tokenizers<0.20,>=0.19 in c:\\users\\asiyah\\anaconda3\\envs\\asiyahnk\\lib\\site-packages (from transformers) (0.19.1)\n",
      "Requirement already satisfied: tqdm>=4.27 in c:\\users\\asiyah\\anaconda3\\envs\\asiyahnk\\lib\\site-packages (from transformers) (4.66.4)\n",
      "Requirement already satisfied: fsspec>=2023.5.0 in c:\\users\\asiyah\\anaconda3\\envs\\asiyahnk\\lib\\site-packages (from huggingface-hub<1.0,>=0.23.2->transformers) (2024.6.1)\n",
      "Requirement already satisfied: typing-extensions>=3.7.4.3 in c:\\users\\asiyah\\anaconda3\\envs\\asiyahnk\\lib\\site-packages (from huggingface-hub<1.0,>=0.23.2->transformers) (4.11.0)\n",
      "Requirement already satisfied: colorama in c:\\users\\asiyah\\anaconda3\\envs\\asiyahnk\\lib\\site-packages (from tqdm>=4.27->transformers) (0.4.6)\n",
      "Requirement already satisfied: charset-normalizer<4,>=2 in c:\\users\\asiyah\\anaconda3\\envs\\asiyahnk\\lib\\site-packages (from requests->transformers) (3.3.2)\n",
      "Requirement already satisfied: idna<4,>=2.5 in c:\\users\\asiyah\\anaconda3\\envs\\asiyahnk\\lib\\site-packages (from requests->transformers) (3.7)\n",
      "Requirement already satisfied: urllib3<3,>=1.21.1 in c:\\users\\asiyah\\anaconda3\\envs\\asiyahnk\\lib\\site-packages (from requests->transformers) (1.26.19)\n",
      "Requirement already satisfied: certifi>=2017.4.17 in c:\\users\\asiyah\\anaconda3\\envs\\asiyahnk\\lib\\site-packages (from requests->transformers) (2024.7.4)\n",
      "Requirement already satisfied: torch in c:\\users\\asiyah\\anaconda3\\envs\\asiyahnk\\lib\\site-packages (2.4.0)\n",
      "Requirement already satisfied: filelock in c:\\users\\asiyah\\anaconda3\\envs\\asiyahnk\\lib\\site-packages (from torch) (3.15.4)\n",
      "Requirement already satisfied: typing-extensions>=4.8.0 in c:\\users\\asiyah\\anaconda3\\envs\\asiyahnk\\lib\\site-packages (from torch) (4.11.0)\n",
      "Requirement already satisfied: sympy in c:\\users\\asiyah\\anaconda3\\envs\\asiyahnk\\lib\\site-packages (from torch) (1.13.2)\n",
      "Requirement already satisfied: networkx in c:\\users\\asiyah\\anaconda3\\envs\\asiyahnk\\lib\\site-packages (from torch) (2.6.3)\n",
      "Requirement already satisfied: jinja2 in c:\\users\\asiyah\\anaconda3\\envs\\asiyahnk\\lib\\site-packages (from torch) (3.1.4)\n",
      "Requirement already satisfied: fsspec in c:\\users\\asiyah\\anaconda3\\envs\\asiyahnk\\lib\\site-packages (from torch) (2024.6.1)\n",
      "Requirement already satisfied: MarkupSafe>=2.0 in c:\\users\\asiyah\\anaconda3\\envs\\asiyahnk\\lib\\site-packages (from jinja2->torch) (2.1.3)\n",
      "Requirement already satisfied: mpmath<1.4,>=1.1.0 in c:\\users\\asiyah\\anaconda3\\envs\\asiyahnk\\lib\\site-packages (from sympy->torch) (1.3.0)\n",
      "Requirement already satisfied: tensorflow in c:\\users\\asiyah\\anaconda3\\envs\\asiyahnk\\lib\\site-packages (2.10.0)\n",
      "Requirement already satisfied: absl-py>=1.0.0 in c:\\users\\asiyah\\anaconda3\\envs\\asiyahnk\\lib\\site-packages (from tensorflow) (2.1.0)\n",
      "Requirement already satisfied: astunparse>=1.6.0 in c:\\users\\asiyah\\anaconda3\\envs\\asiyahnk\\lib\\site-packages (from tensorflow) (1.6.3)\n",
      "Requirement already satisfied: flatbuffers>=2.0 in c:\\users\\asiyah\\anaconda3\\envs\\asiyahnk\\lib\\site-packages (from tensorflow) (24.3.25)\n",
      "Requirement already satisfied: gast<=0.4.0,>=0.2.1 in c:\\users\\asiyah\\anaconda3\\envs\\asiyahnk\\lib\\site-packages (from tensorflow) (0.4.0)\n",
      "Requirement already satisfied: google-pasta>=0.1.1 in c:\\users\\asiyah\\anaconda3\\envs\\asiyahnk\\lib\\site-packages (from tensorflow) (0.2.0)\n",
      "Requirement already satisfied: h5py>=2.9.0 in c:\\users\\asiyah\\anaconda3\\envs\\asiyahnk\\lib\\site-packages (from tensorflow) (3.11.0)\n",
      "Requirement already satisfied: keras-preprocessing>=1.1.1 in c:\\users\\asiyah\\anaconda3\\envs\\asiyahnk\\lib\\site-packages (from tensorflow) (1.1.2)\n",
      "Requirement already satisfied: libclang>=13.0.0 in c:\\users\\asiyah\\anaconda3\\envs\\asiyahnk\\lib\\site-packages (from tensorflow) (18.1.1)\n",
      "Requirement already satisfied: numpy>=1.20 in c:\\users\\asiyah\\anaconda3\\envs\\asiyahnk\\lib\\site-packages (from tensorflow) (1.24.3)\n",
      "Requirement already satisfied: opt-einsum>=2.3.2 in c:\\users\\asiyah\\anaconda3\\envs\\asiyahnk\\lib\\site-packages (from tensorflow) (3.3.0)\n",
      "Requirement already satisfied: packaging in c:\\users\\asiyah\\anaconda3\\envs\\asiyahnk\\lib\\site-packages (from tensorflow) (24.1)\n",
      "Requirement already satisfied: protobuf<3.20,>=3.9.2 in c:\\users\\asiyah\\anaconda3\\envs\\asiyahnk\\lib\\site-packages (from tensorflow) (3.19.6)\n",
      "Requirement already satisfied: setuptools in c:\\users\\asiyah\\anaconda3\\envs\\asiyahnk\\lib\\site-packages (from tensorflow) (72.1.0)\n",
      "Requirement already satisfied: six>=1.12.0 in c:\\users\\asiyah\\anaconda3\\envs\\asiyahnk\\lib\\site-packages (from tensorflow) (1.16.0)\n",
      "Requirement already satisfied: termcolor>=1.1.0 in c:\\users\\asiyah\\anaconda3\\envs\\asiyahnk\\lib\\site-packages (from tensorflow) (2.1.0)\n",
      "Requirement already satisfied: typing-extensions>=3.6.6 in c:\\users\\asiyah\\anaconda3\\envs\\asiyahnk\\lib\\site-packages (from tensorflow) (4.11.0)\n",
      "Requirement already satisfied: wrapt>=1.11.0 in c:\\users\\asiyah\\anaconda3\\envs\\asiyahnk\\lib\\site-packages (from tensorflow) (1.14.1)\n",
      "Requirement already satisfied: tensorflow-io-gcs-filesystem>=0.23.1 in c:\\users\\asiyah\\anaconda3\\envs\\asiyahnk\\lib\\site-packages (from tensorflow) (0.31.0)\n",
      "Requirement already satisfied: grpcio<2.0,>=1.24.3 in c:\\users\\asiyah\\anaconda3\\envs\\asiyahnk\\lib\\site-packages (from tensorflow) (1.48.2)\n",
      "Requirement already satisfied: tensorboard<2.11,>=2.10 in c:\\users\\asiyah\\anaconda3\\envs\\asiyahnk\\lib\\site-packages (from tensorflow) (2.10.0)\n",
      "Requirement already satisfied: tensorflow-estimator<2.11,>=2.10.0 in c:\\users\\asiyah\\anaconda3\\envs\\asiyahnk\\lib\\site-packages (from tensorflow) (2.10.0)\n",
      "Requirement already satisfied: keras<2.11,>=2.10.0 in c:\\users\\asiyah\\anaconda3\\envs\\asiyahnk\\lib\\site-packages (from tensorflow) (2.10.0)\n",
      "Requirement already satisfied: wheel<1.0,>=0.23.0 in c:\\users\\asiyah\\anaconda3\\envs\\asiyahnk\\lib\\site-packages (from astunparse>=1.6.0->tensorflow) (0.43.0)\n",
      "Requirement already satisfied: google-auth<3,>=1.6.3 in c:\\users\\asiyah\\anaconda3\\envs\\asiyahnk\\lib\\site-packages (from tensorboard<2.11,>=2.10->tensorflow) (2.29.0)\n",
      "Requirement already satisfied: google-auth-oauthlib<0.5,>=0.4.1 in c:\\users\\asiyah\\anaconda3\\envs\\asiyahnk\\lib\\site-packages (from tensorboard<2.11,>=2.10->tensorflow) (0.4.4)\n",
      "Requirement already satisfied: markdown>=2.6.8 in c:\\users\\asiyah\\anaconda3\\envs\\asiyahnk\\lib\\site-packages (from tensorboard<2.11,>=2.10->tensorflow) (3.4.1)\n",
      "Requirement already satisfied: requests<3,>=2.21.0 in c:\\users\\asiyah\\anaconda3\\envs\\asiyahnk\\lib\\site-packages (from tensorboard<2.11,>=2.10->tensorflow) (2.32.3)\n",
      "Requirement already satisfied: tensorboard-data-server<0.7.0,>=0.6.0 in c:\\users\\asiyah\\anaconda3\\envs\\asiyahnk\\lib\\site-packages (from tensorboard<2.11,>=2.10->tensorflow) (0.6.1)\n",
      "Requirement already satisfied: tensorboard-plugin-wit>=1.6.0 in c:\\users\\asiyah\\anaconda3\\envs\\asiyahnk\\lib\\site-packages (from tensorboard<2.11,>=2.10->tensorflow) (1.8.1)\n",
      "Requirement already satisfied: werkzeug>=1.0.1 in c:\\users\\asiyah\\anaconda3\\envs\\asiyahnk\\lib\\site-packages (from tensorboard<2.11,>=2.10->tensorflow) (3.0.3)\n",
      "Requirement already satisfied: cachetools<6.0,>=2.0.0 in c:\\users\\asiyah\\anaconda3\\envs\\asiyahnk\\lib\\site-packages (from google-auth<3,>=1.6.3->tensorboard<2.11,>=2.10->tensorflow) (5.3.3)\n",
      "Requirement already satisfied: pyasn1-modules>=0.2.1 in c:\\users\\asiyah\\anaconda3\\envs\\asiyahnk\\lib\\site-packages (from google-auth<3,>=1.6.3->tensorboard<2.11,>=2.10->tensorflow) (0.2.8)\n",
      "Requirement already satisfied: rsa<5,>=3.1.4 in c:\\users\\asiyah\\anaconda3\\envs\\asiyahnk\\lib\\site-packages (from google-auth<3,>=1.6.3->tensorboard<2.11,>=2.10->tensorflow) (4.7.2)\n",
      "Requirement already satisfied: requests-oauthlib>=0.7.0 in c:\\users\\asiyah\\anaconda3\\envs\\asiyahnk\\lib\\site-packages (from google-auth-oauthlib<0.5,>=0.4.1->tensorboard<2.11,>=2.10->tensorflow) (2.0.0)\n",
      "Requirement already satisfied: importlib-metadata>=4.4 in c:\\users\\asiyah\\anaconda3\\envs\\asiyahnk\\lib\\site-packages (from markdown>=2.6.8->tensorboard<2.11,>=2.10->tensorflow) (7.0.1)\n",
      "Requirement already satisfied: charset-normalizer<4,>=2 in c:\\users\\asiyah\\anaconda3\\envs\\asiyahnk\\lib\\site-packages (from requests<3,>=2.21.0->tensorboard<2.11,>=2.10->tensorflow) (3.3.2)\n",
      "Requirement already satisfied: idna<4,>=2.5 in c:\\users\\asiyah\\anaconda3\\envs\\asiyahnk\\lib\\site-packages (from requests<3,>=2.21.0->tensorboard<2.11,>=2.10->tensorflow) (3.7)\n",
      "Requirement already satisfied: urllib3<3,>=1.21.1 in c:\\users\\asiyah\\anaconda3\\envs\\asiyahnk\\lib\\site-packages (from requests<3,>=2.21.0->tensorboard<2.11,>=2.10->tensorflow) (1.26.19)\n",
      "Requirement already satisfied: certifi>=2017.4.17 in c:\\users\\asiyah\\anaconda3\\envs\\asiyahnk\\lib\\site-packages (from requests<3,>=2.21.0->tensorboard<2.11,>=2.10->tensorflow) (2024.7.4)\n",
      "Requirement already satisfied: MarkupSafe>=2.1.1 in c:\\users\\asiyah\\anaconda3\\envs\\asiyahnk\\lib\\site-packages (from werkzeug>=1.0.1->tensorboard<2.11,>=2.10->tensorflow) (2.1.3)\n",
      "Requirement already satisfied: zipp>=0.5 in c:\\users\\asiyah\\anaconda3\\envs\\asiyahnk\\lib\\site-packages (from importlib-metadata>=4.4->markdown>=2.6.8->tensorboard<2.11,>=2.10->tensorflow) (3.17.0)\n",
      "Requirement already satisfied: pyasn1<0.5.0,>=0.4.6 in c:\\users\\asiyah\\anaconda3\\envs\\asiyahnk\\lib\\site-packages (from pyasn1-modules>=0.2.1->google-auth<3,>=1.6.3->tensorboard<2.11,>=2.10->tensorflow) (0.4.8)\n",
      "Requirement already satisfied: oauthlib>=3.0.0 in c:\\users\\asiyah\\anaconda3\\envs\\asiyahnk\\lib\\site-packages (from requests-oauthlib>=0.7.0->google-auth-oauthlib<0.5,>=0.4.1->tensorboard<2.11,>=2.10->tensorflow) (3.2.2)\n",
      "Requirement already satisfied: bertviz in c:\\users\\asiyah\\anaconda3\\envs\\asiyahnk\\lib\\site-packages (1.4.0)\n",
      "Requirement already satisfied: transformers>=2.0 in c:\\users\\asiyah\\anaconda3\\envs\\asiyahnk\\lib\\site-packages (from bertviz) (4.44.0)\n",
      "Requirement already satisfied: torch>=1.0 in c:\\users\\asiyah\\anaconda3\\envs\\asiyahnk\\lib\\site-packages (from bertviz) (2.4.0)\n",
      "Requirement already satisfied: tqdm in c:\\users\\asiyah\\anaconda3\\envs\\asiyahnk\\lib\\site-packages (from bertviz) (4.66.4)\n",
      "Requirement already satisfied: boto3 in c:\\users\\asiyah\\anaconda3\\envs\\asiyahnk\\lib\\site-packages (from bertviz) (1.35.1)\n",
      "Requirement already satisfied: requests in c:\\users\\asiyah\\anaconda3\\envs\\asiyahnk\\lib\\site-packages (from bertviz) (2.32.3)\n",
      "Requirement already satisfied: regex in c:\\users\\asiyah\\anaconda3\\envs\\asiyahnk\\lib\\site-packages (from bertviz) (2024.7.24)\n",
      "Requirement already satisfied: sentencepiece in c:\\users\\asiyah\\anaconda3\\envs\\asiyahnk\\lib\\site-packages (from bertviz) (0.2.0)\n",
      "Requirement already satisfied: filelock in c:\\users\\asiyah\\anaconda3\\envs\\asiyahnk\\lib\\site-packages (from torch>=1.0->bertviz) (3.15.4)\n",
      "Requirement already satisfied: typing-extensions>=4.8.0 in c:\\users\\asiyah\\anaconda3\\envs\\asiyahnk\\lib\\site-packages (from torch>=1.0->bertviz) (4.11.0)\n",
      "Requirement already satisfied: sympy in c:\\users\\asiyah\\anaconda3\\envs\\asiyahnk\\lib\\site-packages (from torch>=1.0->bertviz) (1.13.2)\n",
      "Requirement already satisfied: networkx in c:\\users\\asiyah\\anaconda3\\envs\\asiyahnk\\lib\\site-packages (from torch>=1.0->bertviz) (2.6.3)\n",
      "Requirement already satisfied: jinja2 in c:\\users\\asiyah\\anaconda3\\envs\\asiyahnk\\lib\\site-packages (from torch>=1.0->bertviz) (3.1.4)\n",
      "Requirement already satisfied: fsspec in c:\\users\\asiyah\\anaconda3\\envs\\asiyahnk\\lib\\site-packages (from torch>=1.0->bertviz) (2024.6.1)\n",
      "Requirement already satisfied: huggingface-hub<1.0,>=0.23.2 in c:\\users\\asiyah\\anaconda3\\envs\\asiyahnk\\lib\\site-packages (from transformers>=2.0->bertviz) (0.24.6)\n",
      "Requirement already satisfied: numpy>=1.17 in c:\\users\\asiyah\\anaconda3\\envs\\asiyahnk\\lib\\site-packages (from transformers>=2.0->bertviz) (1.24.3)\n",
      "Requirement already satisfied: packaging>=20.0 in c:\\users\\asiyah\\anaconda3\\envs\\asiyahnk\\lib\\site-packages (from transformers>=2.0->bertviz) (24.1)\n",
      "Requirement already satisfied: pyyaml>=5.1 in c:\\users\\asiyah\\anaconda3\\envs\\asiyahnk\\lib\\site-packages (from transformers>=2.0->bertviz) (6.0.1)\n",
      "Requirement already satisfied: safetensors>=0.4.1 in c:\\users\\asiyah\\anaconda3\\envs\\asiyahnk\\lib\\site-packages (from transformers>=2.0->bertviz) (0.4.4)\n",
      "Requirement already satisfied: tokenizers<0.20,>=0.19 in c:\\users\\asiyah\\anaconda3\\envs\\asiyahnk\\lib\\site-packages (from transformers>=2.0->bertviz) (0.19.1)\n",
      "Requirement already satisfied: colorama in c:\\users\\asiyah\\anaconda3\\envs\\asiyahnk\\lib\\site-packages (from tqdm->bertviz) (0.4.6)\n",
      "Requirement already satisfied: botocore<1.36.0,>=1.35.1 in c:\\users\\asiyah\\anaconda3\\envs\\asiyahnk\\lib\\site-packages (from boto3->bertviz) (1.35.1)\n",
      "Requirement already satisfied: jmespath<2.0.0,>=0.7.1 in c:\\users\\asiyah\\anaconda3\\envs\\asiyahnk\\lib\\site-packages (from boto3->bertviz) (1.0.1)\n",
      "Requirement already satisfied: s3transfer<0.11.0,>=0.10.0 in c:\\users\\asiyah\\anaconda3\\envs\\asiyahnk\\lib\\site-packages (from boto3->bertviz) (0.10.2)\n",
      "Requirement already satisfied: charset-normalizer<4,>=2 in c:\\users\\asiyah\\anaconda3\\envs\\asiyahnk\\lib\\site-packages (from requests->bertviz) (3.3.2)\n",
      "Requirement already satisfied: idna<4,>=2.5 in c:\\users\\asiyah\\anaconda3\\envs\\asiyahnk\\lib\\site-packages (from requests->bertviz) (3.7)\n",
      "Requirement already satisfied: urllib3<3,>=1.21.1 in c:\\users\\asiyah\\anaconda3\\envs\\asiyahnk\\lib\\site-packages (from requests->bertviz) (1.26.19)\n",
      "Requirement already satisfied: certifi>=2017.4.17 in c:\\users\\asiyah\\anaconda3\\envs\\asiyahnk\\lib\\site-packages (from requests->bertviz) (2024.7.4)\n",
      "Requirement already satisfied: python-dateutil<3.0.0,>=2.1 in c:\\users\\asiyah\\anaconda3\\envs\\asiyahnk\\lib\\site-packages (from botocore<1.36.0,>=1.35.1->boto3->bertviz) (2.9.0.post0)\n",
      "Requirement already satisfied: MarkupSafe>=2.0 in c:\\users\\asiyah\\anaconda3\\envs\\asiyahnk\\lib\\site-packages (from jinja2->torch>=1.0->bertviz) (2.1.3)\n",
      "Requirement already satisfied: mpmath<1.4,>=1.1.0 in c:\\users\\asiyah\\anaconda3\\envs\\asiyahnk\\lib\\site-packages (from sympy->torch>=1.0->bertviz) (1.3.0)\n",
      "Requirement already satisfied: six>=1.5 in c:\\users\\asiyah\\anaconda3\\envs\\asiyahnk\\lib\\site-packages (from python-dateutil<3.0.0,>=2.1->botocore<1.36.0,>=1.35.1->boto3->bertviz) (1.16.0)\n",
      "Requirement already satisfied: joblib in c:\\users\\asiyah\\anaconda3\\envs\\asiyahnk\\lib\\site-packages (1.4.2)\n",
      "Requirement already satisfied: networkx==2.6.3 in c:\\users\\asiyah\\anaconda3\\envs\\asiyahnk\\lib\\site-packages (2.6.3)\n"
     ]
    }
   ],
   "source": [
    "import nltk\n",
    "nltk.download(\"popular\")\n",
    "from nltk.corpus import stopwords\n",
    "!pip install Sastrawi\n",
    "from Sastrawi.Stemmer.StemmerFactory import StemmerFactory\n",
    "!pip install nlp-id\n",
    "!pip install transformers\n",
    "from keras.preprocessing import sequence\n",
    "import numpy as np\n",
    "!pip install torch\n",
    "!pip install tensorflow\n",
    "!pip install bertviz\n",
    "!pip install joblib\n",
    "!pip install networkx==2.6.3"
   ]
  },
  {
   "cell_type": "markdown",
   "metadata": {
    "id": "xxdk5_utpnx8"
   },
   "source": [
    "# Init Data"
   ]
  },
  {
   "cell_type": "code",
   "execution_count": 2,
   "metadata": {},
   "outputs": [
    {
     "name": "stdout",
     "output_type": "stream",
     "text": [
      "Package                      Version\n",
      "---------------------------- ------------\n",
      "absl-py                      2.1.0\n",
      "aiohttp                      3.9.5\n",
      "aiosignal                    1.2.0\n",
      "annotated-types              0.6.0\n",
      "anyio                        4.2.0\n",
      "argon2-cffi                  21.3.0\n",
      "argon2-cffi-bindings         21.2.0\n",
      "asttokens                    2.0.5\n",
      "astunparse                   1.6.3\n",
      "async-lru                    2.0.4\n",
      "async-timeout                4.0.3\n",
      "attrs                        23.1.0\n",
      "Babel                        2.11.0\n",
      "backcall                     0.2.0\n",
      "beautifulsoup4               4.12.3\n",
      "bertviz                      1.4.0\n",
      "bleach                       4.1.0\n",
      "blinker                      1.6.2\n",
      "blis                         0.7.9\n",
      "boto3                        1.35.1\n",
      "botocore                     1.35.1\n",
      "Bottleneck                   1.3.7\n",
      "Brotli                       1.0.9\n",
      "cachetools                   5.3.3\n",
      "catalogue                    2.0.10\n",
      "certifi                      2024.7.4\n",
      "cffi                         1.16.0\n",
      "charset-normalizer           3.3.2\n",
      "click                        8.1.7\n",
      "cloudpathlib                 0.16.0\n",
      "colorama                     0.4.6\n",
      "comm                         0.2.1\n",
      "confection                   0.1.4\n",
      "contourpy                    1.0.5\n",
      "cryptography                 41.0.3\n",
      "cycler                       0.11.0\n",
      "cymem                        2.0.6\n",
      "debugpy                      1.6.7\n",
      "decorator                    5.1.1\n",
      "defusedxml                   0.7.1\n",
      "et-xmlfile                   1.1.0\n",
      "exceptiongroup               1.2.0\n",
      "executing                    0.8.3\n",
      "fastjsonschema               2.16.2\n",
      "filelock                     3.15.4\n",
      "flatbuffers                  24.3.25\n",
      "fonttools                    4.51.0\n",
      "frozenlist                   1.4.0\n",
      "fsspec                       2024.6.1\n",
      "gast                         0.4.0\n",
      "gensim                       4.3.2\n",
      "google-auth                  2.29.0\n",
      "google-auth-oauthlib         0.4.4\n",
      "google-pasta                 0.2.0\n",
      "grpcio                       1.48.2\n",
      "h5py                         3.11.0\n",
      "huggingface-hub              0.24.6\n",
      "idna                         3.7\n",
      "importlib-metadata           7.0.1\n",
      "importlib_resources          6.4.0\n",
      "iniconfig                    2.0.0\n",
      "ipykernel                    6.28.0\n",
      "ipython                      8.12.2\n",
      "jedi                         0.19.1\n",
      "Jinja2                       3.1.4\n",
      "jmespath                     1.0.1\n",
      "joblib                       1.4.2\n",
      "json5                        0.9.6\n",
      "jsonschema                   4.19.2\n",
      "jsonschema-specifications    2023.7.1\n",
      "jupyter_client               8.6.0\n",
      "jupyter_core                 5.7.2\n",
      "jupyter-events               0.10.0\n",
      "jupyter-lsp                  2.2.0\n",
      "jupyter_server               2.14.1\n",
      "jupyter_server_terminals     0.4.4\n",
      "jupyterlab                   4.0.11\n",
      "jupyterlab-pygments          0.1.2\n",
      "jupyterlab_server            2.25.1\n",
      "keras                        2.10.0\n",
      "Keras-Preprocessing          1.1.2\n",
      "kiwisolver                   1.4.4\n",
      "langcodes                    3.3.0\n",
      "libclang                     18.1.1\n",
      "Markdown                     3.4.1\n",
      "markdown-it-py               2.2.0\n",
      "MarkupSafe                   2.1.3\n",
      "matplotlib                   3.7.2\n",
      "matplotlib-inline            0.1.6\n",
      "mdurl                        0.1.0\n",
      "mistune                      2.0.4\n",
      "mkl-fft                      1.3.8\n",
      "mkl-random                   1.2.4\n",
      "mkl-service                  2.4.0\n",
      "mpmath                       1.3.0\n",
      "multidict                    6.0.4\n",
      "murmurhash                   1.0.7\n",
      "nbclient                     0.8.0\n",
      "nbconvert                    7.10.0\n",
      "nbformat                     5.9.2\n",
      "nest-asyncio                 1.6.0\n",
      "networkx                     2.6.3\n",
      "nlp-id                       0.1.15.0\n",
      "nltk                         3.8.1\n",
      "notebook_shim                0.2.3\n",
      "numexpr                      2.8.4\n",
      "numpy                        1.24.3\n",
      "oauthlib                     3.2.2\n",
      "openpyxl                     3.1.5\n",
      "opt-einsum                   3.3.0\n",
      "overrides                    7.4.0\n",
      "packaging                    24.1\n",
      "pandas                       2.0.3\n",
      "pandocfilters                1.5.0\n",
      "parso                        0.8.3\n",
      "pickleshare                  0.7.5\n",
      "pillow                       10.4.0\n",
      "pip                          24.2\n",
      "pkgutil_resolve_name         1.3.10\n",
      "platformdirs                 3.10.0\n",
      "pluggy                       1.5.0\n",
      "ply                          3.11\n",
      "pooch                        1.7.0\n",
      "preshed                      3.0.6\n",
      "prometheus-client            0.14.1\n",
      "prompt-toolkit               3.0.43\n",
      "protobuf                     3.19.6\n",
      "psutil                       5.9.0\n",
      "pure-eval                    0.2.2\n",
      "pyasn1                       0.4.8\n",
      "pyasn1-modules               0.2.8\n",
      "pycparser                    2.21\n",
      "pydantic                     2.5.3\n",
      "pydantic_core                2.14.6\n",
      "Pygments                     2.15.1\n",
      "PyJWT                        2.8.0\n",
      "pyOpenSSL                    23.2.0\n",
      "pyparsing                    3.0.9\n",
      "PyQt5                        5.15.10\n",
      "PyQt5-sip                    12.13.0\n",
      "PySocks                      1.7.1\n",
      "pytest                       7.3.1\n",
      "python-dateutil              2.9.0.post0\n",
      "python-json-logger           2.0.7\n",
      "pytz                         2024.1\n",
      "pywin32                      305.1\n",
      "pywinpty                     2.0.10\n",
      "PyYAML                       6.0.1\n",
      "pyzmq                        25.1.2\n",
      "referencing                  0.30.2\n",
      "regex                        2024.7.24\n",
      "requests                     2.32.3\n",
      "requests-oauthlib            2.0.0\n",
      "rfc3339-validator            0.1.4\n",
      "rfc3986-validator            0.1.1\n",
      "rich                         13.7.1\n",
      "rpds-py                      0.10.6\n",
      "rsa                          4.7.2\n",
      "s3transfer                   0.10.2\n",
      "safetensors                  0.4.4\n",
      "Sastrawi                     1.0.1\n",
      "scikit-learn                 1.2.2\n",
      "scipy                        1.10.1\n",
      "Send2Trash                   1.8.2\n",
      "sentencepiece                0.2.0\n",
      "setuptools                   72.1.0\n",
      "shellingham                  1.5.0\n",
      "sip                          6.7.12\n",
      "six                          1.16.0\n",
      "smart-open                   5.2.1\n",
      "sniffio                      1.3.0\n",
      "soupsieve                    2.5\n",
      "spacy                        3.7.2\n",
      "spacy-legacy                 3.0.12\n",
      "spacy-loggers                1.0.4\n",
      "srsly                        2.4.8\n",
      "stack-data                   0.2.0\n",
      "sympy                        1.13.2\n",
      "tensorboard                  2.10.0\n",
      "tensorboard-data-server      0.6.1\n",
      "tensorboard-plugin-wit       1.8.1\n",
      "tensorflow                   2.10.0\n",
      "tensorflow-estimator         2.10.0\n",
      "tensorflow-io-gcs-filesystem 0.31.0\n",
      "termcolor                    2.1.0\n",
      "terminado                    0.17.1\n",
      "textblob                     0.18.0.post0\n",
      "thinc                        8.2.2\n",
      "threadpoolctl                3.5.0\n",
      "tinycss2                     1.2.1\n",
      "tokenizers                   0.19.1\n",
      "tomli                        2.0.1\n",
      "torch                        2.4.0\n",
      "tornado                      6.4.1\n",
      "tqdm                         4.66.4\n",
      "traitlets                    5.14.3\n",
      "transformers                 4.44.0\n",
      "typer                        0.9.0\n",
      "typing_extensions            4.11.0\n",
      "tzdata                       2023.3\n",
      "unicodedata2                 15.1.0\n",
      "urllib3                      1.26.19\n",
      "wasabi                       0.9.1\n",
      "wcwidth                      0.2.5\n",
      "weasel                       0.3.4\n",
      "webencodings                 0.5.1\n",
      "websocket-client             1.8.0\n",
      "Werkzeug                     3.0.3\n",
      "wget                         3.2\n",
      "wheel                        0.43.0\n",
      "win-inet-pton                1.1.0\n",
      "wrapt                        1.14.1\n",
      "yarl                         1.9.3\n",
      "zipp                         3.17.0\n",
      "Note: you may need to restart the kernel to use updated packages.\n"
     ]
    }
   ],
   "source": [
    "pip list"
   ]
  },
  {
   "cell_type": "code",
   "execution_count": 3,
   "metadata": {
    "colab": {
     "base_uri": "https://localhost:8080/"
    },
    "id": "rVY5wHNuR8XW",
    "outputId": "320092cb-4e2e-481f-9a6d-06cf6212a5bd"
   },
   "outputs": [],
   "source": [
    "# from google.colab import drive\n",
    "# drive.mount('/content/drive')"
   ]
  },
  {
   "cell_type": "code",
   "execution_count": 4,
   "metadata": {
    "colab": {
     "base_uri": "https://localhost:8080/",
     "height": 1000
    },
    "id": "EIpqk-EJlH5s",
    "outputId": "82f0106c-801b-43a9-9efd-18eb4ec84bf3"
   },
   "outputs": [
    {
     "data": {
      "text/html": [
       "<div>\n",
       "<style scoped>\n",
       "    .dataframe tbody tr th:only-of-type {\n",
       "        vertical-align: middle;\n",
       "    }\n",
       "\n",
       "    .dataframe tbody tr th {\n",
       "        vertical-align: top;\n",
       "    }\n",
       "\n",
       "    .dataframe thead th {\n",
       "        text-align: right;\n",
       "    }\n",
       "</style>\n",
       "<table border=\"1\" class=\"dataframe\">\n",
       "  <thead>\n",
       "    <tr style=\"text-align: right;\">\n",
       "      <th></th>\n",
       "      <th>id-berita</th>\n",
       "      <th>url</th>\n",
       "      <th>judul</th>\n",
       "      <th>content per paragraf</th>\n",
       "      <th>label-positif</th>\n",
       "      <th>label-persuasif</th>\n",
       "      <th>label-produk</th>\n",
       "      <th>perspektif-tunggal</th>\n",
       "      <th>label-berita</th>\n",
       "      <th>labels</th>\n",
       "      <th>content_lower</th>\n",
       "      <th>content_punct</th>\n",
       "      <th>content_lemma</th>\n",
       "      <th>content_token</th>\n",
       "      <th>content_stopwords</th>\n",
       "    </tr>\n",
       "  </thead>\n",
       "  <tbody>\n",
       "    <tr>\n",
       "      <th>0</th>\n",
       "      <td>229</td>\n",
       "      <td>https://tekno.sindonews.com/read/807727/776/pe...</td>\n",
       "      <td>Pengertian Absen Online dan Kelebihannya Diban...</td>\n",
       "      <td>Absen Online kini mulai merambah ke berbagai p...</td>\n",
       "      <td>0</td>\n",
       "      <td>0</td>\n",
       "      <td>1</td>\n",
       "      <td>1</td>\n",
       "      <td>native ads</td>\n",
       "      <td>1</td>\n",
       "      <td>absen online kini mulai merambah ke berbagai p...</td>\n",
       "      <td>absen online kini mulai merambah ke berbagai p...</td>\n",
       "      <td>absen online kini mulai rambah ke bagai usaha ...</td>\n",
       "      <td>['absen', 'online', 'rambah', 'usaha', 'ganti'...</td>\n",
       "      <td>absen online rambah usaha ganti absen manual r...</td>\n",
       "    </tr>\n",
       "    <tr>\n",
       "      <th>1</th>\n",
       "      <td>229</td>\n",
       "      <td>https://tekno.sindonews.com/read/807727/776/pe...</td>\n",
       "      <td>Pengertian Absen Online dan Kelebihannya Diban...</td>\n",
       "      <td>Sebelum mengetahui manfaat absen online bagi p...</td>\n",
       "      <td>1</td>\n",
       "      <td>1</td>\n",
       "      <td>1</td>\n",
       "      <td>1</td>\n",
       "      <td>native ads</td>\n",
       "      <td>1</td>\n",
       "      <td>sebelum mengetahui manfaat absen online bagi p...</td>\n",
       "      <td>sebelum mengetahui manfaat absen online bagi p...</td>\n",
       "      <td>belum tahu manfaat absen online bagi usaha mar...</td>\n",
       "      <td>['manfaat', 'absen', 'online', 'usaha', 'mari'...</td>\n",
       "      <td>manfaat absen online usaha mari ajar erti lapo...</td>\n",
       "    </tr>\n",
       "    <tr>\n",
       "      <th>2</th>\n",
       "      <td>229</td>\n",
       "      <td>https://tekno.sindonews.com/read/807727/776/pe...</td>\n",
       "      <td>Pengertian Absen Online dan Kelebihannya Diban...</td>\n",
       "      <td>Semua data tersebut selanjutnya akan diberikan...</td>\n",
       "      <td>1</td>\n",
       "      <td>0</td>\n",
       "      <td>1</td>\n",
       "      <td>1</td>\n",
       "      <td>native ads</td>\n",
       "      <td>1</td>\n",
       "      <td>semua data tersebut selanjutnya akan diberikan...</td>\n",
       "      <td>semua data tersebut selanjutnya akan diberikan...</td>\n",
       "      <td>semua data sebut lanjut akan beri kepada hrd y...</td>\n",
       "      <td>['data', 'hrd', 'tanggung', 'gaji', 'karyawan'...</td>\n",
       "      <td>data hrd tanggung gaji karyawan data hrd rugi ...</td>\n",
       "    </tr>\n",
       "    <tr>\n",
       "      <th>3</th>\n",
       "      <td>229</td>\n",
       "      <td>https://tekno.sindonews.com/read/807727/776/pe...</td>\n",
       "      <td>Pengertian Absen Online dan Kelebihannya Diban...</td>\n",
       "      <td>Setiap hari karyawan melakukan absen dengan me...</td>\n",
       "      <td>1</td>\n",
       "      <td>1</td>\n",
       "      <td>0</td>\n",
       "      <td>1</td>\n",
       "      <td>native ads</td>\n",
       "      <td>1</td>\n",
       "      <td>setiap hari karyawan melakukan absen dengan me...</td>\n",
       "      <td>setiap hari karyawan melakukan absen dengan me...</td>\n",
       "      <td>tiap hari karyawan laku absen dengan tulis jam...</td>\n",
       "      <td>['karyawan', 'laku', 'absen', 'tulis', 'jam', ...</td>\n",
       "      <td>karyawan laku absen tulis jam hadir tanda tang...</td>\n",
       "    </tr>\n",
       "    <tr>\n",
       "      <th>4</th>\n",
       "      <td>229</td>\n",
       "      <td>https://tekno.sindonews.com/read/807727/776/pe...</td>\n",
       "      <td>Pengertian Absen Online dan Kelebihannya Diban...</td>\n",
       "      <td>Sementara, Absen online merupakan sistem absen...</td>\n",
       "      <td>1</td>\n",
       "      <td>1</td>\n",
       "      <td>1</td>\n",
       "      <td>1</td>\n",
       "      <td>native ads</td>\n",
       "      <td>1</td>\n",
       "      <td>sementara, absen online merupakan sistem absen...</td>\n",
       "      <td>sementara, absen online merupakan sistem absen...</td>\n",
       "      <td>sementara absen online rupa sistem absensi yan...</td>\n",
       "      <td>['absen', 'online', 'rupa', 'sistem', 'absensi...</td>\n",
       "      <td>absen online rupa sistem absensi manfaat jarin...</td>\n",
       "    </tr>\n",
       "    <tr>\n",
       "      <th>...</th>\n",
       "      <td>...</td>\n",
       "      <td>...</td>\n",
       "      <td>...</td>\n",
       "      <td>...</td>\n",
       "      <td>...</td>\n",
       "      <td>...</td>\n",
       "      <td>...</td>\n",
       "      <td>...</td>\n",
       "      <td>...</td>\n",
       "      <td>...</td>\n",
       "      <td>...</td>\n",
       "      <td>...</td>\n",
       "      <td>...</td>\n",
       "      <td>...</td>\n",
       "      <td>...</td>\n",
       "    </tr>\n",
       "    <tr>\n",
       "      <th>2497</th>\n",
       "      <td>998</td>\n",
       "      <td>https://cnnindonesia.com/teknologi/20221203102...</td>\n",
       "      <td>Elon Musk Sebut Twitter Tutupi Cerita Kontrove...</td>\n",
       "      <td>Donald Trump yang menjadi lawan Biden sekaligu...</td>\n",
       "      <td>-1</td>\n",
       "      <td>0</td>\n",
       "      <td>0</td>\n",
       "      <td>1</td>\n",
       "      <td>berita murni</td>\n",
       "      <td>0</td>\n",
       "      <td>donald trump yang menjadi lawan biden sekaligu...</td>\n",
       "      <td>donald trump yang menjadi lawan biden sekalig...</td>\n",
       "      <td>donald trump yang jadi lawan biden sekaligus t...</td>\n",
       "      <td>['donald', 'trump', 'lawan', 'biden', 'tahana'...</td>\n",
       "      <td>donald trump lawan biden tahana coba serang bi...</td>\n",
       "    </tr>\n",
       "    <tr>\n",
       "      <th>2498</th>\n",
       "      <td>998</td>\n",
       "      <td>https://cnnindonesia.com/teknologi/20221203102...</td>\n",
       "      <td>Elon Musk Sebut Twitter Tutupi Cerita Kontrove...</td>\n",
       "      <td>Dalam utas tersebut, Taibbi mengatakan bahwa a...</td>\n",
       "      <td>0</td>\n",
       "      <td>0</td>\n",
       "      <td>0</td>\n",
       "      <td>1</td>\n",
       "      <td>berita murni</td>\n",
       "      <td>0</td>\n",
       "      <td>dalam utas tersebut, taibbi mengatakan bahwa a...</td>\n",
       "      <td>dalam utas tersebut, taibbi mengatakan bahwa a...</td>\n",
       "      <td>dalam utas sebut taibbi kata bahwa apa yang ak...</td>\n",
       "      <td>['utas', 'taibbi', 'baca', 'cuplik', 'buah', '...</td>\n",
       "      <td>utas taibbi baca cuplik buah serial dasar ribu...</td>\n",
       "    </tr>\n",
       "    <tr>\n",
       "      <th>2499</th>\n",
       "      <td>998</td>\n",
       "      <td>https://cnnindonesia.com/teknologi/20221203102...</td>\n",
       "      <td>Elon Musk Sebut Twitter Tutupi Cerita Kontrove...</td>\n",
       "      <td>Namun menurut Taibbi, Twitter pelan-pelan mala...</td>\n",
       "      <td>-1</td>\n",
       "      <td>0</td>\n",
       "      <td>0</td>\n",
       "      <td>0</td>\n",
       "      <td>berita murni</td>\n",
       "      <td>0</td>\n",
       "      <td>namun menurut taibbi, twitter pelan-pelan mala...</td>\n",
       "      <td>namun menurut taibbi, twitter pelan-pelan mala...</td>\n",
       "      <td>namun turut taibbi twitter pelan malah tambah ...</td>\n",
       "      <td>['taibbi', 'twitter', 'pelan', 'halang', 'hala...</td>\n",
       "      <td>taibbi twitter pelan halang halang alat kontro...</td>\n",
       "    </tr>\n",
       "    <tr>\n",
       "      <th>2500</th>\n",
       "      <td>998</td>\n",
       "      <td>https://cnnindonesia.com/teknologi/20221203102...</td>\n",
       "      <td>Elon Musk Sebut Twitter Tutupi Cerita Kontrove...</td>\n",
       "      <td>Taibbi juga menyebut sejumlah partai politik m...</td>\n",
       "      <td>-1</td>\n",
       "      <td>0</td>\n",
       "      <td>1</td>\n",
       "      <td>1</td>\n",
       "      <td>berita murni</td>\n",
       "      <td>0</td>\n",
       "      <td>taibbi juga menyebut sejumlah partai politik m...</td>\n",
       "      <td>taibbi juga menyebut sejumlah partai politik m...</td>\n",
       "      <td>taibbi juga sebut jumlah partai politik milik ...</td>\n",
       "      <td>['taibbi', 'partai', 'politik', 'milik', 'akse...</td>\n",
       "      <td>taibbi partai politik milik akses hadap alat c...</td>\n",
       "    </tr>\n",
       "    <tr>\n",
       "      <th>2501</th>\n",
       "      <td>998</td>\n",
       "      <td>https://cnnindonesia.com/teknologi/20221203102...</td>\n",
       "      <td>Elon Musk Sebut Twitter Tutupi Cerita Kontrove...</td>\n",
       "      <td>Mereka bahkan memblok transmisi sendiri via pe...</td>\n",
       "      <td>-1</td>\n",
       "      <td>0</td>\n",
       "      <td>0</td>\n",
       "      <td>1</td>\n",
       "      <td>berita murni</td>\n",
       "      <td>0</td>\n",
       "      <td>mereka bahkan memblok transmisi sendiri via pe...</td>\n",
       "      <td>mereka bahkan memblok transmisi sendiri via pe...</td>\n",
       "      <td>mereka bahkan blok transmisi sendiri via pesan...</td>\n",
       "      <td>['blok', 'transmisi', 'via', 'pesan', 'langsun...</td>\n",
       "      <td>blok transmisi via pesan langsung dm buah alat...</td>\n",
       "    </tr>\n",
       "  </tbody>\n",
       "</table>\n",
       "<p>2502 rows × 15 columns</p>\n",
       "</div>"
      ],
      "text/plain": [
       "      id-berita                                                url  \\\n",
       "0           229  https://tekno.sindonews.com/read/807727/776/pe...   \n",
       "1           229  https://tekno.sindonews.com/read/807727/776/pe...   \n",
       "2           229  https://tekno.sindonews.com/read/807727/776/pe...   \n",
       "3           229  https://tekno.sindonews.com/read/807727/776/pe...   \n",
       "4           229  https://tekno.sindonews.com/read/807727/776/pe...   \n",
       "...         ...                                                ...   \n",
       "2497        998  https://cnnindonesia.com/teknologi/20221203102...   \n",
       "2498        998  https://cnnindonesia.com/teknologi/20221203102...   \n",
       "2499        998  https://cnnindonesia.com/teknologi/20221203102...   \n",
       "2500        998  https://cnnindonesia.com/teknologi/20221203102...   \n",
       "2501        998  https://cnnindonesia.com/teknologi/20221203102...   \n",
       "\n",
       "                                                  judul  \\\n",
       "0     Pengertian Absen Online dan Kelebihannya Diban...   \n",
       "1     Pengertian Absen Online dan Kelebihannya Diban...   \n",
       "2     Pengertian Absen Online dan Kelebihannya Diban...   \n",
       "3     Pengertian Absen Online dan Kelebihannya Diban...   \n",
       "4     Pengertian Absen Online dan Kelebihannya Diban...   \n",
       "...                                                 ...   \n",
       "2497  Elon Musk Sebut Twitter Tutupi Cerita Kontrove...   \n",
       "2498  Elon Musk Sebut Twitter Tutupi Cerita Kontrove...   \n",
       "2499  Elon Musk Sebut Twitter Tutupi Cerita Kontrove...   \n",
       "2500  Elon Musk Sebut Twitter Tutupi Cerita Kontrove...   \n",
       "2501  Elon Musk Sebut Twitter Tutupi Cerita Kontrove...   \n",
       "\n",
       "                                   content per paragraf  label-positif  \\\n",
       "0     Absen Online kini mulai merambah ke berbagai p...              0   \n",
       "1     Sebelum mengetahui manfaat absen online bagi p...              1   \n",
       "2     Semua data tersebut selanjutnya akan diberikan...              1   \n",
       "3     Setiap hari karyawan melakukan absen dengan me...              1   \n",
       "4     Sementara, Absen online merupakan sistem absen...              1   \n",
       "...                                                 ...            ...   \n",
       "2497  Donald Trump yang menjadi lawan Biden sekaligu...             -1   \n",
       "2498  Dalam utas tersebut, Taibbi mengatakan bahwa a...              0   \n",
       "2499  Namun menurut Taibbi, Twitter pelan-pelan mala...             -1   \n",
       "2500  Taibbi juga menyebut sejumlah partai politik m...             -1   \n",
       "2501  Mereka bahkan memblok transmisi sendiri via pe...             -1   \n",
       "\n",
       "      label-persuasif  label-produk  perspektif-tunggal  label-berita  labels  \\\n",
       "0                   0             1                   1    native ads       1   \n",
       "1                   1             1                   1    native ads       1   \n",
       "2                   0             1                   1    native ads       1   \n",
       "3                   1             0                   1    native ads       1   \n",
       "4                   1             1                   1    native ads       1   \n",
       "...               ...           ...                 ...           ...     ...   \n",
       "2497                0             0                   1  berita murni       0   \n",
       "2498                0             0                   1  berita murni       0   \n",
       "2499                0             0                   0  berita murni       0   \n",
       "2500                0             1                   1  berita murni       0   \n",
       "2501                0             0                   1  berita murni       0   \n",
       "\n",
       "                                          content_lower  \\\n",
       "0     absen online kini mulai merambah ke berbagai p...   \n",
       "1     sebelum mengetahui manfaat absen online bagi p...   \n",
       "2     semua data tersebut selanjutnya akan diberikan...   \n",
       "3     setiap hari karyawan melakukan absen dengan me...   \n",
       "4     sementara, absen online merupakan sistem absen...   \n",
       "...                                                 ...   \n",
       "2497  donald trump yang menjadi lawan biden sekaligu...   \n",
       "2498  dalam utas tersebut, taibbi mengatakan bahwa a...   \n",
       "2499  namun menurut taibbi, twitter pelan-pelan mala...   \n",
       "2500  taibbi juga menyebut sejumlah partai politik m...   \n",
       "2501  mereka bahkan memblok transmisi sendiri via pe...   \n",
       "\n",
       "                                          content_punct  \\\n",
       "0     absen online kini mulai merambah ke berbagai p...   \n",
       "1     sebelum mengetahui manfaat absen online bagi p...   \n",
       "2     semua data tersebut selanjutnya akan diberikan...   \n",
       "3     setiap hari karyawan melakukan absen dengan me...   \n",
       "4     sementara, absen online merupakan sistem absen...   \n",
       "...                                                 ...   \n",
       "2497   donald trump yang menjadi lawan biden sekalig...   \n",
       "2498  dalam utas tersebut, taibbi mengatakan bahwa a...   \n",
       "2499  namun menurut taibbi, twitter pelan-pelan mala...   \n",
       "2500  taibbi juga menyebut sejumlah partai politik m...   \n",
       "2501  mereka bahkan memblok transmisi sendiri via pe...   \n",
       "\n",
       "                                          content_lemma  \\\n",
       "0     absen online kini mulai rambah ke bagai usaha ...   \n",
       "1     belum tahu manfaat absen online bagi usaha mar...   \n",
       "2     semua data sebut lanjut akan beri kepada hrd y...   \n",
       "3     tiap hari karyawan laku absen dengan tulis jam...   \n",
       "4     sementara absen online rupa sistem absensi yan...   \n",
       "...                                                 ...   \n",
       "2497  donald trump yang jadi lawan biden sekaligus t...   \n",
       "2498  dalam utas sebut taibbi kata bahwa apa yang ak...   \n",
       "2499  namun turut taibbi twitter pelan malah tambah ...   \n",
       "2500  taibbi juga sebut jumlah partai politik milik ...   \n",
       "2501  mereka bahkan blok transmisi sendiri via pesan...   \n",
       "\n",
       "                                          content_token  \\\n",
       "0     ['absen', 'online', 'rambah', 'usaha', 'ganti'...   \n",
       "1     ['manfaat', 'absen', 'online', 'usaha', 'mari'...   \n",
       "2     ['data', 'hrd', 'tanggung', 'gaji', 'karyawan'...   \n",
       "3     ['karyawan', 'laku', 'absen', 'tulis', 'jam', ...   \n",
       "4     ['absen', 'online', 'rupa', 'sistem', 'absensi...   \n",
       "...                                                 ...   \n",
       "2497  ['donald', 'trump', 'lawan', 'biden', 'tahana'...   \n",
       "2498  ['utas', 'taibbi', 'baca', 'cuplik', 'buah', '...   \n",
       "2499  ['taibbi', 'twitter', 'pelan', 'halang', 'hala...   \n",
       "2500  ['taibbi', 'partai', 'politik', 'milik', 'akse...   \n",
       "2501  ['blok', 'transmisi', 'via', 'pesan', 'langsun...   \n",
       "\n",
       "                                      content_stopwords  \n",
       "0     absen online rambah usaha ganti absen manual r...  \n",
       "1     manfaat absen online usaha mari ajar erti lapo...  \n",
       "2     data hrd tanggung gaji karyawan data hrd rugi ...  \n",
       "3     karyawan laku absen tulis jam hadir tanda tang...  \n",
       "4     absen online rupa sistem absensi manfaat jarin...  \n",
       "...                                                 ...  \n",
       "2497  donald trump lawan biden tahana coba serang bi...  \n",
       "2498  utas taibbi baca cuplik buah serial dasar ribu...  \n",
       "2499  taibbi twitter pelan halang halang alat kontro...  \n",
       "2500  taibbi partai politik milik akses hadap alat c...  \n",
       "2501  blok transmisi via pesan langsung dm buah alat...  \n",
       "\n",
       "[2502 rows x 15 columns]"
      ]
     },
     "execution_count": 4,
     "metadata": {},
     "output_type": "execute_result"
    }
   ],
   "source": [
    "from io import BytesIO\n",
    "\n",
    "import requests\n",
    "import pandas as pd\n",
    "\n",
    "r = requests.get('https://docs.google.com/spreadsheet/ccc?key=1i3BBozbnx9HSTkMsfMHChvzYwG_2MiFB06U05gitD8U&output=xlsx')\n",
    "data = r.content\n",
    "dataset = pd.read_excel(data, 'Prepocessed (3)')\n",
    "dataset"
   ]
  },
  {
   "cell_type": "code",
   "execution_count": 5,
   "metadata": {
    "colab": {
     "base_uri": "https://localhost:8080/"
    },
    "id": "FElwUGx0pya5",
    "outputId": "e10afd8b-ade6-4696-8cbb-3c1e2793e15b"
   },
   "outputs": [
    {
     "data": {
      "text/plain": [
       "2502"
      ]
     },
     "execution_count": 5,
     "metadata": {},
     "output_type": "execute_result"
    }
   ],
   "source": [
    "len(dataset)"
   ]
  },
  {
   "cell_type": "code",
   "execution_count": 6,
   "metadata": {
    "id": "MI3q0ojdfpy1"
   },
   "outputs": [],
   "source": [
    "import re\n",
    "\n",
    "def changeQuotation(text):\n",
    "  text = re.sub(r'\"',r'“', text)\n",
    "  return text"
   ]
  },
  {
   "cell_type": "code",
   "execution_count": 7,
   "metadata": {
    "id": "3kAvaislf-T0"
   },
   "outputs": [],
   "source": [
    "dataset['content per paragraf'] = dataset['content per paragraf'].apply(changeQuotation)"
   ]
  },
  {
   "cell_type": "markdown",
   "metadata": {
    "id": "Qa7SpSU3SrZS"
   },
   "source": [
    "## Split dataset"
   ]
  },
  {
   "cell_type": "code",
   "execution_count": 8,
   "metadata": {
    "id": "zpCxHIm6W5dn"
   },
   "outputs": [],
   "source": [
    "# Misalkan menggunakan `content_lemma` sebagai input\n",
    "texts = dataset['content_lemma'].values\n",
    "# Variabel target y adalah kombinasi dari empat label\n",
    "y = dataset['labels'].values"
   ]
  },
  {
   "cell_type": "code",
   "execution_count": 9,
   "metadata": {
    "colab": {
     "base_uri": "https://localhost:8080/"
    },
    "id": "Q-LavgLFSrZT",
    "outputId": "bc11394f-6ece-49e9-b083-186b19125c37"
   },
   "outputs": [],
   "source": [
    "# x_train1,y_train,x_test1,y_test = train_test_split(embed1,y,80)\n",
    "# x_train1,x_test1,y_train,y_test = train_test_split(embed1, y, test_size=0.3, random_state=0)\n",
    "from sklearn.model_selection import KFold\n",
    "\n",
    "# kf = KFold(n_splits=4)           #KFold(n_splits=’warn’, shuffle=False, random_state=None)\n",
    "kf = KFold(5,shuffle=True, random_state=0) # Use for KFold classification\n",
    "\n",
    "for train_index, validation_index in kf.split(texts):\n",
    "   #print(\"TRAIN:\", texts[train_index], \"VALIDATION:\", texts[validation_index])\n",
    "   x_train, x_test = texts[train_index], texts[validation_index]\n",
    "   y_train, y_test = y[train_index], y[validation_index]"
   ]
  },
  {
   "cell_type": "code",
   "execution_count": 10,
   "metadata": {
    "colab": {
     "base_uri": "https://localhost:8080/",
     "height": 484
    },
    "id": "Qe0kNA36C3G3",
    "outputId": "630ef048-dada-4bc4-9e11-77bd11a9ffcb"
   },
   "outputs": [
    {
     "name": "stdout",
     "output_type": "stream",
     "text": [
      "(2002, 2)\n"
     ]
    },
    {
     "data": {
      "image/png": "[encoded data removed]",
      "text/plain": [
       "<Figure size 640x480 with 1 Axes>"
      ]
     },
     "metadata": {},
     "output_type": "display_data"
    }
   ],
   "source": [
    "import matplotlib.pyplot as plt\n",
    "\n",
    "df_train = pd.DataFrame(list(zip(x_train, y_train)), columns=['content_lemma', 'labels'])\n",
    "df_train.groupby(['labels']).size().plot(kind='bar')\n",
    "plt.title('Distribusi Label Berita pada Data Testing')\n",
    "print(df_train.shape)"
   ]
  },
  {
   "cell_type": "code",
   "execution_count": 11,
   "metadata": {
    "colab": {
     "base_uri": "https://localhost:8080/",
     "height": 484
    },
    "id": "FTubG4dHSrZU",
    "outputId": "31d7a468-6ce2-43bc-c751-c66aabe1bad1"
   },
   "outputs": [
    {
     "name": "stdout",
     "output_type": "stream",
     "text": [
      "(500, 2)\n"
     ]
    },
    {
     "data": {
      "image/png": "[encoded data removed]",
      "text/plain": [
       "<Figure size 640x480 with 1 Axes>"
      ]
     },
     "metadata": {},
     "output_type": "display_data"
    }
   ],
   "source": [
    "df_test = pd.DataFrame(list(zip(x_test, y_test)), columns=['content_lemma', 'labels'])\n",
    "df_test.groupby(['labels']).size().plot(kind='bar')\n",
    "plt.title('Distribusi Label Berita pada Data Testing')\n",
    "print(df_test.shape)"
   ]
  },
  {
   "cell_type": "markdown",
   "metadata": {
    "id": "vC7a7W8aslTf"
   },
   "source": [
    "# Word Embedding (roBERTa)"
   ]
  },
  {
   "cell_type": "code",
   "execution_count": 12,
   "metadata": {
    "colab": {
     "base_uri": "https://localhost:8080/",
     "height": 422,
     "referenced_widgets": [
      "c2498ec42ab448179bf02cfc350ca618",
      "3674195605f84c7f9903d6db6b80a2c4",
      "a037c43f25514089a3cc57d5a2f19bd1",
      "fa174abe111b4c25891e4c724a4c71a3",
      "a722ed576f2444fe8eda0d820820e32d",
      "d947467c25b040c2b2e94d14b4221626",
      "e3085045e63a4f03b0139fd5b0ed9bdb",
      "a3e7ab0b8e934bc0a60f034c39db3318",
      "9bf5b716d5714ad2b37f69274859bd10",
      "b79a42baed5e48ddb5fcc10c998d38f6",
      "350aac83b96c4a0394fafa9be89048d7",
      "3594bef048634042be1cbc700cfffca3",
      "e2d1f3fc317342948a78d2489b726f9a",
      "c2c62d9ac9d845deba200f0af4199ccc",
      "99afdc6100524ca98d963b19d20d5037",
      "ac912fe99b9c427890099e59bc605a01",
      "abb25a2eccca4f7d9e53292808b1aada",
      "7345455298ef41ca9c41d5252f207ea4",
      "849a8272521e4da5a392f3d17b480ea7",
      "fe65939240c4481b9e8e9dc47b31603b",
      "589a72d651244fe098c7f60e71291657",
      "2c333ad78d9f408a80e8c9cf56cdb83d",
      "3036a75aa062456cb9a81af5ed80d39c",
      "5989951a36ab48bebd5822acbfa4dee1",
      "04fc164d54b14a7a85d2809efd03f8ba",
      "751b533c542d4b7380d792b1b001278e",
      "0e00a285da664f58b97392a12043a537",
      "cd5171ef0f424c8e81f0d3de624eec39",
      "31e50a32fc3e4d1982d3bcafc132fdcf",
      "836e615432cd401690f555c10130fd0b",
      "ee529cedfb6b4a4c8803251aba308c44",
      "0526c98c21b54937ae0d9760e27c8291",
      "a82ec4a9ebc748d584a59f90d8a41523",
      "0685f88d2a064e27a688a47dc0c22f49",
      "54facb6308364ec2a37a5f19b26b159c",
      "9ac667ce9f914449b31170ceff81908a",
      "d864fcac658b45228bfe8beb3faa7d46",
      "bd0884484f1c4d699e1795aa2849fc89",
      "6f3c764b6f294931be964e31a698c64a",
      "557907aa51254d448750f68849a9d599",
      "9907df50ced6463b967f580a9410ba55",
      "206107371dce475085907a4dd8c17485",
      "e185ea0c719d4bf28ff731eada2256d1",
      "25509f287194464892b2368b44220afa",
      "f07bd57422714c5d8771476bfe0de977",
      "b96a8f80ac8543e08aeb8333a0ea999c",
      "a248adaec41d4206a1fac5ff42d1aa2c",
      "e65d24bec5084847a55cc1494c80428d",
      "98ff56e539e6423bb7c2427d79164236",
      "a9661defecff4228b0d733b9bad55984",
      "68706e4223de493faf444b2ca149383e",
      "d8e26b6c3e824344b779f4900932fd56",
      "e7ba6ed5543143379c80cf6e537cefc6",
      "65babea5d9c04202845120430325731a",
      "d88b2eda71e849429257753a3d4e2dc2"
     ]
    },
    "id": "XAScW-3nsnp4",
    "outputId": "ddf8b9cf-db03-477c-b6c8-91623e1a04e9"
   },
   "outputs": [
    {
     "name": "stderr",
     "output_type": "stream",
     "text": [
      "C:\\Users\\Asiyah\\anaconda3\\envs\\asiyahnk\\lib\\site-packages\\tqdm\\auto.py:21: TqdmWarning: IProgress not found. Please update jupyter and ipywidgets. See https://ipywidgets.readthedocs.io/en/stable/user_install.html\n",
      "  from .autonotebook import tqdm as notebook_tqdm\n",
      "C:\\Users\\Asiyah\\anaconda3\\envs\\asiyahnk\\lib\\site-packages\\transformers\\tokenization_utils_base.py:1601: FutureWarning: `clean_up_tokenization_spaces` was not set. It will be set to `True` by default. This behavior will be depracted in transformers v4.45, and will be then set to `False` by default. For more details check this issue: https://github.com/huggingface/transformers/issues/31884\n",
      "  warnings.warn(\n",
      "Some weights of the PyTorch model were not used when initializing the TF 2.0 model TFRobertaModel: ['lm_head.dense.bias', 'lm_head.dense.weight', 'lm_head.decoder.weight', 'lm_head.decoder.bias', 'lm_head.layer_norm.weight', 'lm_head.bias', 'lm_head.layer_norm.bias']\n",
      "- This IS expected if you are initializing TFRobertaModel from a PyTorch model trained on another task or with another architecture (e.g. initializing a TFBertForSequenceClassification model from a BertForPreTraining model).\n",
      "- This IS NOT expected if you are initializing TFRobertaModel from a PyTorch model that you expect to be exactly identical (e.g. initializing a TFBertForSequenceClassification model from a BertForSequenceClassification model).\n",
      "All the weights of TFRobertaModel were initialized from the PyTorch model.\n",
      "If your task is similar to the task the model of the checkpoint was trained on, you can already use TFRobertaModel for predictions without further training.\n"
     ]
    }
   ],
   "source": [
    "from transformers import RobertaTokenizer, TFRobertaModel\n",
    "\n",
    "tokenizer = RobertaTokenizer.from_pretrained('cahya/roberta-base-indonesian-522M', do_lower_case=True)\n",
    "indo_roberta = TFRobertaModel.from_pretrained('cahya/roberta-base-indonesian-522M', from_pt=True)"
   ]
  },
  {
   "cell_type": "code",
   "execution_count": 13,
   "metadata": {
    "colab": {
     "base_uri": "https://localhost:8080/"
    },
    "id": "B67KJEMczvfo",
    "outputId": "aa014f83-2974-4de4-b94f-0cf2c5c4d9f7"
   },
   "outputs": [
    {
     "name": "stdout",
     "output_type": "stream",
     "text": [
      "4.44.0\n"
     ]
    }
   ],
   "source": [
    "import transformers\n",
    "print(transformers.__version__)\n",
    "#print(dir(transformers))"
   ]
  },
  {
   "cell_type": "code",
   "execution_count": 14,
   "metadata": {
    "id": "0BkpcwOHP-CL"
   },
   "outputs": [],
   "source": [
    "max_len = 257\n",
    "def encode_texts(text_list):\n",
    "   # Inisialisasi list untuk menampung hasil\n",
    "    input_ids = []\n",
    "    attention_masks = []\n",
    "\n",
    "    for text in text_list:\n",
    "        encoded_dict = tokenizer.encode_plus(\n",
    "            text,\n",
    "            add_special_tokens=True,  # Tambahkan [CLS] dan [SEP]\n",
    "            max_length=max_len,\n",
    "            padding='max_length',\n",
    "            truncation=True,  # Aktifkan pemotongan jika teks lebih panjang\n",
    "            return_tensors='tf',  # Mengembalikan TensorFlow tensors\n",
    "            return_attention_mask=True  # Menghasilkan attention mask\n",
    "        )\n",
    "        input_ids.append(encoded_dict['input_ids'])\n",
    "        attention_masks.append(encoded_dict['attention_mask'])\n",
    "\n",
    "    return {'input_ids': tf.concat(input_ids, axis=0), 'attention_mask': tf.concat(attention_masks, axis=0)}"
   ]
  },
  {
   "cell_type": "code",
   "execution_count": 15,
   "metadata": {
    "id": "SjqtYsDHQDRx"
   },
   "outputs": [],
   "source": [
    "# Encode data training dan testing\n",
    "import tensorflow as tf\n",
    "\n",
    "train_encodings = encode_texts(x_train)\n",
    "test_encodings = encode_texts(x_test)"
   ]
  },
  {
   "cell_type": "code",
   "execution_count": 16,
   "metadata": {
    "id": "3ktc101aQGmV"
   },
   "outputs": [],
   "source": [
    "# build model fine tuning bert\n",
    "# def get_embeddings(encoded_texts, batch_size=16):\n",
    "#     outputs = indobert(encoded_texts['input_ids'], attention_mask=encoded_texts['attention_mask'])\n",
    "#     return outputs.last_hidden_state  # Mengambil output embeddings\n",
    "\n",
    "# Function to get embeddings with smaller batch size\n",
    "def get_embeddings(encoded_texts, batch_size=16):\n",
    "    embeddings = []\n",
    "    for i in range(0, len(encoded_texts['input_ids']), batch_size):\n",
    "        batch_input_ids = encoded_texts['input_ids'][i:i+batch_size]\n",
    "        batch_attention_mask = encoded_texts['attention_mask'][i:i+batch_size]\n",
    "        outputs = indo_roberta(batch_input_ids, attention_mask=batch_attention_mask)\n",
    "        embeddings.append(outputs.last_hidden_state)\n",
    "    return tf.concat(embeddings, axis=0)\n",
    "\n",
    "# Mendapatkan embeddings untuk data training dan testing\n",
    "train_embeddings = get_embeddings(train_encodings)\n",
    "test_embeddings = get_embeddings(test_encodings)"
   ]
  },
  {
   "cell_type": "code",
   "execution_count": 17,
   "metadata": {
    "id": "5SFT7TZtQT8-"
   },
   "outputs": [],
   "source": [
    "from tensorflow.keras.layers import Input\n",
    "# Input untuk token IDs dan attention mask\n",
    "input_ids = Input(shape=(max_len,), dtype=tf.int32, name=\"input_ids\")\n",
    "attention_mask = Input(shape=(max_len,), dtype=tf.int32, name=\"attention_mask\")"
   ]
  },
  {
   "cell_type": "code",
   "execution_count": 18,
   "metadata": {
    "colab": {
     "base_uri": "https://localhost:8080/"
    },
    "id": "KLmt3OIOQWiU",
    "outputId": "83cbd5be-cfd9-4d22-d594-78392bb063ba"
   },
   "outputs": [
    {
     "name": "stdout",
     "output_type": "stream",
     "text": [
      "Type of input_ids: <class 'keras.engine.keras_tensor.KerasTensor'>\n",
      "Shape of input_ids: (None, 257)\n",
      "Type of attention_mask: <class 'keras.engine.keras_tensor.KerasTensor'>\n",
      "Shape of attention_mask: (None, 257)\n"
     ]
    }
   ],
   "source": [
    "# Verifikasi tipe dan shape dari input_ids dan attention_mask\n",
    "print(f\"Type of input_ids: {type(input_ids)}\")\n",
    "print(f\"Shape of input_ids: {input_ids.shape}\")\n",
    "print(f\"Type of attention_mask: {type(attention_mask)}\")\n",
    "print(f\"Shape of attention_mask: {attention_mask.shape}\")"
   ]
  },
  {
   "cell_type": "code",
   "execution_count": 19,
   "metadata": {},
   "outputs": [
    {
     "name": "stderr",
     "output_type": "stream",
     "text": [
      "Some weights of the PyTorch model were not used when initializing the TF 2.0 model TFRobertaModel: ['lm_head.dense.bias', 'lm_head.dense.weight', 'lm_head.decoder.weight', 'lm_head.decoder.bias', 'lm_head.layer_norm.weight', 'lm_head.bias', 'lm_head.layer_norm.bias']\n",
      "- This IS expected if you are initializing TFRobertaModel from a PyTorch model trained on another task or with another architecture (e.g. initializing a TFBertForSequenceClassification model from a BertForPreTraining model).\n",
      "- This IS NOT expected if you are initializing TFRobertaModel from a PyTorch model that you expect to be exactly identical (e.g. initializing a TFBertForSequenceClassification model from a BertForSequenceClassification model).\n",
      "All the weights of TFRobertaModel were initialized from the PyTorch model.\n",
      "If your task is similar to the task the model of the checkpoint was trained on, you can already use TFRobertaModel for predictions without further training.\n"
     ]
    }
   ],
   "source": [
    "import tensorflow as tf\n",
    "from tensorflow.keras.layers import Layer\n",
    "from transformers import TFBertModel, BertTokenizer\n",
    "from transformers.models.bert.modeling_bert import BertLayer\n",
    "\n",
    "class roBertaLayer(Layer):\n",
    "    def __init__(self, **kwargs):\n",
    "        super(roBertaLayer, self).__init__(**kwargs)\n",
    "        self.indobert = TFRobertaModel.from_pretrained('cahya/roberta-base-indonesian-522M', from_pt=True)\n",
    "\n",
    "    def call(self, inputs):\n",
    "        input_ids, attention_mask = inputs\n",
    "        output = self.indobert(input_ids, attention_mask=attention_mask)\n",
    "        return output.last_hidden_state\n",
    "\n",
    "# Definisikan input Keras\n",
    "input_ids = tf.keras.Input(shape=(max_len,), dtype=tf.int32, name=\"input_ids\")\n",
    "attention_mask = tf.keras.Input(shape=(max_len,), dtype=tf.int32, name=\"attention_mask\")\n",
    "\n",
    "# Gunakan BertLayer di dalam model Keras\n",
    "roberta_output = roBertaLayer()([input_ids, attention_mask])"
   ]
  },
  {
   "cell_type": "code",
   "execution_count": 20,
   "metadata": {
    "colab": {
     "base_uri": "https://localhost:8080/",
     "height": 998
    },
    "id": "klxaBEqyQbmg",
    "outputId": "5b60989e-e41e-4c08-cab4-018f4b8c5be6"
   },
   "outputs": [
    {
     "name": "stdout",
     "output_type": "stream",
     "text": [
      "Model: \"model\"\n",
      "__________________________________________________________________________________________________\n",
      " Layer (type)                   Output Shape         Param #     Connected to                     \n",
      "==================================================================================================\n",
      " input_ids (InputLayer)         [(None, 257)]        0           []                               \n",
      "                                                                                                  \n",
      " attention_mask (InputLayer)    [(None, 257)]        0           []                               \n",
      "                                                                                                  \n",
      " ro_berta_layer (roBertaLayer)  (None, 257, 768)     125978112   ['input_ids[0][0]',              \n",
      "                                                                  'attention_mask[0][0]']         \n",
      "                                                                                                  \n",
      " batch_normalization (BatchNorm  (None, 257, 768)    3072        ['ro_berta_layer[0][0]']         \n",
      " alization)                                                                                       \n",
      "                                                                                                  \n",
      " dropout_74 (Dropout)           (None, 257, 768)     0           ['batch_normalization[0][0]']    \n",
      "                                                                                                  \n",
      " bidirectional (Bidirectional)  (None, 257, 512)     2099200     ['dropout_74[0][0]']             \n",
      "                                                                                                  \n",
      " global_max_pooling1d (GlobalMa  (None, 512)         0           ['bidirectional[0][0]']          \n",
      " xPooling1D)                                                                                      \n",
      "                                                                                                  \n",
      " dropout_75 (Dropout)           (None, 512)          0           ['global_max_pooling1d[0][0]']   \n",
      "                                                                                                  \n",
      " dense (Dense)                  (None, 2)            1026        ['dropout_75[0][0]']             \n",
      "                                                                                                  \n",
      "==================================================================================================\n",
      "Total params: 128,081,410\n",
      "Trainable params: 128,079,874\n",
      "Non-trainable params: 1,536\n",
      "__________________________________________________________________________________________________\n"
     ]
    }
   ],
   "source": [
    "import tensorflow as tf\n",
    "\n",
    "out = tf.keras.layers.BatchNormalization()(roberta_output)\n",
    "out = tf.keras.layers.Dropout(0.2)(out)\n",
    "out = tf.keras.layers.Bidirectional(tf.keras.layers.LSTM(256, return_sequences=True))(out)\n",
    "out = tf.keras.layers.GlobalMaxPooling1D()(out)\n",
    "out = tf.keras.layers.Dropout(0.2)(out)\n",
    "y = tf.keras.layers.Dense(2, activation=\"sigmoid\")(out)\n",
    "\n",
    "model = tf.keras.Model(inputs=[input_ids, attention_mask], outputs=y)\n",
    "model.layers[2].trainable = True\n",
    "\n",
    "optimizer = tf.keras.optimizers.Adam(learning_rate=2e-05)\n",
    "loss = tf.keras.losses.CategoricalCrossentropy(from_logits=False)\n",
    "metric = tf.keras.metrics.CategoricalAccuracy('balanced_accuracy')\n",
    "\n",
    "model.compile(optimizer=optimizer, loss=loss, metrics=[metric])\n",
    "model.summary()\n"
   ]
  },
  {
   "cell_type": "code",
   "execution_count": 21,
   "metadata": {},
   "outputs": [],
   "source": [
    "y_train_dl = tf.keras.utils.to_categorical(y_train)\n",
    "y_test_dl = tf.keras.utils.to_categorical(y_test)"
   ]
  },
  {
   "cell_type": "code",
   "execution_count": 22,
   "metadata": {},
   "outputs": [
    {
     "name": "stdout",
     "output_type": "stream",
     "text": [
      "Epoch 1/10\n",
      "WARNING:tensorflow:Gradients do not exist for variables ['tf_roberta_model_1/roberta/pooler/dense/kernel:0', 'tf_roberta_model_1/roberta/pooler/dense/bias:0'] when minimizing the loss. If you're using `model.compile()`, did you forget to provide a `loss` argument?\n",
      "WARNING:tensorflow:Gradients do not exist for variables ['tf_roberta_model_1/roberta/pooler/dense/kernel:0', 'tf_roberta_model_1/roberta/pooler/dense/bias:0'] when minimizing the loss. If you're using `model.compile()`, did you forget to provide a `loss` argument?\n",
      "251/251 [==============================] - 846s 3s/step - loss: 0.3718 - balanced_accuracy: 0.8332 - val_loss: 0.2335 - val_balanced_accuracy: 0.9060\n",
      "Epoch 2/10\n",
      "251/251 [==============================] - 832s 3s/step - loss: 0.2231 - balanced_accuracy: 0.9071 - val_loss: 0.2217 - val_balanced_accuracy: 0.9160\n",
      "Epoch 3/10\n",
      "251/251 [==============================] - 831s 3s/step - loss: 0.1150 - balanced_accuracy: 0.9550 - val_loss: 0.2378 - val_balanced_accuracy: 0.9240\n",
      "Epoch 4/10\n",
      "251/251 [==============================] - 835s 3s/step - loss: 0.0536 - balanced_accuracy: 0.9840 - val_loss: 0.2514 - val_balanced_accuracy: 0.9340\n",
      "Epoch 5/10\n",
      "251/251 [==============================] - 835s 3s/step - loss: 0.0400 - balanced_accuracy: 0.9885 - val_loss: 0.2253 - val_balanced_accuracy: 0.9380\n",
      "Epoch 6/10\n",
      "251/251 [==============================] - 836s 3s/step - loss: 0.0379 - balanced_accuracy: 0.9890 - val_loss: 0.2212 - val_balanced_accuracy: 0.9400\n",
      "Epoch 7/10\n",
      "251/251 [==============================] - 832s 3s/step - loss: 0.0169 - balanced_accuracy: 0.9950 - val_loss: 0.2860 - val_balanced_accuracy: 0.9420\n",
      "Epoch 8/10\n",
      "251/251 [==============================] - 831s 3s/step - loss: 0.0108 - balanced_accuracy: 0.9965 - val_loss: 0.2595 - val_balanced_accuracy: 0.9420\n",
      "Epoch 9/10\n",
      "251/251 [==============================] - 830s 3s/step - loss: 0.0153 - balanced_accuracy: 0.9960 - val_loss: 0.3164 - val_balanced_accuracy: 0.9300\n",
      "Epoch 10/10\n",
      "251/251 [==============================] - 832s 3s/step - loss: 0.0201 - balanced_accuracy: 0.9930 - val_loss: 0.2790 - val_balanced_accuracy: 0.9400\n"
     ]
    }
   ],
   "source": [
    "history = model.fit(x={'input_ids':train_encodings['input_ids'], 'attention_mask':train_encodings['attention_mask']},\n",
    "                    y=y_train_dl,\n",
    "                    validation_data=(\n",
    "                        {'input_ids':test_encodings['input_ids'], 'attention_mask':test_encodings['attention_mask']},\n",
    "                    y_test_dl),\n",
    "                    epochs=10,\n",
    "                    batch_size=8)\n",
    "model.compile()"
   ]
  },
  {
   "cell_type": "code",
   "execution_count": 23,
   "metadata": {
    "id": "pX4OsaHTbRtU"
   },
   "outputs": [
    {
     "name": "stdout",
     "output_type": "stream",
     "text": [
      "16/16 [==============================] - 65s 4s/step\n",
      "y_true dtype: float32, shape: (500, 2)\n",
      "y_pred dtype: int64, shape: (500,)\n",
      "              precision    recall  f1-score   support\n",
      "\n",
      "           0       0.95      0.91      0.93       228\n",
      "           1       0.93      0.96      0.95       272\n",
      "\n",
      "    accuracy                           0.94       500\n",
      "   macro avg       0.94      0.94      0.94       500\n",
      "weighted avg       0.94      0.94      0.94       500\n",
      "\n"
     ]
    }
   ],
   "source": [
    "# Prediction\n",
    "from sklearn.metrics import classification_report\n",
    "\n",
    "predicted_raw = model.predict(\n",
    "    {'input_ids': test_encodings['input_ids'], 'attention_mask': test_encodings['attention_mask']})\n",
    "\n",
    "y_pred = np.argmax(predicted_raw, axis=1)\n",
    "y_true = y_test_dl\n",
    "\n",
    "# Periksa tipe data\n",
    "print(f'y_true dtype: {y_true.dtype}, shape: {y_true.shape}')\n",
    "print(f'y_pred dtype: {y_pred.dtype}, shape: {y_pred.shape}')\n",
    "\n",
    "# Ubah y_true dari one-hot encoded ke label kelas\n",
    "if y_true.ndim == 2:\n",
    "    y_true = np.argmax(y_true, axis=1)\n",
    "\n",
    "print(classification_report(y_true, y_pred))"
   ]
  },
  {
   "cell_type": "markdown",
   "metadata": {
    "id": "jIiCbI9qRCkk"
   },
   "source": [
    "# Ga dipakai"
   ]
  },
  {
   "cell_type": "markdown",
   "metadata": {
    "id": "dCuEF9p0bVXL"
   },
   "source": [
    "## View the output"
   ]
  },
  {
   "cell_type": "code",
   "execution_count": 24,
   "metadata": {
    "id": "bR90oS8tbS3Y"
   },
   "outputs": [],
   "source": [
    "# print (\"Number of layers:\", len(hidden_states), \"  (initial embeddings + 12 BERT layers)\")\n",
    "# print (\"Number of batches:\", len(hidden_states[0]))\n",
    "# print (\"Number of tokens:`\", len(hidden_states[0][0]))\n",
    "# print (\"Number of hidden units:\", len(hidden_states[0][0][0]))"
   ]
  },
  {
   "cell_type": "markdown",
   "metadata": {
    "id": "tIsuBmIEbfW6"
   },
   "source": [
    "## Combine tensor"
   ]
  },
  {
   "cell_type": "code",
   "execution_count": 25,
   "metadata": {
    "id": "BRgQQVcWbZ_j"
   },
   "outputs": [],
   "source": [
    "# token_embeddings = torch.stack(hidden_states, dim=0)\n",
    "# token_embeddings.size()"
   ]
  },
  {
   "cell_type": "markdown",
   "metadata": {
    "id": "bTJQ-dg0biSX"
   },
   "source": [
    "## Swap dimensions, so we get tensors in format: [sentence, tokens, hidden layes, features]"
   ]
  },
  {
   "cell_type": "code",
   "execution_count": 26,
   "metadata": {
    "id": "1ejQvbj5bdn-"
   },
   "outputs": [],
   "source": [
    "# token_embeddings = token_embeddings.permute(1,2,0,3)\n",
    "# token_embeddings.size()"
   ]
  },
  {
   "cell_type": "markdown",
   "metadata": {
    "id": "ygF0IIb7ZKY1"
   },
   "source": [
    "## We will use last four hidden layers to create each word embedding"
   ]
  },
  {
   "cell_type": "code",
   "execution_count": 27,
   "metadata": {
    "id": "l5tdv2jqZKY2"
   },
   "outputs": [],
   "source": [
    "# processed_embeddings = token_embeddings[:, :, 9:, :]\n",
    "# processed_embeddings.shape"
   ]
  },
  {
   "cell_type": "code",
   "execution_count": 28,
   "metadata": {
    "id": "RFGsarrfZKY2"
   },
   "outputs": [],
   "source": [
    "# embeddings_cpy = processed_embeddings.clone().detach()"
   ]
  },
  {
   "cell_type": "markdown",
   "metadata": {
    "id": "wtON5S4hlwkY"
   },
   "source": [
    "## Convert data"
   ]
  },
  {
   "cell_type": "markdown",
   "metadata": {
    "id": "DvJWGbljZKY4"
   },
   "source": [
    "### Check embedding size that used as an input for LSTM"
   ]
  },
  {
   "cell_type": "code",
   "execution_count": 29,
   "metadata": {
    "id": "kVXwNw1fZKY4"
   },
   "outputs": [],
   "source": [
    "# size = (embeddings_cpy[0].size()[0],embeddings_cpy[0].size()[1],embeddings_cpy[0].size()[2])\n",
    "# size"
   ]
  },
  {
   "cell_type": "markdown",
   "metadata": {
    "id": "SYNqR499ZKY5"
   },
   "source": [
    "## Change embedding dimension to [sequnce_length, embedding_dim]"
   ]
  },
  {
   "cell_type": "code",
   "execution_count": 30,
   "metadata": {
    "id": "i6kR_Z4XZKY5"
   },
   "outputs": [],
   "source": [
    "# embeddings_cpy = embeddings_cpy.reshape(len(dataset), 50, 3072)"
   ]
  },
  {
   "cell_type": "code",
   "execution_count": 31,
   "metadata": {
    "id": "5ebRa94-ZKY5"
   },
   "outputs": [],
   "source": [
    "# size = (embeddings_cpy[0].size()[0],embeddings_cpy[0].size()[1])\n",
    "# size"
   ]
  },
  {
   "cell_type": "markdown",
   "metadata": {
    "id": "FpJrH8GgZKY6"
   },
   "source": [
    "## Convert torch tensor to numpy array"
   ]
  },
  {
   "cell_type": "code",
   "execution_count": 32,
   "metadata": {
    "id": "djSEvI5yZKY6"
   },
   "outputs": [],
   "source": [
    "# embed = embeddings_cpy.numpy()"
   ]
  },
  {
   "cell_type": "markdown",
   "metadata": {
    "id": "NxLsxdxaZKY6"
   },
   "source": [
    "## Helper function"
   ]
  },
  {
   "cell_type": "code",
   "execution_count": 33,
   "metadata": {
    "id": "kk5Y6Bb9ZKY6"
   },
   "outputs": [],
   "source": [
    "# # def train_test_split(x,y,train_percent):\n",
    "# #     x = np.array(x).astype(np.float32)\n",
    "# #     y = np.array(y)\n",
    "# #     length = len(y)\n",
    "# #     split = int(length * (train_percent/100))\n",
    "# #     return (np.asarray(x[0:split]).astype(np.float32),\n",
    "# #             np.asarray(y[0:split]).astype(np.float32),\n",
    "# #             np.asarray(x[split:]).astype(np.float32),\n",
    "# #             np.asarray(y[split:]).astype(np.float32)\n",
    "# #         )\n",
    "# from sklearn.model_selection import train_test_split"
   ]
  },
  {
   "cell_type": "code",
   "execution_count": 34,
   "metadata": {
    "id": "dm49fxCtZKY6"
   },
   "outputs": [],
   "source": [
    "# def combine_embedding_dataset(data1):\n",
    "#     result = []\n",
    "#     for d1 in zip(data1):\n",
    "#         result.append([d1])\n",
    "#     return np.array(result)"
   ]
  },
  {
   "cell_type": "markdown",
   "metadata": {
    "id": "jDEuBdGVZKY_"
   },
   "source": [
    "## Get labels from pandas dataframe"
   ]
  },
  {
   "cell_type": "code",
   "execution_count": 35,
   "metadata": {
    "id": "ppjtAL0yZKZA"
   },
   "outputs": [],
   "source": [
    "# # Mendapatkan indeks kolom\n",
    "# indeks_label_positif = dataset.columns.get_loc('label-positif')\n",
    "# indeks_label_persuasif = dataset.columns.get_loc('label-persuasif')\n",
    "# indeks_label_produk = dataset.columns.get_loc('label-produk')\n",
    "# indeks_perspektif_tunggal = dataset.columns.get_loc('perspektif-tunggal')\n",
    "# indeks_labels = dataset.columns.get_loc('labels')\n",
    "# # Variabel target y adalah kombinasi dari empat label\n",
    "\n",
    "# # label2 = dataset.iloc[:, [indeks_labels]].copy()\n",
    "# # label2.head()\n",
    "# y = dataset['labels'].values"
   ]
  },
  {
   "cell_type": "code",
   "execution_count": 36,
   "metadata": {
    "id": "JHI71xUBZKZA"
   },
   "outputs": [],
   "source": [
    "# len(y)"
   ]
  },
  {
   "cell_type": "markdown",
   "metadata": {
    "id": "q3wKmWj6ZKZB"
   },
   "source": [
    "## Convert to numpy array"
   ]
  },
  {
   "cell_type": "code",
   "execution_count": 37,
   "metadata": {
    "id": "F7ttxTSHZKZB"
   },
   "outputs": [],
   "source": [
    "#y = y.to_numpy()\n",
    "#y"
   ]
  },
  {
   "cell_type": "markdown",
   "metadata": {
    "id": "csK4gy7QZKZB"
   },
   "source": [
    "## Convert string labels to integer"
   ]
  },
  {
   "cell_type": "code",
   "execution_count": 38,
   "metadata": {
    "id": "d_iF0EWyZKZB"
   },
   "outputs": [],
   "source": [
    "# y = y.astype(int)\n",
    "# y"
   ]
  },
  {
   "cell_type": "markdown",
   "metadata": {
    "id": "u9uOBsaGZKZC"
   },
   "source": [
    "## Create dataset combined from two embedding"
   ]
  },
  {
   "cell_type": "code",
   "execution_count": 39,
   "metadata": {
    "id": "mi63qo8uZKZC"
   },
   "outputs": [],
   "source": [
    "# x = combine_embedding_dataset(embed)"
   ]
  },
  {
   "cell_type": "markdown",
   "metadata": {
    "id": "GE0hXHx5ZKZC"
   },
   "source": [
    "## Split dataset"
   ]
  },
  {
   "cell_type": "code",
   "execution_count": 40,
   "metadata": {
    "id": "Pzd6fB44ZKZD"
   },
   "outputs": [],
   "source": [
    "# # x_train1,y_train,x_test1,y_test = train_test_split(embed1,y,80)\n",
    "# # x_train1,x_test1,y_train,y_test = train_test_split(embed1, y, test_size=0.3, random_state=0)\n",
    "# from sklearn.model_selection import KFold\n",
    "\n",
    "# # kf = KFold(n_splits=4)           #KFold(n_splits=’warn’, shuffle=False, random_state=None)\n",
    "# kf = KFold(5,shuffle=True, random_state=0) # Use for KFold classification\n",
    "\n",
    "# for train_index, validation_index in kf.split(embed):\n",
    "#    print(\"TRAIN:\", embed[train_index], \"VALIDATION:\", embed[validation_index])\n",
    "#    x_train, x_test = embed[train_index], embed[validation_index]\n",
    "#    y_train, y_test = y[train_index], y[validation_index]"
   ]
  },
  {
   "cell_type": "code",
   "execution_count": 41,
   "metadata": {
    "id": "38KNjBE3ZKZD"
   },
   "outputs": [],
   "source": [
    "# y_train.shape"
   ]
  },
  {
   "cell_type": "code",
   "execution_count": 42,
   "metadata": {
    "id": "56muvDoJOcin"
   },
   "outputs": [],
   "source": [
    "# y_test"
   ]
  },
  {
   "cell_type": "markdown",
   "metadata": {
    "id": "7aiFcziJZKZD"
   },
   "source": [
    "## Create one hot encoding labels"
   ]
  },
  {
   "cell_type": "code",
   "execution_count": 43,
   "metadata": {
    "id": "1JkAQNNfZKZD"
   },
   "outputs": [],
   "source": [
    "# y_train = tf.keras.utils.to_categorical(y_train, 2)\n",
    "# y_test = tf.keras.utils.to_categorical(y_test, 2)"
   ]
  },
  {
   "cell_type": "code",
   "execution_count": 44,
   "metadata": {
    "id": "pxkKd679ZKZE"
   },
   "outputs": [],
   "source": [
    "# embed.shape"
   ]
  },
  {
   "cell_type": "code",
   "execution_count": 45,
   "metadata": {
    "id": "0B9eb5oTZKZE"
   },
   "outputs": [],
   "source": [
    "# size"
   ]
  },
  {
   "cell_type": "markdown",
   "metadata": {
    "id": "o5VJljDxxLNV"
   },
   "source": [
    "# BiLSTM"
   ]
  },
  {
   "cell_type": "code",
   "execution_count": 46,
   "metadata": {
    "id": "ulCMuEgXezSD"
   },
   "outputs": [],
   "source": [
    "# from keras import Model\n",
    "# from keras import Sequential\n",
    "# from keras.callbacks import ModelCheckpoint, ReduceLROnPlateau\n",
    "# from keras.layers import Input, Embedding, Conv1D, Bidirectional, LSTM, Dense, Dropout, BatchNormalization, GlobalMaxPooling1D,concatenate,ConvLSTM1D\n",
    "# from keras.layers import MaxPooling1D\n",
    "# from keras.layers import Flatten\n",
    "# from keras.layers import SpatialDropout1D\n",
    "# import joblib"
   ]
  },
  {
   "cell_type": "markdown",
   "metadata": {
    "id": "-9ZW2tGxLTyy"
   },
   "source": [
    "source code from https://github.com/hrshtv/Twitter-Sentiment-Analysis/blob/master/old/Keras-Simple-BiLSTM.ipynb"
   ]
  },
  {
   "cell_type": "code",
   "execution_count": 47,
   "metadata": {
    "id": "lMUWrudzSF4i"
   },
   "outputs": [],
   "source": [
    "# # Mendapatkan embeddings dari IndoRoBERTa\n",
    "# roberta_output = indo_roberta(input_ids, attention_mask=attention_mask)\n",
    "# sequence_output = roberta_output[0]  # Mengambil last_hidden_state"
   ]
  },
  {
   "cell_type": "code",
   "execution_count": 48,
   "metadata": {
    "id": "lREXBdMQRXG8"
   },
   "outputs": [],
   "source": [
    "# import tensorflow as tf\n",
    "\n",
    "# out = tf.keras.layers.BatchNormalization()(sequence_output)\n",
    "# out = tf.keras.layers.Dropout(0.2)(out)\n",
    "# out = tf.keras.layers.Bidirectional(tf.keras.layers.LSTM(256, return_sequences=True))(out)\n",
    "# out = tf.keras.layers.GlobalMaxPooling1D()(out)\n",
    "# out = tf.keras.layers.Dropout(0.2)(out)\n",
    "# y = tf.keras.layers.Dense(2, activation=\"sigmoid\")(out)\n",
    "\n",
    "# model = tf.keras.Model(inputs=[input_ids, attention_mask], outputs=y)\n",
    "# model.layers[2].trainable = True\n",
    "\n",
    "# optimizer = tf.keras.optimizers.Adam(learning_rate=2e-05)\n",
    "# loss = tf.keras.losses.CategoricalCrossentropy(from_logits=False)\n",
    "# metric = tf.keras.metrics.CategoricalAccuracy('balanced_accuracy')\n",
    "\n",
    "# model.compile(optimizer=optimizer, loss=loss, metrics=metric)\n",
    "# model.summary()\n"
   ]
  },
  {
   "cell_type": "code",
   "execution_count": 49,
   "metadata": {
    "id": "F_SJ8YOKZKZF"
   },
   "outputs": [],
   "source": [
    "# import tensorflow as tf\n",
    "# tf.keras.backend.clear_session()\n",
    "\n",
    "# model = Sequential([\n",
    "#     # Lapisan embedding yang mengonversi input integer menjadi vektor dense\n",
    "#     Embedding(input_dim=257, output_dim=300, input_length=257, ),\n",
    "#     BatchNormalization(),\n",
    "#     Dropout(0.2),  # Tambahkan Dropout\n",
    "#     # Lapisan BiLSTM\n",
    "#     Bidirectional(LSTM(256, return_sequences=True)),\n",
    "#     GlobalMaxPooling1D(),  # Tambahkan GlobalMaxPooling1D\n",
    "#     # Opsional: Tambahkan dropout untuk regularisasi\n",
    "#     Dropout(0.2),\n",
    "#     # Lapisan Dense untuk klasifikasi\n",
    "#     Dense(2, activation='sigmoid')  # '4' sesuai dengan jumlah label target Anda, sesuaikan jika berbeda\n",
    "# ])\n",
    "\n",
    "# # Ringkasan model\n",
    "# model.summary()\n"
   ]
  },
  {
   "cell_type": "code",
   "execution_count": 50,
   "metadata": {
    "id": "iuSmYk_6SZdN"
   },
   "outputs": [],
   "source": [
    "# y_train_dl = tf.keras.utils.to_categorical(y_train)\n",
    "# y_test_dl = tf.keras.utils.to_categorical(y_test)"
   ]
  },
  {
   "cell_type": "code",
   "execution_count": 51,
   "metadata": {
    "id": "9Nu3Z1FAMXMd"
   },
   "outputs": [],
   "source": [
    "# model.compile(optimizer='adam',\n",
    "#               loss='binary_crossentropy',  # Gunakan 'sparse_categorical_crossentropy' jika label adalah integer\n",
    "#               metrics=['accuracy'])"
   ]
  },
  {
   "cell_type": "code",
   "execution_count": 52,
   "metadata": {
    "id": "_vEs1wJrTkpy"
   },
   "outputs": [],
   "source": [
    "# history = model.fit(x=x_train, y=y_train, epochs=50, batch_size=128, validation_data=(x_test,y_test), verbose=1)\n",
    "# save_path = '/content/drive/MyDrive/Colab Notebooks/Thesis Persuasive Detection at Paragraph-Level  /Embedding Models/model_roberta_bilstm.pkl'\n",
    "# joblib.dump(model, save_path)\n",
    "# score = model.evaluate(x_test, y_test,verbose=0)\n",
    "# print(\"Accuracy: {}\".format(score[1] * 100))"
   ]
  },
  {
   "cell_type": "markdown",
   "metadata": {
    "id": "1Tu8E2CT9Ni0"
   },
   "source": [
    "## Get Evaluate Score"
   ]
  },
  {
   "cell_type": "code",
   "execution_count": 57,
   "metadata": {
    "id": "HCynlzBh5na5"
   },
   "outputs": [
    {
     "name": "stdout",
     "output_type": "stream",
     "text": [
      "16/16 [==============================] - 60s 4s/step\n",
      "y_true dtype: float32, shape: (500, 2)\n",
      "y_pred dtype: int64, shape: (500,)\n",
      "              precision    recall  f1-score   support\n",
      "\n",
      "           0       0.95      0.91      0.93       228\n",
      "           1       0.93      0.96      0.95       272\n",
      "\n",
      "    accuracy                           0.94       500\n",
      "   macro avg       0.94      0.94      0.94       500\n",
      "weighted avg       0.94      0.94      0.94       500\n",
      "\n"
     ]
    }
   ],
   "source": [
    "predicted_raw = model.predict(\n",
    "    {'input_ids': test_encodings['input_ids'], 'attention_mask': test_encodings['attention_mask']})\n",
    "\n",
    "y_pred = np.argmax(predicted_raw, axis=1)\n",
    "y_true = y_test_dl\n",
    "\n",
    "# Periksa tipe data\n",
    "print(f'y_true dtype: {y_true.dtype}, shape: {y_true.shape}')\n",
    "print(f'y_pred dtype: {y_pred.dtype}, shape: {y_pred.shape}')\n",
    "\n",
    "# Ubah y_true dari one-hot encoded ke label kelas\n",
    "if y_true.ndim == 2:\n",
    "    y_true = np.argmax(y_true, axis=1)\n",
    "\n",
    "print(classification_report(y_true, y_pred))\n"
   ]
  },
  {
   "cell_type": "code",
   "execution_count": 59,
   "metadata": {
    "id": "itjAv7C_DGHC"
   },
   "outputs": [
    {
     "data": {
      "image/png": "[encoded data removed]",
      "text/plain": [
       "<Figure size 640x480 with 2 Axes>"
      ]
     },
     "metadata": {},
     "output_type": "display_data"
    }
   ],
   "source": [
    "from sklearn.metrics import ConfusionMatrixDisplay\n",
    "from sklearn.metrics import confusion_matrix\n",
    "import matplotlib.pyplot as plt\n",
    "\n",
    "labels = [\"News\", \"Native Ads\"]\n",
    "\n",
    "cm = confusion_matrix(y_true, y_pred)\n",
    "\n",
    "disp = ConfusionMatrixDisplay(confusion_matrix=cm, display_labels=labels)\n",
    "\n",
    "disp.plot(cmap=plt.cm.Blues)\n",
    "plt.show()"
   ]
  },
  {
   "cell_type": "markdown",
   "metadata": {
    "id": "2mXepIXRerf7"
   },
   "source": [
    "## roc"
   ]
  },
  {
   "cell_type": "code",
   "execution_count": 61,
   "metadata": {
    "id": "QmvAytw6S-sc"
   },
   "outputs": [
    {
     "name": "stderr",
     "output_type": "stream",
     "text": [
      "C:\\Users\\Asiyah\\anaconda3\\envs\\asiyahnk\\lib\\site-packages\\sklearn\\metrics\\_ranking.py:1029: UndefinedMetricWarning: No positive samples in y_true, true positive value should be meaningless\n",
      "  warnings.warn(\n"
     ]
    },
    {
     "data": {
      "image/png": "[encoded data removed]",
      "text/plain": [
       "<Figure size 640x480 with 1 Axes>"
      ]
     },
     "metadata": {},
     "output_type": "display_data"
    }
   ],
   "source": [
    "import numpy as np\n",
    "from sklearn import metrics\n",
    "\n",
    "y = np.array(y_true)\n",
    "\n",
    "scores = np.array(y_pred)\n",
    "fpr, tpr, thresholds = metrics.roc_curve(y_true, y_pred, pos_label=9)\n",
    "roc_auc = metrics.auc(fpr, tpr)\n",
    "\n",
    "\n",
    "plt.figure()\n",
    "lw = 2\n",
    "plt.plot(fpr, tpr, color='darkorange',\n",
    " lw=lw, label='ROC curve (area = %0.2f)' % roc_auc)\n",
    "plt.plot([0, 1], [0, 1], color='navy', lw=lw, linestyle='--')\n",
    "plt.xlim([0.0, 1.0])\n",
    "plt.ylim([0.0, 1.05])\n",
    "plt.xlabel('False Positive Rate')\n",
    "plt.ylabel('True Positive Rate')\n",
    "plt.title('Receiver operating characteristic (ROC)')\n",
    "plt.legend(loc=\"lower right\")\n",
    "plt.show()"
   ]
  },
  {
   "cell_type": "code",
   "execution_count": 62,
   "metadata": {
    "id": "lC1SjAu9TgMm"
   },
   "outputs": [],
   "source": [
    "from sklearn.metrics import roc_curve, auc\n",
    "\n",
    "fpr_rf, tpr_rf, thresholds_rf = roc_curve(y_true, y_pred)\n",
    "auc_rf = auc(fpr_rf, tpr_rf)"
   ]
  },
  {
   "cell_type": "code",
   "execution_count": 63,
   "metadata": {
    "id": "oXYgRXq0TvXx"
   },
   "outputs": [
    {
     "data": {
      "text/plain": [
       "0.9377579979360166"
      ]
     },
     "execution_count": 63,
     "metadata": {},
     "output_type": "execute_result"
    }
   ],
   "source": [
    "auc_rf"
   ]
  },
  {
   "cell_type": "code",
   "execution_count": 64,
   "metadata": {
    "id": "lQ8MxCcJTdLj"
   },
   "outputs": [
    {
     "data": {
      "image/png": "[encoded data removed]",
      "text/plain": [
       "<Figure size 640x480 with 1 Axes>"
      ]
     },
     "metadata": {},
     "output_type": "display_data"
    },
    {
     "data": {
      "image/png": "[encoded data removed]",
      "text/plain": [
       "<Figure size 640x480 with 1 Axes>"
      ]
     },
     "metadata": {},
     "output_type": "display_data"
    }
   ],
   "source": [
    "plt.figure(1)\n",
    "plt.plot([0, 1], [0, 1], 'k--')\n",
    "plt.plot(fpr_rf, tpr_rf, label='RF (area = {:.3f})'.format(auc_rf))\n",
    "plt.xlabel('False positive rate')\n",
    "plt.ylabel('True positive rate')\n",
    "plt.title('ROC curve')\n",
    "plt.legend(loc='best')\n",
    "plt.show()\n",
    "# Zoom in view of the upper left corner.\n",
    "plt.figure(2)\n",
    "plt.xlim(0, 0.2)\n",
    "plt.ylim(0.8, 1)\n",
    "plt.plot([0, 1], [0, 1], 'k--')\n",
    "plt.plot(fpr_rf, tpr_rf, label='RF (area = {:.3f})'.format(auc_rf))\n",
    "plt.xlabel('False positive rate')\n",
    "plt.ylabel('True positive rate')\n",
    "plt.title('ROC curve (zoomed in at top left)')\n",
    "plt.legend(loc='best')\n",
    "plt.show()"
   ]
  },
  {
   "cell_type": "code",
   "execution_count": 65,
   "metadata": {
    "id": "0BkQtuMJkYfH"
   },
   "outputs": [],
   "source": [
    "def plot_roc_curve(fpr,tpr):\n",
    "  plt.plot(fpr,tpr)\n",
    "  plt.axis([0,1,0,1])\n",
    "  plt.xlabel('False Positive Rate')\n",
    "  plt.ylabel('True Positive Rate')\n",
    "  plt.show()"
   ]
  },
  {
   "cell_type": "code",
   "execution_count": 66,
   "metadata": {
    "id": "YkkP0epDkZUJ"
   },
   "outputs": [],
   "source": [
    "from sklearn.metrics import roc_curve,roc_auc_score\n",
    "\n",
    "fpr , tpr , thresholds = roc_curve (y_true, y_pred)"
   ]
  },
  {
   "cell_type": "code",
   "execution_count": 67,
   "metadata": {
    "id": "GglChJpdkdTz"
   },
   "outputs": [
    {
     "data": {
      "image/png": "[encoded data removed]",
      "text/plain": [
       "<Figure size 640x480 with 1 Axes>"
      ]
     },
     "metadata": {},
     "output_type": "display_data"
    }
   ],
   "source": [
    "plot_roc_curve (fpr,tpr)"
   ]
  },
  {
   "cell_type": "code",
   "execution_count": 69,
   "metadata": {
    "id": "QkSh8Qg1kiGr"
   },
   "outputs": [
    {
     "data": {
      "text/plain": [
       "0.9377579979360166"
      ]
     },
     "execution_count": 69,
     "metadata": {},
     "output_type": "execute_result"
    }
   ],
   "source": [
    "roc_auc_score(y_true, y_pred)"
   ]
  },
  {
   "cell_type": "code",
   "execution_count": 71,
   "metadata": {
    "id": "kEyAP6xUk_L6"
   },
   "outputs": [
    {
     "name": "stdout",
     "output_type": "stream",
     "text": [
      "0.9377579979360166\n"
     ]
    },
    {
     "data": {
      "text/plain": [
       "[<matplotlib.lines.Line2D at 0x2b74e3431c0>]"
      ]
     },
     "execution_count": 71,
     "metadata": {},
     "output_type": "execute_result"
    },
    {
     "data": {
      "image/png": "[encoded data removed]",
      "text/plain": [
       "<Figure size 640x480 with 1 Axes>"
      ]
     },
     "metadata": {},
     "output_type": "display_data"
    }
   ],
   "source": [
    "nn_fpr_keras, nn_tpr_keras, nn_thresholds_keras = roc_curve(y_true, y_pred)\n",
    "auc_keras = auc(nn_fpr_keras, nn_tpr_keras)\n",
    "print(auc_keras)\n",
    "plt.plot(nn_fpr_keras, nn_tpr_keras, marker='.', label='Neural Network (auc = %0.3f)' % auc_keras)"
   ]
  },
  {
   "cell_type": "code",
   "execution_count": 72,
   "metadata": {
    "id": "CFnVYJHvqTMd"
   },
   "outputs": [],
   "source": [
    "def perf_measure(y_actual, y_hat):\n",
    "    TP = 0\n",
    "    FP = 0\n",
    "    TN = 0\n",
    "    FN = 0\n",
    "\n",
    "    for i in range(len(y_hat)):\n",
    "        if y_actual[i]==y_hat[i]==1:\n",
    "           TP += 1\n",
    "        if y_hat[i]==1 and y_actual[i]!=y_hat[i]:\n",
    "           FP += 1\n",
    "        if y_actual[i]==y_hat[i]==0:\n",
    "           TN += 1\n",
    "        if y_hat[i]==0 and y_actual[i]!=y_hat[i]:\n",
    "           FN += 1\n",
    "\n",
    "    return(TP, FP, TN, FN)"
   ]
  },
  {
   "cell_type": "code",
   "execution_count": 73,
   "metadata": {
    "id": "FIZaT7cUqeLg"
   },
   "outputs": [
    {
     "data": {
      "text/plain": [
       "(262, 20, 208, 10)"
      ]
     },
     "execution_count": 73,
     "metadata": {},
     "output_type": "execute_result"
    }
   ],
   "source": [
    "perf_measure(y_true, y_pred)"
   ]
  },
  {
   "cell_type": "code",
   "execution_count": 76,
   "metadata": {
    "id": "7Dz46n58qjMl"
   },
   "outputs": [
    {
     "data": {
      "image/png": "[encoded data removed]",
      "text/plain": [
       "<Figure size 640x480 with 1 Axes>"
      ]
     },
     "metadata": {},
     "output_type": "display_data"
    },
    {
     "data": {
      "image/png": "[encoded data removed]",
      "text/plain": [
       "<Figure size 640x480 with 1 Axes>"
      ]
     },
     "metadata": {},
     "output_type": "display_data"
    },
    {
     "data": {
      "text/plain": [
       "<Figure size 640x480 with 0 Axes>"
      ]
     },
     "metadata": {},
     "output_type": "display_data"
    }
   ],
   "source": [
    "acc = history.history['balanced_accuracy']\n",
    "val_acc = history.history['val_balanced_accuracy']\n",
    "loss = history.history['loss']\n",
    "val_loss = history.history['val_loss']\n",
    "\n",
    "epochs = range(len(acc))\n",
    "\n",
    "plt.plot(epochs, loss, 'r', label='Training Loss')\n",
    "plt.plot(epochs, val_loss, 'b', label='Validation loss')\n",
    "plt.title('Training and validation loss')\n",
    "plt.legend(loc=0)\n",
    "plt.figure()\n",
    "\n",
    "plt.plot(epochs, acc, 'r', label='Training accuracy')\n",
    "plt.plot(epochs, val_acc, 'b', label='Validation accuracy')\n",
    "plt.title('Training and validation accuracy')\n",
    "plt.legend(loc=0)\n",
    "plt.figure()\n",
    "\n",
    "plt.show()"
   ]
  },
  {
   "cell_type": "code",
   "execution_count": null,
   "metadata": {},
   "outputs": [],
   "source": []
  }
 ],
 "metadata": {
  "accelerator": "GPU",
  "colab": {
   "collapsed_sections": [
    "jgebE03Yq0UX"
   ],
   "gpuType": "V100",
   "machine_shape": "hm",
   "provenance": [],
   "toc_visible": true
  },
  "kernelspec": {
   "display_name": "Python 3 (ipykernel)",
   "language": "python",
   "name": "python3"
  },
  "language_info": {
   "codemirror_mode": {
    "name": "ipython",
    "version": 3
   },
   "file_extension": ".py",
   "mimetype": "text/x-python",
   "name": "python",
   "nbconvert_exporter": "python",
   "pygments_lexer": "ipython3",
   "version": "3.8.18"
  },
  "widgets": {
   "application/vnd.jupyter.widget-state+json": {
    "04fc164d54b14a7a85d2809efd03f8ba": {
     "model_module": "@jupyter-widgets/controls",
     "model_module_version": "1.5.0",
     "model_name": "FloatProgressModel",
     "state": {
      "_dom_classes": [],
      "_model_module": "@jupyter-widgets/controls",
      "_model_module_version": "1.5.0",
      "_model_name": "FloatProgressModel",
      "_view_count": null,
      "_view_module": "@jupyter-widgets/controls",
      "_view_module_version": "1.5.0",
      "_view_name": "ProgressView",
      "bar_style": "success",
      "description": "",
      "description_tooltip": null,
      "layout": "IPY_MODEL_836e615432cd401690f555c10130fd0b",
      "max": 468424,
      "min": 0,
      "orientation": "horizontal",
      "style": "IPY_MODEL_ee529cedfb6b4a4c8803251aba308c44",
      "value": 468424
     }
    },
    "0526c98c21b54937ae0d9760e27c8291": {
     "model_module": "@jupyter-widgets/base",
     "model_module_version": "1.2.0",
     "model_name": "LayoutModel",
     "state": {
      "_model_module": "@jupyter-widgets/base",
      "_model_module_version": "1.2.0",
      "_model_name": "LayoutModel",
      "_view_count": null,
      "_view_module": "@jupyter-widgets/base",
      "_view_module_version": "1.2.0",
      "_view_name": "LayoutView",
      "align_content": null,
      "align_items": null,
      "align_self": null,
      "border": null,
      "bottom": null,
      "display": null,
      "flex": null,
      "flex_flow": null,
      "grid_area": null,
      "grid_auto_columns": null,
      "grid_auto_flow": null,
      "grid_auto_rows": null,
      "grid_column": null,
      "grid_gap": null,
      "grid_row": null,
      "grid_template_areas": null,
      "grid_template_columns": null,
      "grid_template_rows": null,
      "height": null,
      "justify_content": null,
      "justify_items": null,
      "left": null,
      "margin": null,
      "max_height": null,
      "max_width": null,
      "min_height": null,
      "min_width": null,
      "object_fit": null,
      "object_position": null,
      "order": null,
      "overflow": null,
      "overflow_x": null,
      "overflow_y": null,
      "padding": null,
      "right": null,
      "top": null,
      "visibility": null,
      "width": null
     }
    },
    "0685f88d2a064e27a688a47dc0c22f49": {
     "model_module": "@jupyter-widgets/controls",
     "model_module_version": "1.5.0",
     "model_name": "HBoxModel",
     "state": {
      "_dom_classes": [],
      "_model_module": "@jupyter-widgets/controls",
      "_model_module_version": "1.5.0",
      "_model_name": "HBoxModel",
      "_view_count": null,
      "_view_module": "@jupyter-widgets/controls",
      "_view_module_version": "1.5.0",
      "_view_name": "HBoxView",
      "box_style": "",
      "children": [
       "IPY_MODEL_54facb6308364ec2a37a5f19b26b159c",
       "IPY_MODEL_9ac667ce9f914449b31170ceff81908a",
       "IPY_MODEL_d864fcac658b45228bfe8beb3faa7d46"
      ],
      "layout": "IPY_MODEL_bd0884484f1c4d699e1795aa2849fc89"
     }
    },
    "0e00a285da664f58b97392a12043a537": {
     "model_module": "@jupyter-widgets/base",
     "model_module_version": "1.2.0",
     "model_name": "LayoutModel",
     "state": {
      "_model_module": "@jupyter-widgets/base",
      "_model_module_version": "1.2.0",
      "_model_name": "LayoutModel",
      "_view_count": null,
      "_view_module": "@jupyter-widgets/base",
      "_view_module_version": "1.2.0",
      "_view_name": "LayoutView",
      "align_content": null,
      "align_items": null,
      "align_self": null,
      "border": null,
      "bottom": null,
      "display": null,
      "flex": null,
      "flex_flow": null,
      "grid_area": null,
      "grid_auto_columns": null,
      "grid_auto_flow": null,
      "grid_auto_rows": null,
      "grid_column": null,
      "grid_gap": null,
      "grid_row": null,
      "grid_template_areas": null,
      "grid_template_columns": null,
      "grid_template_rows": null,
      "height": null,
      "justify_content": null,
      "justify_items": null,
      "left": null,
      "margin": null,
      "max_height": null,
      "max_width": null,
      "min_height": null,
      "min_width": null,
      "object_fit": null,
      "object_position": null,
      "order": null,
      "overflow": null,
      "overflow_x": null,
      "overflow_y": null,
      "padding": null,
      "right": null,
      "top": null,
      "visibility": null,
      "width": null
     }
    },
    "206107371dce475085907a4dd8c17485": {
     "model_module": "@jupyter-widgets/controls",
     "model_module_version": "1.5.0",
     "model_name": "ProgressStyleModel",
     "state": {
      "_model_module": "@jupyter-widgets/controls",
      "_model_module_version": "1.5.0",
      "_model_name": "ProgressStyleModel",
      "_view_count": null,
      "_view_module": "@jupyter-widgets/base",
      "_view_module_version": "1.2.0",
      "_view_name": "StyleView",
      "bar_color": null,
      "description_width": ""
     }
    },
    "25509f287194464892b2368b44220afa": {
     "model_module": "@jupyter-widgets/controls",
     "model_module_version": "1.5.0",
     "model_name": "DescriptionStyleModel",
     "state": {
      "_model_module": "@jupyter-widgets/controls",
      "_model_module_version": "1.5.0",
      "_model_name": "DescriptionStyleModel",
      "_view_count": null,
      "_view_module": "@jupyter-widgets/base",
      "_view_module_version": "1.2.0",
      "_view_name": "StyleView",
      "description_width": ""
     }
    },
    "2c333ad78d9f408a80e8c9cf56cdb83d": {
     "model_module": "@jupyter-widgets/controls",
     "model_module_version": "1.5.0",
     "model_name": "DescriptionStyleModel",
     "state": {
      "_model_module": "@jupyter-widgets/controls",
      "_model_module_version": "1.5.0",
      "_model_name": "DescriptionStyleModel",
      "_view_count": null,
      "_view_module": "@jupyter-widgets/base",
      "_view_module_version": "1.2.0",
      "_view_name": "StyleView",
      "description_width": ""
     }
    },
    "3036a75aa062456cb9a81af5ed80d39c": {
     "model_module": "@jupyter-widgets/controls",
     "model_module_version": "1.5.0",
     "model_name": "HBoxModel",
     "state": {
      "_dom_classes": [],
      "_model_module": "@jupyter-widgets/controls",
      "_model_module_version": "1.5.0",
      "_model_name": "HBoxModel",
      "_view_count": null,
      "_view_module": "@jupyter-widgets/controls",
      "_view_module_version": "1.5.0",
      "_view_name": "HBoxView",
      "box_style": "",
      "children": [
       "IPY_MODEL_5989951a36ab48bebd5822acbfa4dee1",
       "IPY_MODEL_04fc164d54b14a7a85d2809efd03f8ba",
       "IPY_MODEL_751b533c542d4b7380d792b1b001278e"
      ],
      "layout": "IPY_MODEL_0e00a285da664f58b97392a12043a537"
     }
    },
    "31e50a32fc3e4d1982d3bcafc132fdcf": {
     "model_module": "@jupyter-widgets/controls",
     "model_module_version": "1.5.0",
     "model_name": "DescriptionStyleModel",
     "state": {
      "_model_module": "@jupyter-widgets/controls",
      "_model_module_version": "1.5.0",
      "_model_name": "DescriptionStyleModel",
      "_view_count": null,
      "_view_module": "@jupyter-widgets/base",
      "_view_module_version": "1.2.0",
      "_view_name": "StyleView",
      "description_width": ""
     }
    },
    "350aac83b96c4a0394fafa9be89048d7": {
     "model_module": "@jupyter-widgets/controls",
     "model_module_version": "1.5.0",
     "model_name": "DescriptionStyleModel",
     "state": {
      "_model_module": "@jupyter-widgets/controls",
      "_model_module_version": "1.5.0",
      "_model_name": "DescriptionStyleModel",
      "_view_count": null,
      "_view_module": "@jupyter-widgets/base",
      "_view_module_version": "1.2.0",
      "_view_name": "StyleView",
      "description_width": ""
     }
    },
    "3594bef048634042be1cbc700cfffca3": {
     "model_module": "@jupyter-widgets/controls",
     "model_module_version": "1.5.0",
     "model_name": "HBoxModel",
     "state": {
      "_dom_classes": [],
      "_model_module": "@jupyter-widgets/controls",
      "_model_module_version": "1.5.0",
      "_model_name": "HBoxModel",
      "_view_count": null,
      "_view_module": "@jupyter-widgets/controls",
      "_view_module_version": "1.5.0",
      "_view_name": "HBoxView",
      "box_style": "",
      "children": [
       "IPY_MODEL_e2d1f3fc317342948a78d2489b726f9a",
       "IPY_MODEL_c2c62d9ac9d845deba200f0af4199ccc",
       "IPY_MODEL_99afdc6100524ca98d963b19d20d5037"
      ],
      "layout": "IPY_MODEL_ac912fe99b9c427890099e59bc605a01"
     }
    },
    "3674195605f84c7f9903d6db6b80a2c4": {
     "model_module": "@jupyter-widgets/controls",
     "model_module_version": "1.5.0",
     "model_name": "HTMLModel",
     "state": {
      "_dom_classes": [],
      "_model_module": "@jupyter-widgets/controls",
      "_model_module_version": "1.5.0",
      "_model_name": "HTMLModel",
      "_view_count": null,
      "_view_module": "@jupyter-widgets/controls",
      "_view_module_version": "1.5.0",
      "_view_name": "HTMLView",
      "description": "",
      "description_tooltip": null,
      "layout": "IPY_MODEL_d947467c25b040c2b2e94d14b4221626",
      "placeholder": "​",
      "style": "IPY_MODEL_e3085045e63a4f03b0139fd5b0ed9bdb",
      "value": "tokenizer_config.json: 100%"
     }
    },
    "54facb6308364ec2a37a5f19b26b159c": {
     "model_module": "@jupyter-widgets/controls",
     "model_module_version": "1.5.0",
     "model_name": "HTMLModel",
     "state": {
      "_dom_classes": [],
      "_model_module": "@jupyter-widgets/controls",
      "_model_module_version": "1.5.0",
      "_model_name": "HTMLModel",
      "_view_count": null,
      "_view_module": "@jupyter-widgets/controls",
      "_view_module_version": "1.5.0",
      "_view_name": "HTMLView",
      "description": "",
      "description_tooltip": null,
      "layout": "IPY_MODEL_6f3c764b6f294931be964e31a698c64a",
      "placeholder": "​",
      "style": "IPY_MODEL_557907aa51254d448750f68849a9d599",
      "value": "config.json: 100%"
     }
    },
    "557907aa51254d448750f68849a9d599": {
     "model_module": "@jupyter-widgets/controls",
     "model_module_version": "1.5.0",
     "model_name": "DescriptionStyleModel",
     "state": {
      "_model_module": "@jupyter-widgets/controls",
      "_model_module_version": "1.5.0",
      "_model_name": "DescriptionStyleModel",
      "_view_count": null,
      "_view_module": "@jupyter-widgets/base",
      "_view_module_version": "1.2.0",
      "_view_name": "StyleView",
      "description_width": ""
     }
    },
    "589a72d651244fe098c7f60e71291657": {
     "model_module": "@jupyter-widgets/base",
     "model_module_version": "1.2.0",
     "model_name": "LayoutModel",
     "state": {
      "_model_module": "@jupyter-widgets/base",
      "_model_module_version": "1.2.0",
      "_model_name": "LayoutModel",
      "_view_count": null,
      "_view_module": "@jupyter-widgets/base",
      "_view_module_version": "1.2.0",
      "_view_name": "LayoutView",
      "align_content": null,
      "align_items": null,
      "align_self": null,
      "border": null,
      "bottom": null,
      "display": null,
      "flex": null,
      "flex_flow": null,
      "grid_area": null,
      "grid_auto_columns": null,
      "grid_auto_flow": null,
      "grid_auto_rows": null,
      "grid_column": null,
      "grid_gap": null,
      "grid_row": null,
      "grid_template_areas": null,
      "grid_template_columns": null,
      "grid_template_rows": null,
      "height": null,
      "justify_content": null,
      "justify_items": null,
      "left": null,
      "margin": null,
      "max_height": null,
      "max_width": null,
      "min_height": null,
      "min_width": null,
      "object_fit": null,
      "object_position": null,
      "order": null,
      "overflow": null,
      "overflow_x": null,
      "overflow_y": null,
      "padding": null,
      "right": null,
      "top": null,
      "visibility": null,
      "width": null
     }
    },
    "5989951a36ab48bebd5822acbfa4dee1": {
     "model_module": "@jupyter-widgets/controls",
     "model_module_version": "1.5.0",
     "model_name": "HTMLModel",
     "state": {
      "_dom_classes": [],
      "_model_module": "@jupyter-widgets/controls",
      "_model_module_version": "1.5.0",
      "_model_name": "HTMLModel",
      "_view_count": null,
      "_view_module": "@jupyter-widgets/controls",
      "_view_module_version": "1.5.0",
      "_view_name": "HTMLView",
      "description": "",
      "description_tooltip": null,
      "layout": "IPY_MODEL_cd5171ef0f424c8e81f0d3de624eec39",
      "placeholder": "​",
      "style": "IPY_MODEL_31e50a32fc3e4d1982d3bcafc132fdcf",
      "value": "merges.txt: 100%"
     }
    },
    "65babea5d9c04202845120430325731a": {
     "model_module": "@jupyter-widgets/base",
     "model_module_version": "1.2.0",
     "model_name": "LayoutModel",
     "state": {
      "_model_module": "@jupyter-widgets/base",
      "_model_module_version": "1.2.0",
      "_model_name": "LayoutModel",
      "_view_count": null,
      "_view_module": "@jupyter-widgets/base",
      "_view_module_version": "1.2.0",
      "_view_name": "LayoutView",
      "align_content": null,
      "align_items": null,
      "align_self": null,
      "border": null,
      "bottom": null,
      "display": null,
      "flex": null,
      "flex_flow": null,
      "grid_area": null,
      "grid_auto_columns": null,
      "grid_auto_flow": null,
      "grid_auto_rows": null,
      "grid_column": null,
      "grid_gap": null,
      "grid_row": null,
      "grid_template_areas": null,
      "grid_template_columns": null,
      "grid_template_rows": null,
      "height": null,
      "justify_content": null,
      "justify_items": null,
      "left": null,
      "margin": null,
      "max_height": null,
      "max_width": null,
      "min_height": null,
      "min_width": null,
      "object_fit": null,
      "object_position": null,
      "order": null,
      "overflow": null,
      "overflow_x": null,
      "overflow_y": null,
      "padding": null,
      "right": null,
      "top": null,
      "visibility": null,
      "width": null
     }
    },
    "68706e4223de493faf444b2ca149383e": {
     "model_module": "@jupyter-widgets/controls",
     "model_module_version": "1.5.0",
     "model_name": "DescriptionStyleModel",
     "state": {
      "_model_module": "@jupyter-widgets/controls",
      "_model_module_version": "1.5.0",
      "_model_name": "DescriptionStyleModel",
      "_view_count": null,
      "_view_module": "@jupyter-widgets/base",
      "_view_module_version": "1.2.0",
      "_view_name": "StyleView",
      "description_width": ""
     }
    },
    "6f3c764b6f294931be964e31a698c64a": {
     "model_module": "@jupyter-widgets/base",
     "model_module_version": "1.2.0",
     "model_name": "LayoutModel",
     "state": {
      "_model_module": "@jupyter-widgets/base",
      "_model_module_version": "1.2.0",
      "_model_name": "LayoutModel",
      "_view_count": null,
      "_view_module": "@jupyter-widgets/base",
      "_view_module_version": "1.2.0",
      "_view_name": "LayoutView",
      "align_content": null,
      "align_items": null,
      "align_self": null,
      "border": null,
      "bottom": null,
      "display": null,
      "flex": null,
      "flex_flow": null,
      "grid_area": null,
      "grid_auto_columns": null,
      "grid_auto_flow": null,
      "grid_auto_rows": null,
      "grid_column": null,
      "grid_gap": null,
      "grid_row": null,
      "grid_template_areas": null,
      "grid_template_columns": null,
      "grid_template_rows": null,
      "height": null,
      "justify_content": null,
      "justify_items": null,
      "left": null,
      "margin": null,
      "max_height": null,
      "max_width": null,
      "min_height": null,
      "min_width": null,
      "object_fit": null,
      "object_position": null,
      "order": null,
      "overflow": null,
      "overflow_x": null,
      "overflow_y": null,
      "padding": null,
      "right": null,
      "top": null,
      "visibility": null,
      "width": null
     }
    },
    "7345455298ef41ca9c41d5252f207ea4": {
     "model_module": "@jupyter-widgets/controls",
     "model_module_version": "1.5.0",
     "model_name": "DescriptionStyleModel",
     "state": {
      "_model_module": "@jupyter-widgets/controls",
      "_model_module_version": "1.5.0",
      "_model_name": "DescriptionStyleModel",
      "_view_count": null,
      "_view_module": "@jupyter-widgets/base",
      "_view_module_version": "1.2.0",
      "_view_name": "StyleView",
      "description_width": ""
     }
    },
    "751b533c542d4b7380d792b1b001278e": {
     "model_module": "@jupyter-widgets/controls",
     "model_module_version": "1.5.0",
     "model_name": "HTMLModel",
     "state": {
      "_dom_classes": [],
      "_model_module": "@jupyter-widgets/controls",
      "_model_module_version": "1.5.0",
      "_model_name": "HTMLModel",
      "_view_count": null,
      "_view_module": "@jupyter-widgets/controls",
      "_view_module_version": "1.5.0",
      "_view_name": "HTMLView",
      "description": "",
      "description_tooltip": null,
      "layout": "IPY_MODEL_0526c98c21b54937ae0d9760e27c8291",
      "placeholder": "​",
      "style": "IPY_MODEL_a82ec4a9ebc748d584a59f90d8a41523",
      "value": " 468k/468k [00:00&lt;00:00, 1.92MB/s]"
     }
    },
    "836e615432cd401690f555c10130fd0b": {
     "model_module": "@jupyter-widgets/base",
     "model_module_version": "1.2.0",
     "model_name": "LayoutModel",
     "state": {
      "_model_module": "@jupyter-widgets/base",
      "_model_module_version": "1.2.0",
      "_model_name": "LayoutModel",
      "_view_count": null,
      "_view_module": "@jupyter-widgets/base",
      "_view_module_version": "1.2.0",
      "_view_name": "LayoutView",
      "align_content": null,
      "align_items": null,
      "align_self": null,
      "border": null,
      "bottom": null,
      "display": null,
      "flex": null,
      "flex_flow": null,
      "grid_area": null,
      "grid_auto_columns": null,
      "grid_auto_flow": null,
      "grid_auto_rows": null,
      "grid_column": null,
      "grid_gap": null,
      "grid_row": null,
      "grid_template_areas": null,
      "grid_template_columns": null,
      "grid_template_rows": null,
      "height": null,
      "justify_content": null,
      "justify_items": null,
      "left": null,
      "margin": null,
      "max_height": null,
      "max_width": null,
      "min_height": null,
      "min_width": null,
      "object_fit": null,
      "object_position": null,
      "order": null,
      "overflow": null,
      "overflow_x": null,
      "overflow_y": null,
      "padding": null,
      "right": null,
      "top": null,
      "visibility": null,
      "width": null
     }
    },
    "849a8272521e4da5a392f3d17b480ea7": {
     "model_module": "@jupyter-widgets/base",
     "model_module_version": "1.2.0",
     "model_name": "LayoutModel",
     "state": {
      "_model_module": "@jupyter-widgets/base",
      "_model_module_version": "1.2.0",
      "_model_name": "LayoutModel",
      "_view_count": null,
      "_view_module": "@jupyter-widgets/base",
      "_view_module_version": "1.2.0",
      "_view_name": "LayoutView",
      "align_content": null,
      "align_items": null,
      "align_self": null,
      "border": null,
      "bottom": null,
      "display": null,
      "flex": null,
      "flex_flow": null,
      "grid_area": null,
      "grid_auto_columns": null,
      "grid_auto_flow": null,
      "grid_auto_rows": null,
      "grid_column": null,
      "grid_gap": null,
      "grid_row": null,
      "grid_template_areas": null,
      "grid_template_columns": null,
      "grid_template_rows": null,
      "height": null,
      "justify_content": null,
      "justify_items": null,
      "left": null,
      "margin": null,
      "max_height": null,
      "max_width": null,
      "min_height": null,
      "min_width": null,
      "object_fit": null,
      "object_position": null,
      "order": null,
      "overflow": null,
      "overflow_x": null,
      "overflow_y": null,
      "padding": null,
      "right": null,
      "top": null,
      "visibility": null,
      "width": null
     }
    },
    "98ff56e539e6423bb7c2427d79164236": {
     "model_module": "@jupyter-widgets/base",
     "model_module_version": "1.2.0",
     "model_name": "LayoutModel",
     "state": {
      "_model_module": "@jupyter-widgets/base",
      "_model_module_version": "1.2.0",
      "_model_name": "LayoutModel",
      "_view_count": null,
      "_view_module": "@jupyter-widgets/base",
      "_view_module_version": "1.2.0",
      "_view_name": "LayoutView",
      "align_content": null,
      "align_items": null,
      "align_self": null,
      "border": null,
      "bottom": null,
      "display": null,
      "flex": null,
      "flex_flow": null,
      "grid_area": null,
      "grid_auto_columns": null,
      "grid_auto_flow": null,
      "grid_auto_rows": null,
      "grid_column": null,
      "grid_gap": null,
      "grid_row": null,
      "grid_template_areas": null,
      "grid_template_columns": null,
      "grid_template_rows": null,
      "height": null,
      "justify_content": null,
      "justify_items": null,
      "left": null,
      "margin": null,
      "max_height": null,
      "max_width": null,
      "min_height": null,
      "min_width": null,
      "object_fit": null,
      "object_position": null,
      "order": null,
      "overflow": null,
      "overflow_x": null,
      "overflow_y": null,
      "padding": null,
      "right": null,
      "top": null,
      "visibility": null,
      "width": null
     }
    },
    "9907df50ced6463b967f580a9410ba55": {
     "model_module": "@jupyter-widgets/base",
     "model_module_version": "1.2.0",
     "model_name": "LayoutModel",
     "state": {
      "_model_module": "@jupyter-widgets/base",
      "_model_module_version": "1.2.0",
      "_model_name": "LayoutModel",
      "_view_count": null,
      "_view_module": "@jupyter-widgets/base",
      "_view_module_version": "1.2.0",
      "_view_name": "LayoutView",
      "align_content": null,
      "align_items": null,
      "align_self": null,
      "border": null,
      "bottom": null,
      "display": null,
      "flex": null,
      "flex_flow": null,
      "grid_area": null,
      "grid_auto_columns": null,
      "grid_auto_flow": null,
      "grid_auto_rows": null,
      "grid_column": null,
      "grid_gap": null,
      "grid_row": null,
      "grid_template_areas": null,
      "grid_template_columns": null,
      "grid_template_rows": null,
      "height": null,
      "justify_content": null,
      "justify_items": null,
      "left": null,
      "margin": null,
      "max_height": null,
      "max_width": null,
      "min_height": null,
      "min_width": null,
      "object_fit": null,
      "object_position": null,
      "order": null,
      "overflow": null,
      "overflow_x": null,
      "overflow_y": null,
      "padding": null,
      "right": null,
      "top": null,
      "visibility": null,
      "width": null
     }
    },
    "99afdc6100524ca98d963b19d20d5037": {
     "model_module": "@jupyter-widgets/controls",
     "model_module_version": "1.5.0",
     "model_name": "HTMLModel",
     "state": {
      "_dom_classes": [],
      "_model_module": "@jupyter-widgets/controls",
      "_model_module_version": "1.5.0",
      "_model_name": "HTMLModel",
      "_view_count": null,
      "_view_module": "@jupyter-widgets/controls",
      "_view_module_version": "1.5.0",
      "_view_name": "HTMLView",
      "description": "",
      "description_tooltip": null,
      "layout": "IPY_MODEL_589a72d651244fe098c7f60e71291657",
      "placeholder": "​",
      "style": "IPY_MODEL_2c333ad78d9f408a80e8c9cf56cdb83d",
      "value": " 926k/926k [00:00&lt;00:00, 2.81MB/s]"
     }
    },
    "9ac667ce9f914449b31170ceff81908a": {
     "model_module": "@jupyter-widgets/controls",
     "model_module_version": "1.5.0",
     "model_name": "FloatProgressModel",
     "state": {
      "_dom_classes": [],
      "_model_module": "@jupyter-widgets/controls",
      "_model_module_version": "1.5.0",
      "_model_name": "FloatProgressModel",
      "_view_count": null,
      "_view_module": "@jupyter-widgets/controls",
      "_view_module_version": "1.5.0",
      "_view_name": "ProgressView",
      "bar_style": "success",
      "description": "",
      "description_tooltip": null,
      "layout": "IPY_MODEL_9907df50ced6463b967f580a9410ba55",
      "max": 481,
      "min": 0,
      "orientation": "horizontal",
      "style": "IPY_MODEL_206107371dce475085907a4dd8c17485",
      "value": 481
     }
    },
    "9bf5b716d5714ad2b37f69274859bd10": {
     "model_module": "@jupyter-widgets/controls",
     "model_module_version": "1.5.0",
     "model_name": "ProgressStyleModel",
     "state": {
      "_model_module": "@jupyter-widgets/controls",
      "_model_module_version": "1.5.0",
      "_model_name": "ProgressStyleModel",
      "_view_count": null,
      "_view_module": "@jupyter-widgets/base",
      "_view_module_version": "1.2.0",
      "_view_name": "StyleView",
      "bar_color": null,
      "description_width": ""
     }
    },
    "a037c43f25514089a3cc57d5a2f19bd1": {
     "model_module": "@jupyter-widgets/controls",
     "model_module_version": "1.5.0",
     "model_name": "FloatProgressModel",
     "state": {
      "_dom_classes": [],
      "_model_module": "@jupyter-widgets/controls",
      "_model_module_version": "1.5.0",
      "_model_name": "FloatProgressModel",
      "_view_count": null,
      "_view_module": "@jupyter-widgets/controls",
      "_view_module_version": "1.5.0",
      "_view_name": "ProgressView",
      "bar_style": "success",
      "description": "",
      "description_tooltip": null,
      "layout": "IPY_MODEL_a3e7ab0b8e934bc0a60f034c39db3318",
      "max": 150,
      "min": 0,
      "orientation": "horizontal",
      "style": "IPY_MODEL_9bf5b716d5714ad2b37f69274859bd10",
      "value": 150
     }
    },
    "a248adaec41d4206a1fac5ff42d1aa2c": {
     "model_module": "@jupyter-widgets/controls",
     "model_module_version": "1.5.0",
     "model_name": "FloatProgressModel",
     "state": {
      "_dom_classes": [],
      "_model_module": "@jupyter-widgets/controls",
      "_model_module_version": "1.5.0",
      "_model_name": "FloatProgressModel",
      "_view_count": null,
      "_view_module": "@jupyter-widgets/controls",
      "_view_module_version": "1.5.0",
      "_view_name": "ProgressView",
      "bar_style": "success",
      "description": "",
      "description_tooltip": null,
      "layout": "IPY_MODEL_d8e26b6c3e824344b779f4900932fd56",
      "max": 506541322,
      "min": 0,
      "orientation": "horizontal",
      "style": "IPY_MODEL_e7ba6ed5543143379c80cf6e537cefc6",
      "value": 506541322
     }
    },
    "a3e7ab0b8e934bc0a60f034c39db3318": {
     "model_module": "@jupyter-widgets/base",
     "model_module_version": "1.2.0",
     "model_name": "LayoutModel",
     "state": {
      "_model_module": "@jupyter-widgets/base",
      "_model_module_version": "1.2.0",
      "_model_name": "LayoutModel",
      "_view_count": null,
      "_view_module": "@jupyter-widgets/base",
      "_view_module_version": "1.2.0",
      "_view_name": "LayoutView",
      "align_content": null,
      "align_items": null,
      "align_self": null,
      "border": null,
      "bottom": null,
      "display": null,
      "flex": null,
      "flex_flow": null,
      "grid_area": null,
      "grid_auto_columns": null,
      "grid_auto_flow": null,
      "grid_auto_rows": null,
      "grid_column": null,
      "grid_gap": null,
      "grid_row": null,
      "grid_template_areas": null,
      "grid_template_columns": null,
      "grid_template_rows": null,
      "height": null,
      "justify_content": null,
      "justify_items": null,
      "left": null,
      "margin": null,
      "max_height": null,
      "max_width": null,
      "min_height": null,
      "min_width": null,
      "object_fit": null,
      "object_position": null,
      "order": null,
      "overflow": null,
      "overflow_x": null,
      "overflow_y": null,
      "padding": null,
      "right": null,
      "top": null,
      "visibility": null,
      "width": null
     }
    },
    "a722ed576f2444fe8eda0d820820e32d": {
     "model_module": "@jupyter-widgets/base",
     "model_module_version": "1.2.0",
     "model_name": "LayoutModel",
     "state": {
      "_model_module": "@jupyter-widgets/base",
      "_model_module_version": "1.2.0",
      "_model_name": "LayoutModel",
      "_view_count": null,
      "_view_module": "@jupyter-widgets/base",
      "_view_module_version": "1.2.0",
      "_view_name": "LayoutView",
      "align_content": null,
      "align_items": null,
      "align_self": null,
      "border": null,
      "bottom": null,
      "display": null,
      "flex": null,
      "flex_flow": null,
      "grid_area": null,
      "grid_auto_columns": null,
      "grid_auto_flow": null,
      "grid_auto_rows": null,
      "grid_column": null,
      "grid_gap": null,
      "grid_row": null,
      "grid_template_areas": null,
      "grid_template_columns": null,
      "grid_template_rows": null,
      "height": null,
      "justify_content": null,
      "justify_items": null,
      "left": null,
      "margin": null,
      "max_height": null,
      "max_width": null,
      "min_height": null,
      "min_width": null,
      "object_fit": null,
      "object_position": null,
      "order": null,
      "overflow": null,
      "overflow_x": null,
      "overflow_y": null,
      "padding": null,
      "right": null,
      "top": null,
      "visibility": null,
      "width": null
     }
    },
    "a82ec4a9ebc748d584a59f90d8a41523": {
     "model_module": "@jupyter-widgets/controls",
     "model_module_version": "1.5.0",
     "model_name": "DescriptionStyleModel",
     "state": {
      "_model_module": "@jupyter-widgets/controls",
      "_model_module_version": "1.5.0",
      "_model_name": "DescriptionStyleModel",
      "_view_count": null,
      "_view_module": "@jupyter-widgets/base",
      "_view_module_version": "1.2.0",
      "_view_name": "StyleView",
      "description_width": ""
     }
    },
    "a9661defecff4228b0d733b9bad55984": {
     "model_module": "@jupyter-widgets/base",
     "model_module_version": "1.2.0",
     "model_name": "LayoutModel",
     "state": {
      "_model_module": "@jupyter-widgets/base",
      "_model_module_version": "1.2.0",
      "_model_name": "LayoutModel",
      "_view_count": null,
      "_view_module": "@jupyter-widgets/base",
      "_view_module_version": "1.2.0",
      "_view_name": "LayoutView",
      "align_content": null,
      "align_items": null,
      "align_self": null,
      "border": null,
      "bottom": null,
      "display": null,
      "flex": null,
      "flex_flow": null,
      "grid_area": null,
      "grid_auto_columns": null,
      "grid_auto_flow": null,
      "grid_auto_rows": null,
      "grid_column": null,
      "grid_gap": null,
      "grid_row": null,
      "grid_template_areas": null,
      "grid_template_columns": null,
      "grid_template_rows": null,
      "height": null,
      "justify_content": null,
      "justify_items": null,
      "left": null,
      "margin": null,
      "max_height": null,
      "max_width": null,
      "min_height": null,
      "min_width": null,
      "object_fit": null,
      "object_position": null,
      "order": null,
      "overflow": null,
      "overflow_x": null,
      "overflow_y": null,
      "padding": null,
      "right": null,
      "top": null,
      "visibility": null,
      "width": null
     }
    },
    "abb25a2eccca4f7d9e53292808b1aada": {
     "model_module": "@jupyter-widgets/base",
     "model_module_version": "1.2.0",
     "model_name": "LayoutModel",
     "state": {
      "_model_module": "@jupyter-widgets/base",
      "_model_module_version": "1.2.0",
      "_model_name": "LayoutModel",
      "_view_count": null,
      "_view_module": "@jupyter-widgets/base",
      "_view_module_version": "1.2.0",
      "_view_name": "LayoutView",
      "align_content": null,
      "align_items": null,
      "align_self": null,
      "border": null,
      "bottom": null,
      "display": null,
      "flex": null,
      "flex_flow": null,
      "grid_area": null,
      "grid_auto_columns": null,
      "grid_auto_flow": null,
      "grid_auto_rows": null,
      "grid_column": null,
      "grid_gap": null,
      "grid_row": null,
      "grid_template_areas": null,
      "grid_template_columns": null,
      "grid_template_rows": null,
      "height": null,
      "justify_content": null,
      "justify_items": null,
      "left": null,
      "margin": null,
      "max_height": null,
      "max_width": null,
      "min_height": null,
      "min_width": null,
      "object_fit": null,
      "object_position": null,
      "order": null,
      "overflow": null,
      "overflow_x": null,
      "overflow_y": null,
      "padding": null,
      "right": null,
      "top": null,
      "visibility": null,
      "width": null
     }
    },
    "ac912fe99b9c427890099e59bc605a01": {
     "model_module": "@jupyter-widgets/base",
     "model_module_version": "1.2.0",
     "model_name": "LayoutModel",
     "state": {
      "_model_module": "@jupyter-widgets/base",
      "_model_module_version": "1.2.0",
      "_model_name": "LayoutModel",
      "_view_count": null,
      "_view_module": "@jupyter-widgets/base",
      "_view_module_version": "1.2.0",
      "_view_name": "LayoutView",
      "align_content": null,
      "align_items": null,
      "align_self": null,
      "border": null,
      "bottom": null,
      "display": null,
      "flex": null,
      "flex_flow": null,
      "grid_area": null,
      "grid_auto_columns": null,
      "grid_auto_flow": null,
      "grid_auto_rows": null,
      "grid_column": null,
      "grid_gap": null,
      "grid_row": null,
      "grid_template_areas": null,
      "grid_template_columns": null,
      "grid_template_rows": null,
      "height": null,
      "justify_content": null,
      "justify_items": null,
      "left": null,
      "margin": null,
      "max_height": null,
      "max_width": null,
      "min_height": null,
      "min_width": null,
      "object_fit": null,
      "object_position": null,
      "order": null,
      "overflow": null,
      "overflow_x": null,
      "overflow_y": null,
      "padding": null,
      "right": null,
      "top": null,
      "visibility": null,
      "width": null
     }
    },
    "b79a42baed5e48ddb5fcc10c998d38f6": {
     "model_module": "@jupyter-widgets/base",
     "model_module_version": "1.2.0",
     "model_name": "LayoutModel",
     "state": {
      "_model_module": "@jupyter-widgets/base",
      "_model_module_version": "1.2.0",
      "_model_name": "LayoutModel",
      "_view_count": null,
      "_view_module": "@jupyter-widgets/base",
      "_view_module_version": "1.2.0",
      "_view_name": "LayoutView",
      "align_content": null,
      "align_items": null,
      "align_self": null,
      "border": null,
      "bottom": null,
      "display": null,
      "flex": null,
      "flex_flow": null,
      "grid_area": null,
      "grid_auto_columns": null,
      "grid_auto_flow": null,
      "grid_auto_rows": null,
      "grid_column": null,
      "grid_gap": null,
      "grid_row": null,
      "grid_template_areas": null,
      "grid_template_columns": null,
      "grid_template_rows": null,
      "height": null,
      "justify_content": null,
      "justify_items": null,
      "left": null,
      "margin": null,
      "max_height": null,
      "max_width": null,
      "min_height": null,
      "min_width": null,
      "object_fit": null,
      "object_position": null,
      "order": null,
      "overflow": null,
      "overflow_x": null,
      "overflow_y": null,
      "padding": null,
      "right": null,
      "top": null,
      "visibility": null,
      "width": null
     }
    },
    "b96a8f80ac8543e08aeb8333a0ea999c": {
     "model_module": "@jupyter-widgets/controls",
     "model_module_version": "1.5.0",
     "model_name": "HTMLModel",
     "state": {
      "_dom_classes": [],
      "_model_module": "@jupyter-widgets/controls",
      "_model_module_version": "1.5.0",
      "_model_name": "HTMLModel",
      "_view_count": null,
      "_view_module": "@jupyter-widgets/controls",
      "_view_module_version": "1.5.0",
      "_view_name": "HTMLView",
      "description": "",
      "description_tooltip": null,
      "layout": "IPY_MODEL_a9661defecff4228b0d733b9bad55984",
      "placeholder": "​",
      "style": "IPY_MODEL_68706e4223de493faf444b2ca149383e",
      "value": "pytorch_model.bin: 100%"
     }
    },
    "bd0884484f1c4d699e1795aa2849fc89": {
     "model_module": "@jupyter-widgets/base",
     "model_module_version": "1.2.0",
     "model_name": "LayoutModel",
     "state": {
      "_model_module": "@jupyter-widgets/base",
      "_model_module_version": "1.2.0",
      "_model_name": "LayoutModel",
      "_view_count": null,
      "_view_module": "@jupyter-widgets/base",
      "_view_module_version": "1.2.0",
      "_view_name": "LayoutView",
      "align_content": null,
      "align_items": null,
      "align_self": null,
      "border": null,
      "bottom": null,
      "display": null,
      "flex": null,
      "flex_flow": null,
      "grid_area": null,
      "grid_auto_columns": null,
      "grid_auto_flow": null,
      "grid_auto_rows": null,
      "grid_column": null,
      "grid_gap": null,
      "grid_row": null,
      "grid_template_areas": null,
      "grid_template_columns": null,
      "grid_template_rows": null,
      "height": null,
      "justify_content": null,
      "justify_items": null,
      "left": null,
      "margin": null,
      "max_height": null,
      "max_width": null,
      "min_height": null,
      "min_width": null,
      "object_fit": null,
      "object_position": null,
      "order": null,
      "overflow": null,
      "overflow_x": null,
      "overflow_y": null,
      "padding": null,
      "right": null,
      "top": null,
      "visibility": null,
      "width": null
     }
    },
    "c2498ec42ab448179bf02cfc350ca618": {
     "model_module": "@jupyter-widgets/controls",
     "model_module_version": "1.5.0",
     "model_name": "HBoxModel",
     "state": {
      "_dom_classes": [],
      "_model_module": "@jupyter-widgets/controls",
      "_model_module_version": "1.5.0",
      "_model_name": "HBoxModel",
      "_view_count": null,
      "_view_module": "@jupyter-widgets/controls",
      "_view_module_version": "1.5.0",
      "_view_name": "HBoxView",
      "box_style": "",
      "children": [
       "IPY_MODEL_3674195605f84c7f9903d6db6b80a2c4",
       "IPY_MODEL_a037c43f25514089a3cc57d5a2f19bd1",
       "IPY_MODEL_fa174abe111b4c25891e4c724a4c71a3"
      ],
      "layout": "IPY_MODEL_a722ed576f2444fe8eda0d820820e32d"
     }
    },
    "c2c62d9ac9d845deba200f0af4199ccc": {
     "model_module": "@jupyter-widgets/controls",
     "model_module_version": "1.5.0",
     "model_name": "FloatProgressModel",
     "state": {
      "_dom_classes": [],
      "_model_module": "@jupyter-widgets/controls",
      "_model_module_version": "1.5.0",
      "_model_name": "FloatProgressModel",
      "_view_count": null,
      "_view_module": "@jupyter-widgets/controls",
      "_view_module_version": "1.5.0",
      "_view_name": "ProgressView",
      "bar_style": "success",
      "description": "",
      "description_tooltip": null,
      "layout": "IPY_MODEL_849a8272521e4da5a392f3d17b480ea7",
      "max": 926330,
      "min": 0,
      "orientation": "horizontal",
      "style": "IPY_MODEL_fe65939240c4481b9e8e9dc47b31603b",
      "value": 926330
     }
    },
    "cd5171ef0f424c8e81f0d3de624eec39": {
     "model_module": "@jupyter-widgets/base",
     "model_module_version": "1.2.0",
     "model_name": "LayoutModel",
     "state": {
      "_model_module": "@jupyter-widgets/base",
      "_model_module_version": "1.2.0",
      "_model_name": "LayoutModel",
      "_view_count": null,
      "_view_module": "@jupyter-widgets/base",
      "_view_module_version": "1.2.0",
      "_view_name": "LayoutView",
      "align_content": null,
      "align_items": null,
      "align_self": null,
      "border": null,
      "bottom": null,
      "display": null,
      "flex": null,
      "flex_flow": null,
      "grid_area": null,
      "grid_auto_columns": null,
      "grid_auto_flow": null,
      "grid_auto_rows": null,
      "grid_column": null,
      "grid_gap": null,
      "grid_row": null,
      "grid_template_areas": null,
      "grid_template_columns": null,
      "grid_template_rows": null,
      "height": null,
      "justify_content": null,
      "justify_items": null,
      "left": null,
      "margin": null,
      "max_height": null,
      "max_width": null,
      "min_height": null,
      "min_width": null,
      "object_fit": null,
      "object_position": null,
      "order": null,
      "overflow": null,
      "overflow_x": null,
      "overflow_y": null,
      "padding": null,
      "right": null,
      "top": null,
      "visibility": null,
      "width": null
     }
    },
    "d864fcac658b45228bfe8beb3faa7d46": {
     "model_module": "@jupyter-widgets/controls",
     "model_module_version": "1.5.0",
     "model_name": "HTMLModel",
     "state": {
      "_dom_classes": [],
      "_model_module": "@jupyter-widgets/controls",
      "_model_module_version": "1.5.0",
      "_model_name": "HTMLModel",
      "_view_count": null,
      "_view_module": "@jupyter-widgets/controls",
      "_view_module_version": "1.5.0",
      "_view_name": "HTMLView",
      "description": "",
      "description_tooltip": null,
      "layout": "IPY_MODEL_e185ea0c719d4bf28ff731eada2256d1",
      "placeholder": "​",
      "style": "IPY_MODEL_25509f287194464892b2368b44220afa",
      "value": " 481/481 [00:00&lt;00:00, 12.6kB/s]"
     }
    },
    "d88b2eda71e849429257753a3d4e2dc2": {
     "model_module": "@jupyter-widgets/controls",
     "model_module_version": "1.5.0",
     "model_name": "DescriptionStyleModel",
     "state": {
      "_model_module": "@jupyter-widgets/controls",
      "_model_module_version": "1.5.0",
      "_model_name": "DescriptionStyleModel",
      "_view_count": null,
      "_view_module": "@jupyter-widgets/base",
      "_view_module_version": "1.2.0",
      "_view_name": "StyleView",
      "description_width": ""
     }
    },
    "d8e26b6c3e824344b779f4900932fd56": {
     "model_module": "@jupyter-widgets/base",
     "model_module_version": "1.2.0",
     "model_name": "LayoutModel",
     "state": {
      "_model_module": "@jupyter-widgets/base",
      "_model_module_version": "1.2.0",
      "_model_name": "LayoutModel",
      "_view_count": null,
      "_view_module": "@jupyter-widgets/base",
      "_view_module_version": "1.2.0",
      "_view_name": "LayoutView",
      "align_content": null,
      "align_items": null,
      "align_self": null,
      "border": null,
      "bottom": null,
      "display": null,
      "flex": null,
      "flex_flow": null,
      "grid_area": null,
      "grid_auto_columns": null,
      "grid_auto_flow": null,
      "grid_auto_rows": null,
      "grid_column": null,
      "grid_gap": null,
      "grid_row": null,
      "grid_template_areas": null,
      "grid_template_columns": null,
      "grid_template_rows": null,
      "height": null,
      "justify_content": null,
      "justify_items": null,
      "left": null,
      "margin": null,
      "max_height": null,
      "max_width": null,
      "min_height": null,
      "min_width": null,
      "object_fit": null,
      "object_position": null,
      "order": null,
      "overflow": null,
      "overflow_x": null,
      "overflow_y": null,
      "padding": null,
      "right": null,
      "top": null,
      "visibility": null,
      "width": null
     }
    },
    "d947467c25b040c2b2e94d14b4221626": {
     "model_module": "@jupyter-widgets/base",
     "model_module_version": "1.2.0",
     "model_name": "LayoutModel",
     "state": {
      "_model_module": "@jupyter-widgets/base",
      "_model_module_version": "1.2.0",
      "_model_name": "LayoutModel",
      "_view_count": null,
      "_view_module": "@jupyter-widgets/base",
      "_view_module_version": "1.2.0",
      "_view_name": "LayoutView",
      "align_content": null,
      "align_items": null,
      "align_self": null,
      "border": null,
      "bottom": null,
      "display": null,
      "flex": null,
      "flex_flow": null,
      "grid_area": null,
      "grid_auto_columns": null,
      "grid_auto_flow": null,
      "grid_auto_rows": null,
      "grid_column": null,
      "grid_gap": null,
      "grid_row": null,
      "grid_template_areas": null,
      "grid_template_columns": null,
      "grid_template_rows": null,
      "height": null,
      "justify_content": null,
      "justify_items": null,
      "left": null,
      "margin": null,
      "max_height": null,
      "max_width": null,
      "min_height": null,
      "min_width": null,
      "object_fit": null,
      "object_position": null,
      "order": null,
      "overflow": null,
      "overflow_x": null,
      "overflow_y": null,
      "padding": null,
      "right": null,
      "top": null,
      "visibility": null,
      "width": null
     }
    },
    "e185ea0c719d4bf28ff731eada2256d1": {
     "model_module": "@jupyter-widgets/base",
     "model_module_version": "1.2.0",
     "model_name": "LayoutModel",
     "state": {
      "_model_module": "@jupyter-widgets/base",
      "_model_module_version": "1.2.0",
      "_model_name": "LayoutModel",
      "_view_count": null,
      "_view_module": "@jupyter-widgets/base",
      "_view_module_version": "1.2.0",
      "_view_name": "LayoutView",
      "align_content": null,
      "align_items": null,
      "align_self": null,
      "border": null,
      "bottom": null,
      "display": null,
      "flex": null,
      "flex_flow": null,
      "grid_area": null,
      "grid_auto_columns": null,
      "grid_auto_flow": null,
      "grid_auto_rows": null,
      "grid_column": null,
      "grid_gap": null,
      "grid_row": null,
      "grid_template_areas": null,
      "grid_template_columns": null,
      "grid_template_rows": null,
      "height": null,
      "justify_content": null,
      "justify_items": null,
      "left": null,
      "margin": null,
      "max_height": null,
      "max_width": null,
      "min_height": null,
      "min_width": null,
      "object_fit": null,
      "object_position": null,
      "order": null,
      "overflow": null,
      "overflow_x": null,
      "overflow_y": null,
      "padding": null,
      "right": null,
      "top": null,
      "visibility": null,
      "width": null
     }
    },
    "e2d1f3fc317342948a78d2489b726f9a": {
     "model_module": "@jupyter-widgets/controls",
     "model_module_version": "1.5.0",
     "model_name": "HTMLModel",
     "state": {
      "_dom_classes": [],
      "_model_module": "@jupyter-widgets/controls",
      "_model_module_version": "1.5.0",
      "_model_name": "HTMLModel",
      "_view_count": null,
      "_view_module": "@jupyter-widgets/controls",
      "_view_module_version": "1.5.0",
      "_view_name": "HTMLView",
      "description": "",
      "description_tooltip": null,
      "layout": "IPY_MODEL_abb25a2eccca4f7d9e53292808b1aada",
      "placeholder": "​",
      "style": "IPY_MODEL_7345455298ef41ca9c41d5252f207ea4",
      "value": "vocab.json: 100%"
     }
    },
    "e3085045e63a4f03b0139fd5b0ed9bdb": {
     "model_module": "@jupyter-widgets/controls",
     "model_module_version": "1.5.0",
     "model_name": "DescriptionStyleModel",
     "state": {
      "_model_module": "@jupyter-widgets/controls",
      "_model_module_version": "1.5.0",
      "_model_name": "DescriptionStyleModel",
      "_view_count": null,
      "_view_module": "@jupyter-widgets/base",
      "_view_module_version": "1.2.0",
      "_view_name": "StyleView",
      "description_width": ""
     }
    },
    "e65d24bec5084847a55cc1494c80428d": {
     "model_module": "@jupyter-widgets/controls",
     "model_module_version": "1.5.0",
     "model_name": "HTMLModel",
     "state": {
      "_dom_classes": [],
      "_model_module": "@jupyter-widgets/controls",
      "_model_module_version": "1.5.0",
      "_model_name": "HTMLModel",
      "_view_count": null,
      "_view_module": "@jupyter-widgets/controls",
      "_view_module_version": "1.5.0",
      "_view_name": "HTMLView",
      "description": "",
      "description_tooltip": null,
      "layout": "IPY_MODEL_65babea5d9c04202845120430325731a",
      "placeholder": "​",
      "style": "IPY_MODEL_d88b2eda71e849429257753a3d4e2dc2",
      "value": " 507M/507M [00:08&lt;00:00, 24.0MB/s]"
     }
    },
    "e7ba6ed5543143379c80cf6e537cefc6": {
     "model_module": "@jupyter-widgets/controls",
     "model_module_version": "1.5.0",
     "model_name": "ProgressStyleModel",
     "state": {
      "_model_module": "@jupyter-widgets/controls",
      "_model_module_version": "1.5.0",
      "_model_name": "ProgressStyleModel",
      "_view_count": null,
      "_view_module": "@jupyter-widgets/base",
      "_view_module_version": "1.2.0",
      "_view_name": "StyleView",
      "bar_color": null,
      "description_width": ""
     }
    },
    "ee529cedfb6b4a4c8803251aba308c44": {
     "model_module": "@jupyter-widgets/controls",
     "model_module_version": "1.5.0",
     "model_name": "ProgressStyleModel",
     "state": {
      "_model_module": "@jupyter-widgets/controls",
      "_model_module_version": "1.5.0",
      "_model_name": "ProgressStyleModel",
      "_view_count": null,
      "_view_module": "@jupyter-widgets/base",
      "_view_module_version": "1.2.0",
      "_view_name": "StyleView",
      "bar_color": null,
      "description_width": ""
     }
    },
    "f07bd57422714c5d8771476bfe0de977": {
     "model_module": "@jupyter-widgets/controls",
     "model_module_version": "1.5.0",
     "model_name": "HBoxModel",
     "state": {
      "_dom_classes": [],
      "_model_module": "@jupyter-widgets/controls",
      "_model_module_version": "1.5.0",
      "_model_name": "HBoxModel",
      "_view_count": null,
      "_view_module": "@jupyter-widgets/controls",
      "_view_module_version": "1.5.0",
      "_view_name": "HBoxView",
      "box_style": "",
      "children": [
       "IPY_MODEL_b96a8f80ac8543e08aeb8333a0ea999c",
       "IPY_MODEL_a248adaec41d4206a1fac5ff42d1aa2c",
       "IPY_MODEL_e65d24bec5084847a55cc1494c80428d"
      ],
      "layout": "IPY_MODEL_98ff56e539e6423bb7c2427d79164236"
     }
    },
    "fa174abe111b4c25891e4c724a4c71a3": {
     "model_module": "@jupyter-widgets/controls",
     "model_module_version": "1.5.0",
     "model_name": "HTMLModel",
     "state": {
      "_dom_classes": [],
      "_model_module": "@jupyter-widgets/controls",
      "_model_module_version": "1.5.0",
      "_model_name": "HTMLModel",
      "_view_count": null,
      "_view_module": "@jupyter-widgets/controls",
      "_view_module_version": "1.5.0",
      "_view_name": "HTMLView",
      "description": "",
      "description_tooltip": null,
      "layout": "IPY_MODEL_b79a42baed5e48ddb5fcc10c998d38f6",
      "placeholder": "​",
      "style": "IPY_MODEL_350aac83b96c4a0394fafa9be89048d7",
      "value": " 150/150 [00:00&lt;00:00, 4.08kB/s]"
     }
    },
    "fe65939240c4481b9e8e9dc47b31603b": {
     "model_module": "@jupyter-widgets/controls",
     "model_module_version": "1.5.0",
     "model_name": "ProgressStyleModel",
     "state": {
      "_model_module": "@jupyter-widgets/controls",
      "_model_module_version": "1.5.0",
      "_model_name": "ProgressStyleModel",
      "_view_count": null,
      "_view_module": "@jupyter-widgets/base",
      "_view_module_version": "1.2.0",
      "_view_name": "StyleView",
      "bar_color": null,
      "description_width": ""
     }
    }
   }
  }
 },
 "nbformat": 4,
 "nbformat_minor": 4
}
