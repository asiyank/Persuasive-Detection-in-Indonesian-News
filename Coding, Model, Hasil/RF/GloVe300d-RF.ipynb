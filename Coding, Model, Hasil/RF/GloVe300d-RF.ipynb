{
 "cells": [
  {
   "cell_type": "code",
   "execution_count": 2,
   "metadata": {
    "colab": {
     "base_uri": "https://localhost:8080/"
    },
    "executionInfo": {
     "elapsed": 10034,
     "status": "ok",
     "timestamp": 1724159820277,
     "user": {
      "displayName": "The fallen of capitalism",
      "userId": "12075089667414372305"
     },
     "user_tz": -420
    },
    "id": "HSFQvqhFFgxD",
    "outputId": "625f93f7-5957-4c62-d6ce-5aaf5598817d"
   },
   "outputs": [
    {
     "name": "stderr",
     "output_type": "stream",
     "text": [
      "[nltk_data] Downloading collection 'popular'\n",
      "[nltk_data]    | \n",
      "[nltk_data]    | Downloading package cmudict to\n",
      "[nltk_data]    |     C:\\Users\\Asiyah\\AppData\\Roaming\\nltk_data...\n",
      "[nltk_data]    |   Package cmudict is already up-to-date!\n",
      "[nltk_data]    | Downloading package gazetteers to\n",
      "[nltk_data]    |     C:\\Users\\Asiyah\\AppData\\Roaming\\nltk_data...\n",
      "[nltk_data]    |   Package gazetteers is already up-to-date!\n",
      "[nltk_data]    | Downloading package genesis to\n",
      "[nltk_data]    |     C:\\Users\\Asiyah\\AppData\\Roaming\\nltk_data...\n",
      "[nltk_data]    |   Package genesis is already up-to-date!\n",
      "[nltk_data]    | Downloading package gutenberg to\n",
      "[nltk_data]    |     C:\\Users\\Asiyah\\AppData\\Roaming\\nltk_data...\n",
      "[nltk_data]    |   Package gutenberg is already up-to-date!\n",
      "[nltk_data]    | Downloading package inaugural to\n",
      "[nltk_data]    |     C:\\Users\\Asiyah\\AppData\\Roaming\\nltk_data...\n",
      "[nltk_data]    |   Package inaugural is already up-to-date!\n",
      "[nltk_data]    | Downloading package movie_reviews to\n",
      "[nltk_data]    |     C:\\Users\\Asiyah\\AppData\\Roaming\\nltk_data...\n",
      "[nltk_data]    |   Package movie_reviews is already up-to-date!\n",
      "[nltk_data]    | Downloading package names to\n",
      "[nltk_data]    |     C:\\Users\\Asiyah\\AppData\\Roaming\\nltk_data...\n",
      "[nltk_data]    |   Package names is already up-to-date!\n",
      "[nltk_data]    | Downloading package shakespeare to\n",
      "[nltk_data]    |     C:\\Users\\Asiyah\\AppData\\Roaming\\nltk_data...\n",
      "[nltk_data]    |   Package shakespeare is already up-to-date!\n",
      "[nltk_data]    | Downloading package stopwords to\n",
      "[nltk_data]    |     C:\\Users\\Asiyah\\AppData\\Roaming\\nltk_data...\n",
      "[nltk_data]    |   Package stopwords is already up-to-date!\n",
      "[nltk_data]    | Downloading package treebank to\n",
      "[nltk_data]    |     C:\\Users\\Asiyah\\AppData\\Roaming\\nltk_data...\n",
      "[nltk_data]    |   Package treebank is already up-to-date!\n",
      "[nltk_data]    | Downloading package twitter_samples to\n",
      "[nltk_data]    |     C:\\Users\\Asiyah\\AppData\\Roaming\\nltk_data...\n",
      "[nltk_data]    |   Package twitter_samples is already up-to-date!\n",
      "[nltk_data]    | Downloading package omw to\n",
      "[nltk_data]    |     C:\\Users\\Asiyah\\AppData\\Roaming\\nltk_data...\n",
      "[nltk_data]    |   Package omw is already up-to-date!\n",
      "[nltk_data]    | Downloading package omw-1.4 to\n",
      "[nltk_data]    |     C:\\Users\\Asiyah\\AppData\\Roaming\\nltk_data...\n",
      "[nltk_data]    |   Package omw-1.4 is already up-to-date!\n",
      "[nltk_data]    | Downloading package wordnet to\n",
      "[nltk_data]    |     C:\\Users\\Asiyah\\AppData\\Roaming\\nltk_data...\n",
      "[nltk_data]    |   Package wordnet is already up-to-date!\n",
      "[nltk_data]    | Downloading package wordnet2021 to\n",
      "[nltk_data]    |     C:\\Users\\Asiyah\\AppData\\Roaming\\nltk_data...\n",
      "[nltk_data]    |   Package wordnet2021 is already up-to-date!\n",
      "[nltk_data]    | Downloading package wordnet31 to\n",
      "[nltk_data]    |     C:\\Users\\Asiyah\\AppData\\Roaming\\nltk_data...\n",
      "[nltk_data]    |   Package wordnet31 is already up-to-date!\n",
      "[nltk_data]    | Downloading package wordnet_ic to\n",
      "[nltk_data]    |     C:\\Users\\Asiyah\\AppData\\Roaming\\nltk_data...\n",
      "[nltk_data]    |   Package wordnet_ic is already up-to-date!\n",
      "[nltk_data]    | Downloading package words to\n",
      "[nltk_data]    |     C:\\Users\\Asiyah\\AppData\\Roaming\\nltk_data...\n",
      "[nltk_data]    |   Package words is already up-to-date!\n",
      "[nltk_data]    | Downloading package maxent_ne_chunker to\n",
      "[nltk_data]    |     C:\\Users\\Asiyah\\AppData\\Roaming\\nltk_data...\n",
      "[nltk_data]    |   Package maxent_ne_chunker is already up-to-date!\n",
      "[nltk_data]    | Downloading package punkt to\n",
      "[nltk_data]    |     C:\\Users\\Asiyah\\AppData\\Roaming\\nltk_data...\n",
      "[nltk_data]    |   Package punkt is already up-to-date!\n",
      "[nltk_data]    | Downloading package snowball_data to\n",
      "[nltk_data]    |     C:\\Users\\Asiyah\\AppData\\Roaming\\nltk_data...\n",
      "[nltk_data]    |   Package snowball_data is already up-to-date!\n",
      "[nltk_data]    | Downloading package averaged_perceptron_tagger to\n",
      "[nltk_data]    |     C:\\Users\\Asiyah\\AppData\\Roaming\\nltk_data...\n",
      "[nltk_data]    |   Package averaged_perceptron_tagger is already up-\n",
      "[nltk_data]    |       to-date!\n",
      "[nltk_data]    | \n",
      "[nltk_data]  Done downloading collection popular\n"
     ]
    },
    {
     "name": "stdout",
     "output_type": "stream",
     "text": [
      "Requirement already satisfied: Sastrawi in c:\\users\\asiyah\\anaconda3\\envs\\asiyah_env\\lib\\site-packages (1.0.1)\n",
      "Requirement already satisfied: nlp-id in c:\\users\\asiyah\\anaconda3\\envs\\asiyah_env\\lib\\site-packages (0.1.15.0)\n",
      "Requirement already satisfied: scikit-learn==1.2.2 in c:\\users\\asiyah\\anaconda3\\envs\\asiyah_env\\lib\\site-packages (from nlp-id) (1.2.2)\n",
      "Requirement already satisfied: nltk==3.8.1 in c:\\users\\asiyah\\anaconda3\\envs\\asiyah_env\\lib\\site-packages (from nlp-id) (3.8.1)\n",
      "Requirement already satisfied: wget==3.2 in c:\\users\\asiyah\\anaconda3\\envs\\asiyah_env\\lib\\site-packages (from nlp-id) (3.2)\n",
      "Requirement already satisfied: pytest==7.3.1 in c:\\users\\asiyah\\anaconda3\\envs\\asiyah_env\\lib\\site-packages (from nlp-id) (7.3.1)\n",
      "Requirement already satisfied: click in c:\\users\\asiyah\\anaconda3\\envs\\asiyah_env\\lib\\site-packages (from nltk==3.8.1->nlp-id) (8.1.7)\n",
      "Requirement already satisfied: joblib in c:\\users\\asiyah\\anaconda3\\envs\\asiyah_env\\lib\\site-packages (from nltk==3.8.1->nlp-id) (1.4.2)\n",
      "Requirement already satisfied: regex>=2021.8.3 in c:\\users\\asiyah\\anaconda3\\envs\\asiyah_env\\lib\\site-packages (from nltk==3.8.1->nlp-id) (2024.7.24)\n",
      "Requirement already satisfied: tqdm in c:\\users\\asiyah\\anaconda3\\envs\\asiyah_env\\lib\\site-packages (from nltk==3.8.1->nlp-id) (4.66.5)\n",
      "Requirement already satisfied: iniconfig in c:\\users\\asiyah\\anaconda3\\envs\\asiyah_env\\lib\\site-packages (from pytest==7.3.1->nlp-id) (2.0.0)\n",
      "Requirement already satisfied: packaging in c:\\users\\asiyah\\anaconda3\\envs\\asiyah_env\\lib\\site-packages (from pytest==7.3.1->nlp-id) (24.0)\n",
      "Requirement already satisfied: pluggy<2.0,>=0.12 in c:\\users\\asiyah\\anaconda3\\envs\\asiyah_env\\lib\\site-packages (from pytest==7.3.1->nlp-id) (1.4.0)\n",
      "Requirement already satisfied: colorama in c:\\users\\asiyah\\anaconda3\\envs\\asiyah_env\\lib\\site-packages (from pytest==7.3.1->nlp-id) (0.4.6)\n",
      "Requirement already satisfied: numpy>=1.17.3 in c:\\users\\asiyah\\anaconda3\\envs\\asiyah_env\\lib\\site-packages (from scikit-learn==1.2.2->nlp-id) (1.26.4)\n",
      "Requirement already satisfied: scipy>=1.3.2 in c:\\users\\asiyah\\anaconda3\\envs\\asiyah_env\\lib\\site-packages (from scikit-learn==1.2.2->nlp-id) (1.12.0)\n",
      "Requirement already satisfied: threadpoolctl>=2.0.0 in c:\\users\\asiyah\\anaconda3\\envs\\asiyah_env\\lib\\site-packages (from scikit-learn==1.2.2->nlp-id) (3.4.0)\n"
     ]
    }
   ],
   "source": [
    "import nltk\n",
    "nltk.download(\"popular\")\n",
    "from nltk.corpus import stopwords\n",
    "!pip install Sastrawi\n",
    "from Sastrawi.Stemmer.StemmerFactory import StemmerFactory\n",
    "!pip install nlp-id\n",
    "from tensorflow.keras.preprocessing import sequence\n",
    "import numpy as np\n",
    "#!pip install torch\n",
    "import pandas as pd\n",
    "import numpy as np\n",
    "from tensorflow.keras.layers import LSTM, Activation, Dropout, Dense, Input\n",
    "from tensorflow import keras\n",
    "from tensorflow.keras import layers as L\n",
    "from tensorflow.keras.models import Model\n",
    "import string\n",
    "import re\n",
    "from tensorflow.keras.preprocessing.text import Tokenizer\n",
    "from sklearn.preprocessing import LabelBinarizer\n",
    "from tensorflow.keras.preprocessing.sequence import pad_sequences\n",
    "import keras\n",
    "from sklearn.model_selection import train_test_split"
   ]
  },
  {
   "cell_type": "markdown",
   "metadata": {
    "id": "quii9ZbfKD5H"
   },
   "source": [
    "## Load Data"
   ]
  },
  {
   "cell_type": "code",
   "execution_count": 3,
   "metadata": {
    "colab": {
     "base_uri": "https://localhost:8080/",
     "height": 1000
    },
    "executionInfo": {
     "elapsed": 6601,
     "status": "ok",
     "timestamp": 1724159826875,
     "user": {
      "displayName": "The fallen of capitalism",
      "userId": "12075089667414372305"
     },
     "user_tz": -420
    },
    "id": "OgUIuU25KYCb",
    "outputId": "9259773b-7919-4bb8-e457-6a2368784261"
   },
   "outputs": [
    {
     "name": "stderr",
     "output_type": "stream",
     "text": [
      "<>:7: SyntaxWarning: invalid escape sequence '\\A'\n",
      "<>:7: SyntaxWarning: invalid escape sequence '\\A'\n",
      "C:\\Users\\Asiyah\\AppData\\Local\\Temp\\ipykernel_23780\\4022682437.py:7: SyntaxWarning: invalid escape sequence '\\A'\n",
      "  dataset = pd.read_excel('E:\\Asiyah/tesis/Thesis Persuasive Detection at Paragraph-Level/All Dataset\\Prepocessed (3).xlsx', dtype=str, index_col=None)\n"
     ]
    },
    {
     "data": {
      "text/html": [
       "<div>\n",
       "<style scoped>\n",
       "    .dataframe tbody tr th:only-of-type {\n",
       "        vertical-align: middle;\n",
       "    }\n",
       "\n",
       "    .dataframe tbody tr th {\n",
       "        vertical-align: top;\n",
       "    }\n",
       "\n",
       "    .dataframe thead th {\n",
       "        text-align: right;\n",
       "    }\n",
       "</style>\n",
       "<table border=\"1\" class=\"dataframe\">\n",
       "  <thead>\n",
       "    <tr style=\"text-align: right;\">\n",
       "      <th></th>\n",
       "      <th>id-berita</th>\n",
       "      <th>url</th>\n",
       "      <th>judul</th>\n",
       "      <th>content per paragraf</th>\n",
       "      <th>label-positif</th>\n",
       "      <th>label-persuasif</th>\n",
       "      <th>label-produk</th>\n",
       "      <th>perspektif-tunggal</th>\n",
       "      <th>label-berita</th>\n",
       "      <th>labels</th>\n",
       "      <th>content_lower</th>\n",
       "      <th>content_punct</th>\n",
       "      <th>content_lemma</th>\n",
       "      <th>content_token</th>\n",
       "      <th>content_stopwords</th>\n",
       "    </tr>\n",
       "  </thead>\n",
       "  <tbody>\n",
       "    <tr>\n",
       "      <th>0</th>\n",
       "      <td>229</td>\n",
       "      <td>https://tekno.sindonews.com/read/807727/776/pe...</td>\n",
       "      <td>Pengertian Absen Online dan Kelebihannya Diban...</td>\n",
       "      <td>Absen Online kini mulai merambah ke berbagai p...</td>\n",
       "      <td>0</td>\n",
       "      <td>0</td>\n",
       "      <td>1</td>\n",
       "      <td>1</td>\n",
       "      <td>native ads</td>\n",
       "      <td>1</td>\n",
       "      <td>absen online kini mulai merambah ke berbagai p...</td>\n",
       "      <td>absen online kini mulai merambah ke berbagai p...</td>\n",
       "      <td>absen online kini mulai rambah ke bagai usaha ...</td>\n",
       "      <td>['absen', 'online', 'rambah', 'usaha', 'ganti'...</td>\n",
       "      <td>absen online rambah usaha ganti absen manual r...</td>\n",
       "    </tr>\n",
       "    <tr>\n",
       "      <th>1</th>\n",
       "      <td>229</td>\n",
       "      <td>https://tekno.sindonews.com/read/807727/776/pe...</td>\n",
       "      <td>Pengertian Absen Online dan Kelebihannya Diban...</td>\n",
       "      <td>Sebelum mengetahui manfaat absen online bagi p...</td>\n",
       "      <td>1</td>\n",
       "      <td>1</td>\n",
       "      <td>1</td>\n",
       "      <td>1</td>\n",
       "      <td>native ads</td>\n",
       "      <td>1</td>\n",
       "      <td>sebelum mengetahui manfaat absen online bagi p...</td>\n",
       "      <td>sebelum mengetahui manfaat absen online bagi p...</td>\n",
       "      <td>belum tahu manfaat absen online bagi usaha mar...</td>\n",
       "      <td>['manfaat', 'absen', 'online', 'usaha', 'mari'...</td>\n",
       "      <td>manfaat absen online usaha mari ajar erti lapo...</td>\n",
       "    </tr>\n",
       "    <tr>\n",
       "      <th>2</th>\n",
       "      <td>229</td>\n",
       "      <td>https://tekno.sindonews.com/read/807727/776/pe...</td>\n",
       "      <td>Pengertian Absen Online dan Kelebihannya Diban...</td>\n",
       "      <td>Semua data tersebut selanjutnya akan diberikan...</td>\n",
       "      <td>1</td>\n",
       "      <td>0</td>\n",
       "      <td>1</td>\n",
       "      <td>1</td>\n",
       "      <td>native ads</td>\n",
       "      <td>1</td>\n",
       "      <td>semua data tersebut selanjutnya akan diberikan...</td>\n",
       "      <td>semua data tersebut selanjutnya akan diberikan...</td>\n",
       "      <td>semua data sebut lanjut akan beri kepada hrd y...</td>\n",
       "      <td>['data', 'hrd', 'tanggung', 'gaji', 'karyawan'...</td>\n",
       "      <td>data hrd tanggung gaji karyawan data hrd rugi ...</td>\n",
       "    </tr>\n",
       "    <tr>\n",
       "      <th>3</th>\n",
       "      <td>229</td>\n",
       "      <td>https://tekno.sindonews.com/read/807727/776/pe...</td>\n",
       "      <td>Pengertian Absen Online dan Kelebihannya Diban...</td>\n",
       "      <td>Setiap hari karyawan melakukan absen dengan me...</td>\n",
       "      <td>1</td>\n",
       "      <td>1</td>\n",
       "      <td>0</td>\n",
       "      <td>1</td>\n",
       "      <td>native ads</td>\n",
       "      <td>1</td>\n",
       "      <td>setiap hari karyawan melakukan absen dengan me...</td>\n",
       "      <td>setiap hari karyawan melakukan absen dengan me...</td>\n",
       "      <td>tiap hari karyawan laku absen dengan tulis jam...</td>\n",
       "      <td>['karyawan', 'laku', 'absen', 'tulis', 'jam', ...</td>\n",
       "      <td>karyawan laku absen tulis jam hadir tanda tang...</td>\n",
       "    </tr>\n",
       "    <tr>\n",
       "      <th>4</th>\n",
       "      <td>229</td>\n",
       "      <td>https://tekno.sindonews.com/read/807727/776/pe...</td>\n",
       "      <td>Pengertian Absen Online dan Kelebihannya Diban...</td>\n",
       "      <td>Sementara, Absen online merupakan sistem absen...</td>\n",
       "      <td>1</td>\n",
       "      <td>1</td>\n",
       "      <td>1</td>\n",
       "      <td>1</td>\n",
       "      <td>native ads</td>\n",
       "      <td>1</td>\n",
       "      <td>sementara, absen online merupakan sistem absen...</td>\n",
       "      <td>sementara, absen online merupakan sistem absen...</td>\n",
       "      <td>sementara absen online rupa sistem absensi yan...</td>\n",
       "      <td>['absen', 'online', 'rupa', 'sistem', 'absensi...</td>\n",
       "      <td>absen online rupa sistem absensi manfaat jarin...</td>\n",
       "    </tr>\n",
       "    <tr>\n",
       "      <th>...</th>\n",
       "      <td>...</td>\n",
       "      <td>...</td>\n",
       "      <td>...</td>\n",
       "      <td>...</td>\n",
       "      <td>...</td>\n",
       "      <td>...</td>\n",
       "      <td>...</td>\n",
       "      <td>...</td>\n",
       "      <td>...</td>\n",
       "      <td>...</td>\n",
       "      <td>...</td>\n",
       "      <td>...</td>\n",
       "      <td>...</td>\n",
       "      <td>...</td>\n",
       "      <td>...</td>\n",
       "    </tr>\n",
       "    <tr>\n",
       "      <th>2497</th>\n",
       "      <td>998</td>\n",
       "      <td>https://cnnindonesia.com/teknologi/20221203102...</td>\n",
       "      <td>Elon Musk Sebut Twitter Tutupi Cerita Kontrove...</td>\n",
       "      <td>Donald Trump yang menjadi lawan Biden sekaligu...</td>\n",
       "      <td>-1</td>\n",
       "      <td>0</td>\n",
       "      <td>0</td>\n",
       "      <td>1</td>\n",
       "      <td>berita murni</td>\n",
       "      <td>0</td>\n",
       "      <td>donald trump yang menjadi lawan biden sekaligu...</td>\n",
       "      <td>donald trump yang menjadi lawan biden sekalig...</td>\n",
       "      <td>donald trump yang jadi lawan biden sekaligus t...</td>\n",
       "      <td>['donald', 'trump', 'lawan', 'biden', 'tahana'...</td>\n",
       "      <td>donald trump lawan biden tahana coba serang bi...</td>\n",
       "    </tr>\n",
       "    <tr>\n",
       "      <th>2498</th>\n",
       "      <td>998</td>\n",
       "      <td>https://cnnindonesia.com/teknologi/20221203102...</td>\n",
       "      <td>Elon Musk Sebut Twitter Tutupi Cerita Kontrove...</td>\n",
       "      <td>Dalam utas tersebut, Taibbi mengatakan bahwa a...</td>\n",
       "      <td>0</td>\n",
       "      <td>0</td>\n",
       "      <td>0</td>\n",
       "      <td>1</td>\n",
       "      <td>berita murni</td>\n",
       "      <td>0</td>\n",
       "      <td>dalam utas tersebut, taibbi mengatakan bahwa a...</td>\n",
       "      <td>dalam utas tersebut, taibbi mengatakan bahwa a...</td>\n",
       "      <td>dalam utas sebut taibbi kata bahwa apa yang ak...</td>\n",
       "      <td>['utas', 'taibbi', 'baca', 'cuplik', 'buah', '...</td>\n",
       "      <td>utas taibbi baca cuplik buah serial dasar ribu...</td>\n",
       "    </tr>\n",
       "    <tr>\n",
       "      <th>2499</th>\n",
       "      <td>998</td>\n",
       "      <td>https://cnnindonesia.com/teknologi/20221203102...</td>\n",
       "      <td>Elon Musk Sebut Twitter Tutupi Cerita Kontrove...</td>\n",
       "      <td>Namun menurut Taibbi, Twitter pelan-pelan mala...</td>\n",
       "      <td>-1</td>\n",
       "      <td>0</td>\n",
       "      <td>0</td>\n",
       "      <td>0</td>\n",
       "      <td>berita murni</td>\n",
       "      <td>0</td>\n",
       "      <td>namun menurut taibbi, twitter pelan-pelan mala...</td>\n",
       "      <td>namun menurut taibbi, twitter pelan-pelan mala...</td>\n",
       "      <td>namun turut taibbi twitter pelan malah tambah ...</td>\n",
       "      <td>['taibbi', 'twitter', 'pelan', 'halang', 'hala...</td>\n",
       "      <td>taibbi twitter pelan halang halang alat kontro...</td>\n",
       "    </tr>\n",
       "    <tr>\n",
       "      <th>2500</th>\n",
       "      <td>998</td>\n",
       "      <td>https://cnnindonesia.com/teknologi/20221203102...</td>\n",
       "      <td>Elon Musk Sebut Twitter Tutupi Cerita Kontrove...</td>\n",
       "      <td>Taibbi juga menyebut sejumlah partai politik m...</td>\n",
       "      <td>-1</td>\n",
       "      <td>0</td>\n",
       "      <td>1</td>\n",
       "      <td>1</td>\n",
       "      <td>berita murni</td>\n",
       "      <td>0</td>\n",
       "      <td>taibbi juga menyebut sejumlah partai politik m...</td>\n",
       "      <td>taibbi juga menyebut sejumlah partai politik m...</td>\n",
       "      <td>taibbi juga sebut jumlah partai politik milik ...</td>\n",
       "      <td>['taibbi', 'partai', 'politik', 'milik', 'akse...</td>\n",
       "      <td>taibbi partai politik milik akses hadap alat c...</td>\n",
       "    </tr>\n",
       "    <tr>\n",
       "      <th>2501</th>\n",
       "      <td>998</td>\n",
       "      <td>https://cnnindonesia.com/teknologi/20221203102...</td>\n",
       "      <td>Elon Musk Sebut Twitter Tutupi Cerita Kontrove...</td>\n",
       "      <td>Mereka bahkan memblok transmisi sendiri via pe...</td>\n",
       "      <td>-1</td>\n",
       "      <td>0</td>\n",
       "      <td>0</td>\n",
       "      <td>1</td>\n",
       "      <td>berita murni</td>\n",
       "      <td>0</td>\n",
       "      <td>mereka bahkan memblok transmisi sendiri via pe...</td>\n",
       "      <td>mereka bahkan memblok transmisi sendiri via pe...</td>\n",
       "      <td>mereka bahkan blok transmisi sendiri via pesan...</td>\n",
       "      <td>['blok', 'transmisi', 'via', 'pesan', 'langsun...</td>\n",
       "      <td>blok transmisi via pesan langsung dm buah alat...</td>\n",
       "    </tr>\n",
       "  </tbody>\n",
       "</table>\n",
       "<p>2502 rows × 15 columns</p>\n",
       "</div>"
      ],
      "text/plain": [
       "     id-berita                                                url  \\\n",
       "0          229  https://tekno.sindonews.com/read/807727/776/pe...   \n",
       "1          229  https://tekno.sindonews.com/read/807727/776/pe...   \n",
       "2          229  https://tekno.sindonews.com/read/807727/776/pe...   \n",
       "3          229  https://tekno.sindonews.com/read/807727/776/pe...   \n",
       "4          229  https://tekno.sindonews.com/read/807727/776/pe...   \n",
       "...        ...                                                ...   \n",
       "2497       998  https://cnnindonesia.com/teknologi/20221203102...   \n",
       "2498       998  https://cnnindonesia.com/teknologi/20221203102...   \n",
       "2499       998  https://cnnindonesia.com/teknologi/20221203102...   \n",
       "2500       998  https://cnnindonesia.com/teknologi/20221203102...   \n",
       "2501       998  https://cnnindonesia.com/teknologi/20221203102...   \n",
       "\n",
       "                                                  judul  \\\n",
       "0     Pengertian Absen Online dan Kelebihannya Diban...   \n",
       "1     Pengertian Absen Online dan Kelebihannya Diban...   \n",
       "2     Pengertian Absen Online dan Kelebihannya Diban...   \n",
       "3     Pengertian Absen Online dan Kelebihannya Diban...   \n",
       "4     Pengertian Absen Online dan Kelebihannya Diban...   \n",
       "...                                                 ...   \n",
       "2497  Elon Musk Sebut Twitter Tutupi Cerita Kontrove...   \n",
       "2498  Elon Musk Sebut Twitter Tutupi Cerita Kontrove...   \n",
       "2499  Elon Musk Sebut Twitter Tutupi Cerita Kontrove...   \n",
       "2500  Elon Musk Sebut Twitter Tutupi Cerita Kontrove...   \n",
       "2501  Elon Musk Sebut Twitter Tutupi Cerita Kontrove...   \n",
       "\n",
       "                                   content per paragraf label-positif  \\\n",
       "0     Absen Online kini mulai merambah ke berbagai p...             0   \n",
       "1     Sebelum mengetahui manfaat absen online bagi p...             1   \n",
       "2     Semua data tersebut selanjutnya akan diberikan...             1   \n",
       "3     Setiap hari karyawan melakukan absen dengan me...             1   \n",
       "4     Sementara, Absen online merupakan sistem absen...             1   \n",
       "...                                                 ...           ...   \n",
       "2497  Donald Trump yang menjadi lawan Biden sekaligu...            -1   \n",
       "2498  Dalam utas tersebut, Taibbi mengatakan bahwa a...             0   \n",
       "2499  Namun menurut Taibbi, Twitter pelan-pelan mala...            -1   \n",
       "2500  Taibbi juga menyebut sejumlah partai politik m...            -1   \n",
       "2501  Mereka bahkan memblok transmisi sendiri via pe...            -1   \n",
       "\n",
       "     label-persuasif label-produk perspektif-tunggal  label-berita labels  \\\n",
       "0                  0            1                  1    native ads      1   \n",
       "1                  1            1                  1    native ads      1   \n",
       "2                  0            1                  1    native ads      1   \n",
       "3                  1            0                  1    native ads      1   \n",
       "4                  1            1                  1    native ads      1   \n",
       "...              ...          ...                ...           ...    ...   \n",
       "2497               0            0                  1  berita murni      0   \n",
       "2498               0            0                  1  berita murni      0   \n",
       "2499               0            0                  0  berita murni      0   \n",
       "2500               0            1                  1  berita murni      0   \n",
       "2501               0            0                  1  berita murni      0   \n",
       "\n",
       "                                          content_lower  \\\n",
       "0     absen online kini mulai merambah ke berbagai p...   \n",
       "1     sebelum mengetahui manfaat absen online bagi p...   \n",
       "2     semua data tersebut selanjutnya akan diberikan...   \n",
       "3     setiap hari karyawan melakukan absen dengan me...   \n",
       "4     sementara, absen online merupakan sistem absen...   \n",
       "...                                                 ...   \n",
       "2497  donald trump yang menjadi lawan biden sekaligu...   \n",
       "2498  dalam utas tersebut, taibbi mengatakan bahwa a...   \n",
       "2499  namun menurut taibbi, twitter pelan-pelan mala...   \n",
       "2500  taibbi juga menyebut sejumlah partai politik m...   \n",
       "2501  mereka bahkan memblok transmisi sendiri via pe...   \n",
       "\n",
       "                                          content_punct  \\\n",
       "0     absen online kini mulai merambah ke berbagai p...   \n",
       "1     sebelum mengetahui manfaat absen online bagi p...   \n",
       "2     semua data tersebut selanjutnya akan diberikan...   \n",
       "3     setiap hari karyawan melakukan absen dengan me...   \n",
       "4     sementara, absen online merupakan sistem absen...   \n",
       "...                                                 ...   \n",
       "2497   donald trump yang menjadi lawan biden sekalig...   \n",
       "2498  dalam utas tersebut, taibbi mengatakan bahwa a...   \n",
       "2499  namun menurut taibbi, twitter pelan-pelan mala...   \n",
       "2500  taibbi juga menyebut sejumlah partai politik m...   \n",
       "2501  mereka bahkan memblok transmisi sendiri via pe...   \n",
       "\n",
       "                                          content_lemma  \\\n",
       "0     absen online kini mulai rambah ke bagai usaha ...   \n",
       "1     belum tahu manfaat absen online bagi usaha mar...   \n",
       "2     semua data sebut lanjut akan beri kepada hrd y...   \n",
       "3     tiap hari karyawan laku absen dengan tulis jam...   \n",
       "4     sementara absen online rupa sistem absensi yan...   \n",
       "...                                                 ...   \n",
       "2497  donald trump yang jadi lawan biden sekaligus t...   \n",
       "2498  dalam utas sebut taibbi kata bahwa apa yang ak...   \n",
       "2499  namun turut taibbi twitter pelan malah tambah ...   \n",
       "2500  taibbi juga sebut jumlah partai politik milik ...   \n",
       "2501  mereka bahkan blok transmisi sendiri via pesan...   \n",
       "\n",
       "                                          content_token  \\\n",
       "0     ['absen', 'online', 'rambah', 'usaha', 'ganti'...   \n",
       "1     ['manfaat', 'absen', 'online', 'usaha', 'mari'...   \n",
       "2     ['data', 'hrd', 'tanggung', 'gaji', 'karyawan'...   \n",
       "3     ['karyawan', 'laku', 'absen', 'tulis', 'jam', ...   \n",
       "4     ['absen', 'online', 'rupa', 'sistem', 'absensi...   \n",
       "...                                                 ...   \n",
       "2497  ['donald', 'trump', 'lawan', 'biden', 'tahana'...   \n",
       "2498  ['utas', 'taibbi', 'baca', 'cuplik', 'buah', '...   \n",
       "2499  ['taibbi', 'twitter', 'pelan', 'halang', 'hala...   \n",
       "2500  ['taibbi', 'partai', 'politik', 'milik', 'akse...   \n",
       "2501  ['blok', 'transmisi', 'via', 'pesan', 'langsun...   \n",
       "\n",
       "                                      content_stopwords  \n",
       "0     absen online rambah usaha ganti absen manual r...  \n",
       "1     manfaat absen online usaha mari ajar erti lapo...  \n",
       "2     data hrd tanggung gaji karyawan data hrd rugi ...  \n",
       "3     karyawan laku absen tulis jam hadir tanda tang...  \n",
       "4     absen online rupa sistem absensi manfaat jarin...  \n",
       "...                                                 ...  \n",
       "2497  donald trump lawan biden tahana coba serang bi...  \n",
       "2498  utas taibbi baca cuplik buah serial dasar ribu...  \n",
       "2499  taibbi twitter pelan halang halang alat kontro...  \n",
       "2500  taibbi partai politik milik akses hadap alat c...  \n",
       "2501  blok transmisi via pesan langsung dm buah alat...  \n",
       "\n",
       "[2502 rows x 15 columns]"
      ]
     },
     "execution_count": 3,
     "metadata": {},
     "output_type": "execute_result"
    }
   ],
   "source": [
    "from io import BytesIO\n",
    "\n",
    "import requests\n",
    "import pandas as pd\n",
    "#r = requests.get('https://docs.google.com/spreadsheet/ccc?key=1i3BBozbnx9HSTkMsfMHChvzYwG_2MiFB06U05gitD8U&output=xlsx')\n",
    "#data = r.content\n",
    "dataset = pd.read_excel('E:\\Asiyah/tesis/Thesis Persuasive Detection at Paragraph-Level/All Dataset\\Prepocessed (3).xlsx', dtype=str, index_col=None)\n",
    "#dataset = pd.read_excel(data, 'Prepocessed (3)')\n",
    "dataset"
   ]
  },
  {
   "cell_type": "markdown",
   "metadata": {
    "id": "NLM13_FnX4HK"
   },
   "source": [
    "# Encode Label"
   ]
  },
  {
   "cell_type": "code",
   "execution_count": 4,
   "metadata": {
    "colab": {
     "base_uri": "https://localhost:8080/",
     "height": 1000
    },
    "executionInfo": {
     "elapsed": 7,
     "status": "ok",
     "timestamp": 1724159826876,
     "user": {
      "displayName": "The fallen of capitalism",
      "userId": "12075089667414372305"
     },
     "user_tz": -420
    },
    "id": "hFbDSZP9X1YN",
    "outputId": "43c60d2f-9a9d-4cb3-8f38-781d94c7c473"
   },
   "outputs": [
    {
     "data": {
      "text/html": [
       "<div>\n",
       "<style scoped>\n",
       "    .dataframe tbody tr th:only-of-type {\n",
       "        vertical-align: middle;\n",
       "    }\n",
       "\n",
       "    .dataframe tbody tr th {\n",
       "        vertical-align: top;\n",
       "    }\n",
       "\n",
       "    .dataframe thead th {\n",
       "        text-align: right;\n",
       "    }\n",
       "</style>\n",
       "<table border=\"1\" class=\"dataframe\">\n",
       "  <thead>\n",
       "    <tr style=\"text-align: right;\">\n",
       "      <th></th>\n",
       "      <th>id-berita</th>\n",
       "      <th>url</th>\n",
       "      <th>judul</th>\n",
       "      <th>content per paragraf</th>\n",
       "      <th>label-positif</th>\n",
       "      <th>label-persuasif</th>\n",
       "      <th>label-produk</th>\n",
       "      <th>perspektif-tunggal</th>\n",
       "      <th>label-berita</th>\n",
       "      <th>labels</th>\n",
       "      <th>content_lower</th>\n",
       "      <th>content_punct</th>\n",
       "      <th>content_lemma</th>\n",
       "      <th>content_token</th>\n",
       "      <th>content_stopwords</th>\n",
       "    </tr>\n",
       "  </thead>\n",
       "  <tbody>\n",
       "    <tr>\n",
       "      <th>0</th>\n",
       "      <td>229</td>\n",
       "      <td>https://tekno.sindonews.com/read/807727/776/pe...</td>\n",
       "      <td>Pengertian Absen Online dan Kelebihannya Diban...</td>\n",
       "      <td>Absen Online kini mulai merambah ke berbagai p...</td>\n",
       "      <td>0</td>\n",
       "      <td>0</td>\n",
       "      <td>1</td>\n",
       "      <td>1</td>\n",
       "      <td>native ads</td>\n",
       "      <td>1</td>\n",
       "      <td>absen online kini mulai merambah ke berbagai p...</td>\n",
       "      <td>absen online kini mulai merambah ke berbagai p...</td>\n",
       "      <td>absen online kini mulai rambah ke bagai usaha ...</td>\n",
       "      <td>['absen', 'online', 'rambah', 'usaha', 'ganti'...</td>\n",
       "      <td>absen online rambah usaha ganti absen manual r...</td>\n",
       "    </tr>\n",
       "    <tr>\n",
       "      <th>1</th>\n",
       "      <td>229</td>\n",
       "      <td>https://tekno.sindonews.com/read/807727/776/pe...</td>\n",
       "      <td>Pengertian Absen Online dan Kelebihannya Diban...</td>\n",
       "      <td>Sebelum mengetahui manfaat absen online bagi p...</td>\n",
       "      <td>1</td>\n",
       "      <td>1</td>\n",
       "      <td>1</td>\n",
       "      <td>1</td>\n",
       "      <td>native ads</td>\n",
       "      <td>1</td>\n",
       "      <td>sebelum mengetahui manfaat absen online bagi p...</td>\n",
       "      <td>sebelum mengetahui manfaat absen online bagi p...</td>\n",
       "      <td>belum tahu manfaat absen online bagi usaha mar...</td>\n",
       "      <td>['manfaat', 'absen', 'online', 'usaha', 'mari'...</td>\n",
       "      <td>manfaat absen online usaha mari ajar erti lapo...</td>\n",
       "    </tr>\n",
       "    <tr>\n",
       "      <th>2</th>\n",
       "      <td>229</td>\n",
       "      <td>https://tekno.sindonews.com/read/807727/776/pe...</td>\n",
       "      <td>Pengertian Absen Online dan Kelebihannya Diban...</td>\n",
       "      <td>Semua data tersebut selanjutnya akan diberikan...</td>\n",
       "      <td>1</td>\n",
       "      <td>0</td>\n",
       "      <td>1</td>\n",
       "      <td>1</td>\n",
       "      <td>native ads</td>\n",
       "      <td>1</td>\n",
       "      <td>semua data tersebut selanjutnya akan diberikan...</td>\n",
       "      <td>semua data tersebut selanjutnya akan diberikan...</td>\n",
       "      <td>semua data sebut lanjut akan beri kepada hrd y...</td>\n",
       "      <td>['data', 'hrd', 'tanggung', 'gaji', 'karyawan'...</td>\n",
       "      <td>data hrd tanggung gaji karyawan data hrd rugi ...</td>\n",
       "    </tr>\n",
       "    <tr>\n",
       "      <th>3</th>\n",
       "      <td>229</td>\n",
       "      <td>https://tekno.sindonews.com/read/807727/776/pe...</td>\n",
       "      <td>Pengertian Absen Online dan Kelebihannya Diban...</td>\n",
       "      <td>Setiap hari karyawan melakukan absen dengan me...</td>\n",
       "      <td>1</td>\n",
       "      <td>1</td>\n",
       "      <td>0</td>\n",
       "      <td>1</td>\n",
       "      <td>native ads</td>\n",
       "      <td>1</td>\n",
       "      <td>setiap hari karyawan melakukan absen dengan me...</td>\n",
       "      <td>setiap hari karyawan melakukan absen dengan me...</td>\n",
       "      <td>tiap hari karyawan laku absen dengan tulis jam...</td>\n",
       "      <td>['karyawan', 'laku', 'absen', 'tulis', 'jam', ...</td>\n",
       "      <td>karyawan laku absen tulis jam hadir tanda tang...</td>\n",
       "    </tr>\n",
       "    <tr>\n",
       "      <th>4</th>\n",
       "      <td>229</td>\n",
       "      <td>https://tekno.sindonews.com/read/807727/776/pe...</td>\n",
       "      <td>Pengertian Absen Online dan Kelebihannya Diban...</td>\n",
       "      <td>Sementara, Absen online merupakan sistem absen...</td>\n",
       "      <td>1</td>\n",
       "      <td>1</td>\n",
       "      <td>1</td>\n",
       "      <td>1</td>\n",
       "      <td>native ads</td>\n",
       "      <td>1</td>\n",
       "      <td>sementara, absen online merupakan sistem absen...</td>\n",
       "      <td>sementara, absen online merupakan sistem absen...</td>\n",
       "      <td>sementara absen online rupa sistem absensi yan...</td>\n",
       "      <td>['absen', 'online', 'rupa', 'sistem', 'absensi...</td>\n",
       "      <td>absen online rupa sistem absensi manfaat jarin...</td>\n",
       "    </tr>\n",
       "    <tr>\n",
       "      <th>...</th>\n",
       "      <td>...</td>\n",
       "      <td>...</td>\n",
       "      <td>...</td>\n",
       "      <td>...</td>\n",
       "      <td>...</td>\n",
       "      <td>...</td>\n",
       "      <td>...</td>\n",
       "      <td>...</td>\n",
       "      <td>...</td>\n",
       "      <td>...</td>\n",
       "      <td>...</td>\n",
       "      <td>...</td>\n",
       "      <td>...</td>\n",
       "      <td>...</td>\n",
       "      <td>...</td>\n",
       "    </tr>\n",
       "    <tr>\n",
       "      <th>2497</th>\n",
       "      <td>998</td>\n",
       "      <td>https://cnnindonesia.com/teknologi/20221203102...</td>\n",
       "      <td>Elon Musk Sebut Twitter Tutupi Cerita Kontrove...</td>\n",
       "      <td>Donald Trump yang menjadi lawan Biden sekaligu...</td>\n",
       "      <td>-1</td>\n",
       "      <td>0</td>\n",
       "      <td>0</td>\n",
       "      <td>1</td>\n",
       "      <td>berita murni</td>\n",
       "      <td>0</td>\n",
       "      <td>donald trump yang menjadi lawan biden sekaligu...</td>\n",
       "      <td>donald trump yang menjadi lawan biden sekalig...</td>\n",
       "      <td>donald trump yang jadi lawan biden sekaligus t...</td>\n",
       "      <td>['donald', 'trump', 'lawan', 'biden', 'tahana'...</td>\n",
       "      <td>donald trump lawan biden tahana coba serang bi...</td>\n",
       "    </tr>\n",
       "    <tr>\n",
       "      <th>2498</th>\n",
       "      <td>998</td>\n",
       "      <td>https://cnnindonesia.com/teknologi/20221203102...</td>\n",
       "      <td>Elon Musk Sebut Twitter Tutupi Cerita Kontrove...</td>\n",
       "      <td>Dalam utas tersebut, Taibbi mengatakan bahwa a...</td>\n",
       "      <td>0</td>\n",
       "      <td>0</td>\n",
       "      <td>0</td>\n",
       "      <td>1</td>\n",
       "      <td>berita murni</td>\n",
       "      <td>0</td>\n",
       "      <td>dalam utas tersebut, taibbi mengatakan bahwa a...</td>\n",
       "      <td>dalam utas tersebut, taibbi mengatakan bahwa a...</td>\n",
       "      <td>dalam utas sebut taibbi kata bahwa apa yang ak...</td>\n",
       "      <td>['utas', 'taibbi', 'baca', 'cuplik', 'buah', '...</td>\n",
       "      <td>utas taibbi baca cuplik buah serial dasar ribu...</td>\n",
       "    </tr>\n",
       "    <tr>\n",
       "      <th>2499</th>\n",
       "      <td>998</td>\n",
       "      <td>https://cnnindonesia.com/teknologi/20221203102...</td>\n",
       "      <td>Elon Musk Sebut Twitter Tutupi Cerita Kontrove...</td>\n",
       "      <td>Namun menurut Taibbi, Twitter pelan-pelan mala...</td>\n",
       "      <td>-1</td>\n",
       "      <td>0</td>\n",
       "      <td>0</td>\n",
       "      <td>0</td>\n",
       "      <td>berita murni</td>\n",
       "      <td>0</td>\n",
       "      <td>namun menurut taibbi, twitter pelan-pelan mala...</td>\n",
       "      <td>namun menurut taibbi, twitter pelan-pelan mala...</td>\n",
       "      <td>namun turut taibbi twitter pelan malah tambah ...</td>\n",
       "      <td>['taibbi', 'twitter', 'pelan', 'halang', 'hala...</td>\n",
       "      <td>taibbi twitter pelan halang halang alat kontro...</td>\n",
       "    </tr>\n",
       "    <tr>\n",
       "      <th>2500</th>\n",
       "      <td>998</td>\n",
       "      <td>https://cnnindonesia.com/teknologi/20221203102...</td>\n",
       "      <td>Elon Musk Sebut Twitter Tutupi Cerita Kontrove...</td>\n",
       "      <td>Taibbi juga menyebut sejumlah partai politik m...</td>\n",
       "      <td>-1</td>\n",
       "      <td>0</td>\n",
       "      <td>1</td>\n",
       "      <td>1</td>\n",
       "      <td>berita murni</td>\n",
       "      <td>0</td>\n",
       "      <td>taibbi juga menyebut sejumlah partai politik m...</td>\n",
       "      <td>taibbi juga menyebut sejumlah partai politik m...</td>\n",
       "      <td>taibbi juga sebut jumlah partai politik milik ...</td>\n",
       "      <td>['taibbi', 'partai', 'politik', 'milik', 'akse...</td>\n",
       "      <td>taibbi partai politik milik akses hadap alat c...</td>\n",
       "    </tr>\n",
       "    <tr>\n",
       "      <th>2501</th>\n",
       "      <td>998</td>\n",
       "      <td>https://cnnindonesia.com/teknologi/20221203102...</td>\n",
       "      <td>Elon Musk Sebut Twitter Tutupi Cerita Kontrove...</td>\n",
       "      <td>Mereka bahkan memblok transmisi sendiri via pe...</td>\n",
       "      <td>-1</td>\n",
       "      <td>0</td>\n",
       "      <td>0</td>\n",
       "      <td>1</td>\n",
       "      <td>berita murni</td>\n",
       "      <td>0</td>\n",
       "      <td>mereka bahkan memblok transmisi sendiri via pe...</td>\n",
       "      <td>mereka bahkan memblok transmisi sendiri via pe...</td>\n",
       "      <td>mereka bahkan blok transmisi sendiri via pesan...</td>\n",
       "      <td>['blok', 'transmisi', 'via', 'pesan', 'langsun...</td>\n",
       "      <td>blok transmisi via pesan langsung dm buah alat...</td>\n",
       "    </tr>\n",
       "  </tbody>\n",
       "</table>\n",
       "<p>2502 rows × 15 columns</p>\n",
       "</div>"
      ],
      "text/plain": [
       "     id-berita                                                url  \\\n",
       "0          229  https://tekno.sindonews.com/read/807727/776/pe...   \n",
       "1          229  https://tekno.sindonews.com/read/807727/776/pe...   \n",
       "2          229  https://tekno.sindonews.com/read/807727/776/pe...   \n",
       "3          229  https://tekno.sindonews.com/read/807727/776/pe...   \n",
       "4          229  https://tekno.sindonews.com/read/807727/776/pe...   \n",
       "...        ...                                                ...   \n",
       "2497       998  https://cnnindonesia.com/teknologi/20221203102...   \n",
       "2498       998  https://cnnindonesia.com/teknologi/20221203102...   \n",
       "2499       998  https://cnnindonesia.com/teknologi/20221203102...   \n",
       "2500       998  https://cnnindonesia.com/teknologi/20221203102...   \n",
       "2501       998  https://cnnindonesia.com/teknologi/20221203102...   \n",
       "\n",
       "                                                  judul  \\\n",
       "0     Pengertian Absen Online dan Kelebihannya Diban...   \n",
       "1     Pengertian Absen Online dan Kelebihannya Diban...   \n",
       "2     Pengertian Absen Online dan Kelebihannya Diban...   \n",
       "3     Pengertian Absen Online dan Kelebihannya Diban...   \n",
       "4     Pengertian Absen Online dan Kelebihannya Diban...   \n",
       "...                                                 ...   \n",
       "2497  Elon Musk Sebut Twitter Tutupi Cerita Kontrove...   \n",
       "2498  Elon Musk Sebut Twitter Tutupi Cerita Kontrove...   \n",
       "2499  Elon Musk Sebut Twitter Tutupi Cerita Kontrove...   \n",
       "2500  Elon Musk Sebut Twitter Tutupi Cerita Kontrove...   \n",
       "2501  Elon Musk Sebut Twitter Tutupi Cerita Kontrove...   \n",
       "\n",
       "                                   content per paragraf label-positif  \\\n",
       "0     Absen Online kini mulai merambah ke berbagai p...             0   \n",
       "1     Sebelum mengetahui manfaat absen online bagi p...             1   \n",
       "2     Semua data tersebut selanjutnya akan diberikan...             1   \n",
       "3     Setiap hari karyawan melakukan absen dengan me...             1   \n",
       "4     Sementara, Absen online merupakan sistem absen...             1   \n",
       "...                                                 ...           ...   \n",
       "2497  Donald Trump yang menjadi lawan Biden sekaligu...            -1   \n",
       "2498  Dalam utas tersebut, Taibbi mengatakan bahwa a...             0   \n",
       "2499  Namun menurut Taibbi, Twitter pelan-pelan mala...            -1   \n",
       "2500  Taibbi juga menyebut sejumlah partai politik m...            -1   \n",
       "2501  Mereka bahkan memblok transmisi sendiri via pe...            -1   \n",
       "\n",
       "     label-persuasif label-produk perspektif-tunggal  label-berita  labels  \\\n",
       "0                  0            1                  1    native ads       1   \n",
       "1                  1            1                  1    native ads       1   \n",
       "2                  0            1                  1    native ads       1   \n",
       "3                  1            0                  1    native ads       1   \n",
       "4                  1            1                  1    native ads       1   \n",
       "...              ...          ...                ...           ...     ...   \n",
       "2497               0            0                  1  berita murni       0   \n",
       "2498               0            0                  1  berita murni       0   \n",
       "2499               0            0                  0  berita murni       0   \n",
       "2500               0            1                  1  berita murni       0   \n",
       "2501               0            0                  1  berita murni       0   \n",
       "\n",
       "                                          content_lower  \\\n",
       "0     absen online kini mulai merambah ke berbagai p...   \n",
       "1     sebelum mengetahui manfaat absen online bagi p...   \n",
       "2     semua data tersebut selanjutnya akan diberikan...   \n",
       "3     setiap hari karyawan melakukan absen dengan me...   \n",
       "4     sementara, absen online merupakan sistem absen...   \n",
       "...                                                 ...   \n",
       "2497  donald trump yang menjadi lawan biden sekaligu...   \n",
       "2498  dalam utas tersebut, taibbi mengatakan bahwa a...   \n",
       "2499  namun menurut taibbi, twitter pelan-pelan mala...   \n",
       "2500  taibbi juga menyebut sejumlah partai politik m...   \n",
       "2501  mereka bahkan memblok transmisi sendiri via pe...   \n",
       "\n",
       "                                          content_punct  \\\n",
       "0     absen online kini mulai merambah ke berbagai p...   \n",
       "1     sebelum mengetahui manfaat absen online bagi p...   \n",
       "2     semua data tersebut selanjutnya akan diberikan...   \n",
       "3     setiap hari karyawan melakukan absen dengan me...   \n",
       "4     sementara, absen online merupakan sistem absen...   \n",
       "...                                                 ...   \n",
       "2497   donald trump yang menjadi lawan biden sekalig...   \n",
       "2498  dalam utas tersebut, taibbi mengatakan bahwa a...   \n",
       "2499  namun menurut taibbi, twitter pelan-pelan mala...   \n",
       "2500  taibbi juga menyebut sejumlah partai politik m...   \n",
       "2501  mereka bahkan memblok transmisi sendiri via pe...   \n",
       "\n",
       "                                          content_lemma  \\\n",
       "0     absen online kini mulai rambah ke bagai usaha ...   \n",
       "1     belum tahu manfaat absen online bagi usaha mar...   \n",
       "2     semua data sebut lanjut akan beri kepada hrd y...   \n",
       "3     tiap hari karyawan laku absen dengan tulis jam...   \n",
       "4     sementara absen online rupa sistem absensi yan...   \n",
       "...                                                 ...   \n",
       "2497  donald trump yang jadi lawan biden sekaligus t...   \n",
       "2498  dalam utas sebut taibbi kata bahwa apa yang ak...   \n",
       "2499  namun turut taibbi twitter pelan malah tambah ...   \n",
       "2500  taibbi juga sebut jumlah partai politik milik ...   \n",
       "2501  mereka bahkan blok transmisi sendiri via pesan...   \n",
       "\n",
       "                                          content_token  \\\n",
       "0     ['absen', 'online', 'rambah', 'usaha', 'ganti'...   \n",
       "1     ['manfaat', 'absen', 'online', 'usaha', 'mari'...   \n",
       "2     ['data', 'hrd', 'tanggung', 'gaji', 'karyawan'...   \n",
       "3     ['karyawan', 'laku', 'absen', 'tulis', 'jam', ...   \n",
       "4     ['absen', 'online', 'rupa', 'sistem', 'absensi...   \n",
       "...                                                 ...   \n",
       "2497  ['donald', 'trump', 'lawan', 'biden', 'tahana'...   \n",
       "2498  ['utas', 'taibbi', 'baca', 'cuplik', 'buah', '...   \n",
       "2499  ['taibbi', 'twitter', 'pelan', 'halang', 'hala...   \n",
       "2500  ['taibbi', 'partai', 'politik', 'milik', 'akse...   \n",
       "2501  ['blok', 'transmisi', 'via', 'pesan', 'langsun...   \n",
       "\n",
       "                                      content_stopwords  \n",
       "0     absen online rambah usaha ganti absen manual r...  \n",
       "1     manfaat absen online usaha mari ajar erti lapo...  \n",
       "2     data hrd tanggung gaji karyawan data hrd rugi ...  \n",
       "3     karyawan laku absen tulis jam hadir tanda tang...  \n",
       "4     absen online rupa sistem absensi manfaat jarin...  \n",
       "...                                                 ...  \n",
       "2497  donald trump lawan biden tahana coba serang bi...  \n",
       "2498  utas taibbi baca cuplik buah serial dasar ribu...  \n",
       "2499  taibbi twitter pelan halang halang alat kontro...  \n",
       "2500  taibbi partai politik milik akses hadap alat c...  \n",
       "2501  blok transmisi via pesan langsung dm buah alat...  \n",
       "\n",
       "[2502 rows x 15 columns]"
      ]
     },
     "execution_count": 4,
     "metadata": {},
     "output_type": "execute_result"
    }
   ],
   "source": [
    "import numpy as np\n",
    "from sklearn.preprocessing import LabelEncoder\n",
    "\n",
    "# creating instance of labelencoder\n",
    "labelencoder = LabelEncoder()\n",
    "# Assigning numerical values and storing in another column\n",
    "dataset['labels'] = labelencoder.fit_transform(dataset['label-berita'])\n",
    "dataset"
   ]
  },
  {
   "cell_type": "markdown",
   "metadata": {
    "id": "cJHgyWGAUn0l"
   },
   "source": [
    "## Mencari num_words terbaik"
   ]
  },
  {
   "cell_type": "code",
   "execution_count": 5,
   "metadata": {
    "colab": {
     "base_uri": "https://localhost:8080/"
    },
    "executionInfo": {
     "elapsed": 6,
     "status": "ok",
     "timestamp": 1724159826876,
     "user": {
      "displayName": "The fallen of capitalism",
      "userId": "12075089667414372305"
     },
     "user_tz": -420
    },
    "id": "EKWebvGRUmQx",
    "outputId": "4ebe67b2-1eeb-4451-b8f4-daddb37e9c31"
   },
   "outputs": [
    {
     "name": "stdout",
     "output_type": "stream",
     "text": [
      "[('yang', 5150), ('dan', 4368), ('di', 3616), ('dengan', 2743), ('untuk', 2479), ('ini', 1984), ('dari', 1613), ('dalam', 1393), ('itu', 1261), ('juga', 1252)]\n"
     ]
    }
   ],
   "source": [
    "from collections import Counter\n",
    "\n",
    "# Gabungkan semua teks menjadi satu string besar\n",
    "all_text = ' '.join(dataset['content_lemma'])\n",
    "\n",
    "# Hitung frekuensi kata\n",
    "word_freq = Counter(all_text.split())\n",
    "\n",
    "# Urutkan kata berdasarkan frekuensi (dari yang paling sering hingga yang paling jarang)\n",
    "word_freq_sorted = sorted(word_freq.items(), key=lambda x: x[1], reverse=True)\n",
    "\n",
    "# Lihat 10 kata teratas untuk mendapatkan ide\n",
    "print(word_freq_sorted[:10])"
   ]
  },
  {
   "cell_type": "markdown",
   "metadata": {
    "id": "4HDWDTUqUwo2"
   },
   "source": [
    "## Menentukan max_len terbaik\n",
    "dengan Percentile"
   ]
  },
  {
   "cell_type": "code",
   "execution_count": 6,
   "metadata": {
    "colab": {
     "base_uri": "https://localhost:8080/",
     "height": 564
    },
    "executionInfo": {
     "elapsed": 1101,
     "status": "ok",
     "timestamp": 1724159827973,
     "user": {
      "displayName": "The fallen of capitalism",
      "userId": "12075089667414372305"
     },
     "user_tz": -420
    },
    "id": "ZrmnGycAQxY5",
    "outputId": "e1764b2c-292b-47dd-9046-95e4e0533664"
   },
   "outputs": [
    {
     "data": {
      "image/png": "[encoded data removed]",
      "text/plain": [
       "<Figure size 1000x600 with 1 Axes>"
      ]
     },
     "metadata": {},
     "output_type": "display_data"
    }
   ],
   "source": [
    "import matplotlib.pyplot as plt\n",
    "\n",
    "# Hitung panjang teks untuk setiap dokumen\n",
    "text_lengths = dataset['content_lemma'].apply(lambda x: len(x.split()))\n",
    "\n",
    "# Visualisasikan distribusi panjang teks\n",
    "plt.figure(figsize=(10, 6))\n",
    "plt.hist(text_lengths, bins=50)\n",
    "plt.title('Distribusi Panjang Teks')\n",
    "plt.xlabel('Panjang Teks')\n",
    "plt.ylabel('Frekuensi')\n",
    "plt.show()"
   ]
  },
  {
   "cell_type": "code",
   "execution_count": 7,
   "metadata": {
    "colab": {
     "base_uri": "https://localhost:8080/"
    },
    "executionInfo": {
     "elapsed": 7,
     "status": "ok",
     "timestamp": 1724159827973,
     "user": {
      "displayName": "The fallen of capitalism",
      "userId": "12075089667414372305"
     },
     "user_tz": -420
    },
    "id": "hjt4_UrFR2zc",
    "outputId": "684980ba-9f59-4755-9eb4-b666b440f7ca"
   },
   "outputs": [
    {
     "data": {
      "text/plain": [
       "257.0"
      ]
     },
     "execution_count": 7,
     "metadata": {},
     "output_type": "execute_result"
    }
   ],
   "source": [
    "# Menemukan nilai max_len berdasarkan persentil\n",
    "max_len = np.percentile(text_lengths, 100)\n",
    "max_len"
   ]
  },
  {
   "cell_type": "markdown",
   "metadata": {
    "id": "RPJ9oOzCYF_I"
   },
   "source": [
    "# Split Data"
   ]
  },
  {
   "cell_type": "code",
   "execution_count": 8,
   "metadata": {
    "executionInfo": {
     "elapsed": 4,
     "status": "ok",
     "timestamp": 1724159827973,
     "user": {
      "displayName": "The fallen of capitalism",
      "userId": "12075089667414372305"
     },
     "user_tz": -420
    },
    "id": "iAPQ5A6nSkX5"
   },
   "outputs": [],
   "source": [
    "# Misalkan menggunakan `content_lemma` sebagai input\n",
    "texts = dataset['content_lemma'].values\n",
    "# Variabel target y adalah kombinasi dari empat label\n",
    "y = dataset['labels'].values"
   ]
  },
  {
   "cell_type": "code",
   "execution_count": 9,
   "metadata": {
    "executionInfo": {
     "elapsed": 4,
     "status": "ok",
     "timestamp": 1724159827973,
     "user": {
      "displayName": "The fallen of capitalism",
      "userId": "12075089667414372305"
     },
     "user_tz": -420
    },
    "id": "MipTtf0YYIK5"
   },
   "outputs": [],
   "source": [
    "from sklearn.model_selection import KFold\n",
    "#KFold(n_splits=’warn’, shuffle=False, random_state=None)\n",
    "kf = KFold(5, shuffle=True, random_state=0) # Use for KFold classification\n",
    "\n",
    "for train_index, validation_index in kf.split(texts):\n",
    "  #  print(\"TRAIN:\", texts[train_index], \"VALIDATION:\", texts[validation_index])\n",
    "   X_train, X_test = texts[train_index], texts[validation_index]\n",
    "   y_train, y_test = y[train_index], y[validation_index]"
   ]
  },
  {
   "cell_type": "code",
   "execution_count": 10,
   "metadata": {
    "colab": {
     "base_uri": "https://localhost:8080/"
    },
    "executionInfo": {
     "elapsed": 4,
     "status": "ok",
     "timestamp": 1724159827973,
     "user": {
      "displayName": "The fallen of capitalism",
      "userId": "12075089667414372305"
     },
     "user_tz": -420
    },
    "id": "dW4JeeqNdL48",
    "outputId": "3b56a1ec-fb6a-4540-da7c-011d64a6e683"
   },
   "outputs": [
    {
     "name": "stdout",
     "output_type": "stream",
     "text": [
      "(2002,) (2002,)\n",
      "(500,) (500,)\n"
     ]
    }
   ],
   "source": [
    "#Y = dataset['labels']\n",
    "#X_train, X_test, y_train, y_test = train_test_split(X,Y, test_size = 0.2, random_state = 0)\n",
    "print(X_train.shape,y_train.shape)\n",
    "print(X_test.shape,y_test.shape)"
   ]
  },
  {
   "cell_type": "markdown",
   "metadata": {
    "id": "xOrbw011ZqN5"
   },
   "source": [
    "# GloVe"
   ]
  },
  {
   "cell_type": "code",
   "execution_count": 12,
   "metadata": {
    "executionInfo": {
     "elapsed": 72127,
     "status": "ok",
     "timestamp": 1724159900097,
     "user": {
      "displayName": "The fallen of capitalism",
      "userId": "12075089667414372305"
     },
     "user_tz": -420
    },
    "id": "wHuufWpHZsC7"
   },
   "outputs": [],
   "source": [
    "import codecs\n",
    "\n",
    "# Step 1: Load Pretrained GloVe Embeddings\n",
    "# Path ke file pre-trained GloVe (misalnya glove.6B.300d.txt untuk model 300d)\n",
    "embedding_index = {}\n",
    "embedding_file = 'E:/Asiyah/tesis/Thesis Persuasive Detection at Paragraph-Level/Pretrained embeddings/glove.6B.300d.txt'  # Ganti dengan path file GloVe Indonesia yang kamu download\n",
    "\n",
    "# Membaca file GloVe dan mengonversi ke dictionary\n",
    "with open(embedding_file, 'r', encoding='utf-8') as f:\n",
    "    for line in f:\n",
    "        values = line.split()\n",
    "        word = values[0]\n",
    "        vector = np.asarray(values[1:], dtype='float32')\n",
    "        embedding_index[word] = vector\n",
    "\n",
    "\n",
    "# f = codecs.open('E:\\Asiyah/tesis/Thesis Persuasive Detection at Paragraph-Level/Pretrained embeddings\\glove.6B.300d.txtt', encoding='utf-8')\n",
    "# #f = codecs.open('/content/drive/MyDrive/Pre-trained Embeddings/glove.6B.300d.txt', encoding='utf-8')\n",
    "# for line in f:\n",
    "#     values = line.rstrip().rsplit(\" \")\n",
    "#     word = values[0]\n",
    "#     coefs = np.asarray(values[1:], dtype=\"float32\")\n",
    "#     embeddings_index[word] = coefs\n",
    "# f.close()"
   ]
  },
  {
   "cell_type": "code",
   "execution_count": 13,
   "metadata": {
    "executionInfo": {
     "elapsed": 84,
     "status": "ok",
     "timestamp": 1724159900100,
     "user": {
      "displayName": "The fallen of capitalism",
      "userId": "12075089667414372305"
     },
     "user_tz": -420
    },
    "id": "EBXFJxlYdDe3"
   },
   "outputs": [],
   "source": [
    "# Step 2: Tokenize your text data (assuming `X_train` and `X_test` are your text datasets)\n",
    "max_features = 10000\n",
    "\n",
    "tokenizer = Tokenizer(num_words=max_features, split=' ')\n",
    "tokenizer.fit_on_texts(texts)  # Hanya fit ke X_train untuk mencegah data leakage\n",
    "\n",
    "# Convert text to sequence of integers\n",
    "X_train_seq = tokenizer.texts_to_sequences(X_train)\n",
    "X_test_seq = tokenizer.texts_to_sequences(X_test)"
   ]
  },
  {
   "cell_type": "code",
   "execution_count": 14,
   "metadata": {
    "executionInfo": {
     "elapsed": 76,
     "status": "ok",
     "timestamp": 1724159900100,
     "user": {
      "displayName": "The fallen of capitalism",
      "userId": "12075089667414372305"
     },
     "user_tz": -420
    },
    "id": "q4-3IOfR3Ihi"
   },
   "outputs": [
    {
     "name": "stdout",
     "output_type": "stream",
     "text": [
      "(2002, 257)\n",
      "(500, 257)\n"
     ]
    }
   ],
   "source": [
    "# Step 3: Pad sequences so that they have the same length\n",
    "max_length = 257  # asumsi maksimal panjang sequence\n",
    "X_train_pad = pad_sequences(X_train_seq, maxlen=max_length, padding='post')\n",
    "X_test_pad = pad_sequences(X_test_seq, maxlen=max_length, padding='post')\n",
    "\n",
    "print(X_train_pad.shape)\n",
    "print(X_test_pad.shape)"
   ]
  },
  {
   "cell_type": "code",
   "execution_count": 15,
   "metadata": {
    "colab": {
     "base_uri": "https://localhost:8080/"
    },
    "executionInfo": {
     "elapsed": 75,
     "status": "ok",
     "timestamp": 1724159900100,
     "user": {
      "displayName": "The fallen of capitalism",
      "userId": "12075089667414372305"
     },
     "user_tz": -420
    },
    "id": "BZU-g2ecdGCL",
    "outputId": "55cb9f21-501c-4c3a-905b-d480e53fd920"
   },
   "outputs": [
    {
     "name": "stdout",
     "output_type": "stream",
     "text": [
      "number of null word embeddings: 4928\n"
     ]
    }
   ],
   "source": [
    "# Step 4: Create an embedding matrix based on the GloVe vectors\n",
    "words_not_found = []\n",
    "embed_dim = 300\n",
    "vocab_size = len(tokenizer.index_word)+1\n",
    "embedding_matrix = np.zeros((vocab_size, embed_dim))\n",
    "\n",
    "for word, i in tokenizer.word_index.items():\n",
    "    embedding_vector = embedding_index.get(word)\n",
    "    if (embedding_vector is not None) and len(embedding_vector) > 0:\n",
    "        embedding_matrix[i] = embedding_vector\n",
    "    else:\n",
    "        words_not_found.append(word)\n",
    "print('number of null word embeddings: %d' % np.sum(np.sum(embedding_matrix, axis=1) == 0))"
   ]
  },
  {
   "cell_type": "code",
   "execution_count": 16,
   "metadata": {
    "colab": {
     "base_uri": "https://localhost:8080/"
    },
    "executionInfo": {
     "elapsed": 1629,
     "status": "ok",
     "timestamp": 1724159901666,
     "user": {
      "displayName": "The fallen of capitalism",
      "userId": "12075089667414372305"
     },
     "user_tz": -420
    },
    "id": "Ief8boeB3Ihj",
    "outputId": "d3db2364-94d4-42dd-b1c8-b444a542f000"
   },
   "outputs": [
    {
     "name": "stdout",
     "output_type": "stream",
     "text": [
      "Embedding matrix saved to E:/Asiyah/tesis/Thesis Persuasive Detection at Paragraph-Level/Pretrained embeddings/glove_SVM_embedding.npy\n"
     ]
    }
   ],
   "source": [
    "# Step 1: Menyimpan embedding matrix\n",
    "filename_npy = 'E:/Asiyah/tesis/Thesis Persuasive Detection at Paragraph-Level/Pretrained embeddings/glove_SVM_embedding.npy'\n",
    "#filename_npy = '/content/drive/MyDrive/Colab Notebooks/Thesis Persuasive Detection at Paragraph-Level  /Embedding Models/glove300_embedding.npy'\n",
    "# Simpan embedding matrix ke dalam file .npy\n",
    "np.save(filename_npy, embedding_matrix)\n",
    "\n",
    "print(f\"Embedding matrix saved to {filename_npy}\")"
   ]
  },
  {
   "cell_type": "markdown",
   "metadata": {},
   "source": [
    "## Split Word Embedding to Training-Testing"
   ]
  },
  {
   "cell_type": "code",
   "execution_count": 17,
   "metadata": {},
   "outputs": [],
   "source": [
    "# # Convert training and testing data to vectors using the word embeddings\n",
    "X_train_embed = embedding_matrix[X_train_pad]\n",
    "X_test_embed = embedding_matrix[X_test_pad]"
   ]
  },
  {
   "cell_type": "markdown",
   "metadata": {
    "id": "h-2DKI5Ld-vz"
   },
   "source": [
    "# Random Forest"
   ]
  },
  {
   "cell_type": "code",
   "execution_count": 18,
   "metadata": {},
   "outputs": [
    {
     "name": "stdout",
     "output_type": "stream",
     "text": [
      "(2002,)\n",
      "(500,)\n"
     ]
    }
   ],
   "source": [
    "#Langkah 1: Menghitung rata-rata vektor kata untuk setiap dokumen\n",
    "# Model seperti SVM mengharuskan data inputnya dalam bentuk vektor berdimensi tetap. Namun, teks bisa memiliki \n",
    "#panjang yang bervariasi (misalnya, kalimat yang lebih pendek atau lebih panjang).\n",
    "#Setiap kata dalam teks memiliki vektor yang diperoleh dari model seperti FastText. Tapi jika kita ingin mewakili \n",
    "#seluruh kalimat atau paragraf dengan satu vektor, kita perlu cara untuk menggabungkan vektor-vektor kata tersebut menjadi satu vektor representasi yang tetap ukurannya.\n",
    "import numpy as np\n",
    "from sklearn.ensemble import RandomForestClassifier\n",
    "from sklearn.model_selection import GridSearchCV\n",
    "from sklearn.metrics import accuracy_score\n",
    "from sklearn.model_selection import train_test_split\n",
    "\n",
    "# Fungsi untuk menghitung rata-rata vektor kata untuk setiap kalimat\n",
    "def get_average_word_vector(X, tokenizer, embedding_index, embedding_dim=300):\n",
    "    # Hasil rata-rata vektor untuk setiap dokumen\n",
    "    document_vectors = []\n",
    "    for sequence in X:\n",
    "        word_vectors = []\n",
    "        for idx in sequence:\n",
    "            word = tokenizer.index_word.get(idx)\n",
    "            if word in embedding_index:\n",
    "                word_vectors.append(embedding_index[word])\n",
    "        if word_vectors:\n",
    "            document_vectors.append(np.mean(word_vectors, axis=0))  # Rata-rata vektor kata\n",
    "        else:\n",
    "            document_vectors.append(np.zeros(embedding_dim))  # Jika tidak ada kata yang cocok\n",
    "    return np.array(document_vectors)\n",
    "\n",
    "# Mendapatkan rata-rata vektor untuk X_train_pad dan X_test_pad\n",
    "X_train_vectors = get_average_word_vector(X_train_pad, tokenizer, embedding_index)\n",
    "X_test_vectors = get_average_word_vector(X_test_pad, tokenizer, embedding_index)\n",
    "\n",
    "# Menyiapkan label untuk klasifikasi (misal binary classification)\n",
    "# Jika y_train dan y_test dalam bentuk one-hot encoding, ubah ke bentuk 1D\n",
    "y_train = np.argmax(y_train, axis=1)\n",
    "y_test = np.argmax(y_test, axis=1)\n",
    "\n",
    "# Pastikan sekarang y_train dan y_test dalam bentuk 1D\n",
    "print(y_train.shape)  # Harus (n_samples,)\n",
    "print(y_test.shape)   # Harus (n_samples,)"
   ]
  },
  {
   "cell_type": "code",
   "execution_count": 20,
   "metadata": {},
   "outputs": [
    {
     "name": "stdout",
     "output_type": "stream",
     "text": [
      "Best parameters: {'max_depth': None, 'min_samples_split': 10, 'n_estimators': 500}\n",
      "Best cross-validation score: 0.8266\n"
     ]
    }
   ],
   "source": [
    "# Langkah 2: Menggunakan GridSearchCV untuk Menentukan n_estimators\n",
    "# Menyiapkan model Random Forest\n",
    "from sklearn.model_selection import GridSearchCV\n",
    "rf_model = RandomForestClassifier(random_state=42)\n",
    "\n",
    "# Menentukan parameter yang ingin diuji\n",
    "param_grid = {\n",
    "    'n_estimators': [10, 50, 100, 200, 500],  # Daftar nilai n_estimators yang ingin diuji\n",
    "    'max_depth': [None, 10, 20, 30],  # Menambahkan parameter lain yang bisa dicoba\n",
    "    'min_samples_split': [2, 5, 10]\n",
    "}\n",
    "\n",
    "# Melakukan Grid Search dengan cross-validation\n",
    "grid_search = GridSearchCV(estimator=rf_model, param_grid=param_grid, cv=5, scoring='accuracy', n_jobs=-1)\n",
    "\n",
    "# Melatih GridSearchCV dengan data pelatihan\n",
    "grid_search.fit(X_train_vectors, y_train)\n",
    "\n",
    "# Menampilkan hasil terbaik\n",
    "print(f\"Best parameters: {grid_search.best_params_}\")\n",
    "print(f\"Best cross-validation score: {grid_search.best_score_:.4f}\")"
   ]
  },
  {
   "cell_type": "code",
   "execution_count": 21,
   "metadata": {},
   "outputs": [
    {
     "name": "stdout",
     "output_type": "stream",
     "text": [
      "Akurasi model dengan parameter terbaik: 0.8580\n"
     ]
    }
   ],
   "source": [
    "# Langkah 3: Menilai Hasil\n",
    "# Gunakan parameter terbaik untuk melatih model akhir\n",
    "best_rf_model = grid_search.best_estimator_\n",
    "\n",
    "# Prediksi dengan data uji\n",
    "y_pred_rf = best_rf_model.predict(X_test_vectors)\n",
    "\n",
    "# Evaluasi model\n",
    "print(f\"Akurasi model dengan parameter terbaik: {accuracy_score(y_test, y_pred_rf):.4f}\")"
   ]
  },
  {
   "cell_type": "code",
   "execution_count": 22,
   "metadata": {},
   "outputs": [
    {
     "name": "stdout",
     "output_type": "stream",
     "text": [
      "Contoh y_test: [1 1 1 1 1 1 1 1 1 1]\n",
      "Contoh y_test_numeric: [1 1 1 1 1 1 1 1 1 1]\n"
     ]
    }
   ],
   "source": [
    "from sklearn.preprocessing import LabelEncoder\n",
    "\n",
    "# Inisialisasi LabelEncoder untuk mengonversi label ke format numerik\n",
    "encoder = LabelEncoder()\n",
    "\n",
    "# Konversi y_test dan y_pred_svm ke numerik\n",
    "y_test_numeric = encoder.fit_transform(y_test)\n",
    "y_pred_rf_numeric = encoder.transform(y_pred_rf)\n",
    "\n",
    "# Cek hasil konversi\n",
    "print(f\"Contoh y_test: {y_test[:10]}\")\n",
    "print(f\"Contoh y_test_numeric: {y_test_numeric[:10]}\")"
   ]
  },
  {
   "cell_type": "markdown",
   "metadata": {
    "id": "H5dVdmfOe-gI"
   },
   "source": [
    "# Get Evaluation Score"
   ]
  },
  {
   "cell_type": "code",
   "execution_count": 24,
   "metadata": {
    "executionInfo": {
     "elapsed": 15,
     "status": "ok",
     "timestamp": 1724160041419,
     "user": {
      "displayName": "The fallen of capitalism",
      "userId": "12075089667414372305"
     },
     "user_tz": -420
    },
    "id": "f2v3Ff5MeGLz"
   },
   "outputs": [
    {
     "data": {
      "image/png": "[encoded data removed]",
      "text/plain": [
       "<Figure size 640x480 with 2 Axes>"
      ]
     },
     "metadata": {},
     "output_type": "display_data"
    },
    {
     "name": "stdout",
     "output_type": "stream",
     "text": [
      "              precision    recall  f1-score   support\n",
      "\n",
      "           0       0.84      0.85      0.85       228\n",
      "           1       0.87      0.86      0.87       272\n",
      "\n",
      "    accuracy                           0.86       500\n",
      "   macro avg       0.86      0.86      0.86       500\n",
      "weighted avg       0.86      0.86      0.86       500\n",
      "\n"
     ]
    }
   ],
   "source": [
    "from sklearn.metrics import ConfusionMatrixDisplay\n",
    "from sklearn.metrics import confusion_matrix, classification_report\n",
    "import matplotlib.pyplot as plt\n",
    "\n",
    "labels = [\"Native Ads\", \"Berita Murni\"]\n",
    "\n",
    "cm = confusion_matrix(y_test_numeric, y_pred_rf_numeric)\n",
    "\n",
    "disp = ConfusionMatrixDisplay(confusion_matrix=cm, display_labels=labels)\n",
    "\n",
    "disp.plot(cmap=plt.cm.Blues)\n",
    "plt.show()\n",
    "\n",
    "# Evaluasi lebih lanjut menggunakan classification report\n",
    "print(classification_report(y_test_numeric, y_pred_rf_numeric))"
   ]
  },
  {
   "cell_type": "code",
   "execution_count": 25,
   "metadata": {
    "colab": {
     "base_uri": "https://localhost:8080/"
    },
    "executionInfo": {
     "elapsed": 1869,
     "status": "ok",
     "timestamp": 1724160043275,
     "user": {
      "displayName": "The fallen of capitalism",
      "userId": "12075089667414372305"
     },
     "user_tz": -420
    },
    "id": "a_-3GXMgfGQE",
    "outputId": "57347eec-834c-4a0e-d5e4-acbc705754be"
   },
   "outputs": [
    {
     "name": "stdout",
     "output_type": "stream",
     "text": [
      "Precision :  0.8567163938911151\n",
      "Recall    :  0.8574238906088751\n",
      "F-score   :  0.8570387284098276\n",
      "Accuracy :  0.858\n"
     ]
    }
   ],
   "source": [
    "from sklearn.metrics import classification_report, confusion_matrix, accuracy_score, cohen_kappa_score\n",
    "from sklearn.metrics import precision_recall_fscore_support as score\n",
    "\n",
    "precision,recall,fscore,support=score(y_test_numeric, y_pred_rf_numeric,average='macro')\n",
    "print('Precision : ',format(precision))\n",
    "print('Recall    : ',format(recall))\n",
    "print('F-score   : ',format(fscore))\n",
    "print('Accuracy : ',accuracy_score(y_test_numeric, y_pred_rf_numeric))"
   ]
  },
  {
   "cell_type": "markdown",
   "metadata": {
    "id": "6szU5FRdfWzQ"
   },
   "source": [
    "# ROC"
   ]
  },
  {
   "cell_type": "code",
   "execution_count": 26,
   "metadata": {
    "colab": {
     "base_uri": "https://localhost:8080/",
     "height": 507
    },
    "executionInfo": {
     "elapsed": 12,
     "status": "ok",
     "timestamp": 1724160043275,
     "user": {
      "displayName": "The fallen of capitalism",
      "userId": "12075089667414372305"
     },
     "user_tz": -420
    },
    "id": "E2l9GQiHfQfP",
    "outputId": "720a1771-3277-4066-bd42-937eb8c22f1c"
   },
   "outputs": [
    {
     "name": "stderr",
     "output_type": "stream",
     "text": [
      "C:\\Users\\Asiyah\\anaconda3\\envs\\asiyah_env\\Lib\\site-packages\\sklearn\\metrics\\_ranking.py:1029: UndefinedMetricWarning: No positive samples in y_true, true positive value should be meaningless\n",
      "  warnings.warn(\n"
     ]
    },
    {
     "data": {
      "image/png": "[encoded data removed]",
      "text/plain": [
       "<Figure size 640x480 with 1 Axes>"
      ]
     },
     "metadata": {},
     "output_type": "display_data"
    }
   ],
   "source": [
    "import numpy as np\n",
    "from sklearn import metrics\n",
    "\n",
    "y = np.array(y_test_numeric)\n",
    "\n",
    "scores = np.array(y_pred_rf_numeric)\n",
    "fpr, tpr, thresholds = metrics.roc_curve(y_test_numeric, y_pred_rf_numeric, pos_label=9)\n",
    "roc_auc = metrics.auc(fpr, tpr)\n",
    "\n",
    "plt.figure()\n",
    "lw = 2\n",
    "plt.plot(fpr, tpr, color='darkorange',\n",
    " lw=lw, label='ROC curve (area = %0.2f)' % roc_auc)\n",
    "plt.plot([0, 1], [0, 1], color='navy', lw=lw, linestyle='--')\n",
    "plt.xlim([0.0, 1.0])\n",
    "plt.ylim([0.0, 1.05])\n",
    "plt.xlabel('False Positive Rate')\n",
    "plt.ylabel('True Positive Rate')\n",
    "plt.title('Receiver operating characteristic (ROC)')\n",
    "plt.legend(loc=\"lower right\")\n",
    "plt.show()"
   ]
  },
  {
   "cell_type": "code",
   "execution_count": 27,
   "metadata": {
    "executionInfo": {
     "elapsed": 11,
     "status": "ok",
     "timestamp": 1724160043275,
     "user": {
      "displayName": "The fallen of capitalism",
      "userId": "12075089667414372305"
     },
     "user_tz": -420
    },
    "id": "kWjJpp70fZRG"
   },
   "outputs": [
    {
     "data": {
      "text/plain": [
       "0.8574238906088751"
      ]
     },
     "execution_count": 27,
     "metadata": {},
     "output_type": "execute_result"
    }
   ],
   "source": [
    "from sklearn.metrics import roc_curve, auc\n",
    "\n",
    "fpr_rf, tpr_rf, thresholds_rf = roc_curve(y_test_numeric, y_pred_rf_numeric)\n",
    "auc_rf = auc(fpr_rf, tpr_rf)\n",
    "auc_rf"
   ]
  },
  {
   "cell_type": "code",
   "execution_count": 28,
   "metadata": {
    "colab": {
     "base_uri": "https://localhost:8080/",
     "height": 927
    },
    "executionInfo": {
     "elapsed": 11,
     "status": "ok",
     "timestamp": 1724160043275,
     "user": {
      "displayName": "The fallen of capitalism",
      "userId": "12075089667414372305"
     },
     "user_tz": -420
    },
    "id": "b7NbYUuBfg32",
    "outputId": "9a49d1c5-19e4-4797-8f13-828de207e46e"
   },
   "outputs": [
    {
     "data": {
      "image/png": "[encoded data removed]",
      "text/plain": [
       "<Figure size 640x480 with 1 Axes>"
      ]
     },
     "metadata": {},
     "output_type": "display_data"
    },
    {
     "data": {
      "image/png": "[encoded data removed]",
      "text/plain": [
       "<Figure size 640x480 with 1 Axes>"
      ]
     },
     "metadata": {},
     "output_type": "display_data"
    }
   ],
   "source": [
    "plt.figure(1)\n",
    "plt.plot([0, 1], [0, 1], 'k--')\n",
    "plt.plot(fpr_rf, tpr_rf, label='RF (area = {:.3f})'.format(auc_rf))\n",
    "plt.xlabel('False positive rate')\n",
    "plt.ylabel('True positive rate')\n",
    "plt.title('ROC curve')\n",
    "plt.legend(loc='best')\n",
    "plt.show()\n",
    "# Zoom in view of the upper left corner.\n",
    "plt.figure(2)\n",
    "plt.xlim(0, 0.2)\n",
    "plt.ylim(0.8, 1)\n",
    "plt.plot([0, 1], [0, 1], 'k--')\n",
    "plt.plot(fpr_rf, tpr_rf, label='RF (area = {:.3f})'.format(auc_rf))\n",
    "plt.xlabel('False positive rate')\n",
    "plt.ylabel('True positive rate')\n",
    "plt.title('ROC curve (zoomed in at top left)')\n",
    "plt.legend(loc='best')\n",
    "plt.show()"
   ]
  },
  {
   "cell_type": "code",
   "execution_count": 29,
   "metadata": {
    "executionInfo": {
     "elapsed": 10,
     "status": "ok",
     "timestamp": 1724160043275,
     "user": {
      "displayName": "The fallen of capitalism",
      "userId": "12075089667414372305"
     },
     "user_tz": -420
    },
    "id": "AEZxiOf9fj1l"
   },
   "outputs": [],
   "source": [
    "def plot_roc_curve(fpr,tpr):\n",
    "  plt.plot(fpr,tpr)\n",
    "  plt.axis([0,1,0,1])\n",
    "  plt.xlabel('False Positive Rate')\n",
    "  plt.ylabel('True Positive Rate')\n",
    "  plt.show()"
   ]
  },
  {
   "cell_type": "code",
   "execution_count": 30,
   "metadata": {
    "executionInfo": {
     "elapsed": 10,
     "status": "ok",
     "timestamp": 1724160043275,
     "user": {
      "displayName": "The fallen of capitalism",
      "userId": "12075089667414372305"
     },
     "user_tz": -420
    },
    "id": "icEedNIqfvvD"
   },
   "outputs": [
    {
     "data": {
      "image/png": "[encoded data removed]",
      "text/plain": [
       "<Figure size 640x480 with 1 Axes>"
      ]
     },
     "metadata": {},
     "output_type": "display_data"
    }
   ],
   "source": [
    "from sklearn.metrics import roc_curve,roc_auc_score\n",
    "\n",
    "fpr , tpr , thresholds = roc_curve (y_test_numeric, y_pred_rf_numeric)\n",
    "plot_roc_curve (fpr,tpr)"
   ]
  },
  {
   "cell_type": "code",
   "execution_count": 31,
   "metadata": {
    "colab": {
     "base_uri": "https://localhost:8080/"
    },
    "executionInfo": {
     "elapsed": 8,
     "status": "ok",
     "timestamp": 1724160044397,
     "user": {
      "displayName": "The fallen of capitalism",
      "userId": "12075089667414372305"
     },
     "user_tz": -420
    },
    "id": "P5jk2Jbcf0sS",
    "outputId": "698af0d4-bac3-4d9b-b999-3c45eaaa8a39"
   },
   "outputs": [
    {
     "data": {
      "text/plain": [
       "0.8574238906088751"
      ]
     },
     "execution_count": 31,
     "metadata": {},
     "output_type": "execute_result"
    }
   ],
   "source": [
    "roc_auc_score(y_test_numeric, y_pred_rf_numeric)"
   ]
  },
  {
   "cell_type": "code",
   "execution_count": 32,
   "metadata": {
    "colab": {
     "base_uri": "https://localhost:8080/",
     "height": 465
    },
    "executionInfo": {
     "elapsed": 7,
     "status": "ok",
     "timestamp": 1724160044397,
     "user": {
      "displayName": "The fallen of capitalism",
      "userId": "12075089667414372305"
     },
     "user_tz": -420
    },
    "id": "AypXgn2Mf6Ir",
    "outputId": "a531d47d-bb82-437c-816d-6b312ae5763d"
   },
   "outputs": [
    {
     "name": "stdout",
     "output_type": "stream",
     "text": [
      "0.8574238906088751\n"
     ]
    },
    {
     "data": {
      "text/plain": [
       "[<matplotlib.lines.Line2D at 0x28e5d37aab0>]"
      ]
     },
     "execution_count": 32,
     "metadata": {},
     "output_type": "execute_result"
    },
    {
     "data": {
      "image/png": "[encoded data removed]",
      "text/plain": [
       "<Figure size 640x480 with 1 Axes>"
      ]
     },
     "metadata": {},
     "output_type": "display_data"
    }
   ],
   "source": [
    "nn_fpr_keras, nn_tpr_keras, nn_thresholds_keras = roc_curve(y_test_numeric, y_pred_rf_numeric)\n",
    "auc_keras = auc(nn_fpr_keras, nn_tpr_keras)\n",
    "print(auc_keras)\n",
    "plt.plot(nn_fpr_keras, nn_tpr_keras, marker='.', label='Neural Network (auc = %0.3f)' % auc_keras)"
   ]
  },
  {
   "cell_type": "code",
   "execution_count": 33,
   "metadata": {
    "executionInfo": {
     "elapsed": 5,
     "status": "ok",
     "timestamp": 1724160044397,
     "user": {
      "displayName": "The fallen of capitalism",
      "userId": "12075089667414372305"
     },
     "user_tz": -420
    },
    "id": "yqiSFFztgPME"
   },
   "outputs": [],
   "source": [
    "def perf_measure(y_actual, y_hat):\n",
    "    TP = 0\n",
    "    FP = 0\n",
    "    TN = 0\n",
    "    FN = 0\n",
    "\n",
    "    for i in range(len(y_hat)):\n",
    "        if y_actual[i]==y_hat[i]==1:\n",
    "           TP += 1\n",
    "        if y_hat[i]==1 and y_actual[i]!=y_hat[i]:\n",
    "           FP += 1\n",
    "        if y_actual[i]==y_hat[i]==0:\n",
    "           TN += 1\n",
    "        if y_hat[i]==0 and y_actual[i]!=y_hat[i]:\n",
    "           FN += 1\n",
    "\n",
    "    return(TP, FP, TN, FN)"
   ]
  },
  {
   "cell_type": "code",
   "execution_count": 34,
   "metadata": {
    "colab": {
     "base_uri": "https://localhost:8080/"
    },
    "executionInfo": {
     "elapsed": 6,
     "status": "ok",
     "timestamp": 1724160044398,
     "user": {
      "displayName": "The fallen of capitalism",
      "userId": "12075089667414372305"
     },
     "user_tz": -420
    },
    "id": "Dy0KLAZxgTAH",
    "outputId": "e59d3441-18fd-46a8-d21b-17af3ee3fd2d"
   },
   "outputs": [
    {
     "data": {
      "text/plain": [
       "(235, 34, 194, 37)"
      ]
     },
     "execution_count": 34,
     "metadata": {},
     "output_type": "execute_result"
    }
   ],
   "source": [
    "perf_measure(y_test_numeric, y_pred_rf_numeric)"
   ]
  },
  {
   "cell_type": "markdown",
   "metadata": {
    "executionInfo": {
     "elapsed": 5,
     "status": "ok",
     "timestamp": 1724160044398,
     "user": {
      "displayName": "The fallen of capitalism",
      "userId": "12075089667414372305"
     },
     "user_tz": -420
    },
    "id": "1ofZxZNughqT"
   },
   "source": [
    "# Menampilkan Data Salah Prediksi"
   ]
  },
  {
   "cell_type": "code",
   "execution_count": 35,
   "metadata": {},
   "outputs": [],
   "source": [
    "def perf_measure(y_actual, y_hat):\n",
    "    TP = 0\n",
    "    FP = 0\n",
    "    TN = 0\n",
    "    FN = 0\n",
    "    FP_indices = []\n",
    "    FN_indices = []\n",
    "\n",
    "    for i in range(len(y_hat)):\n",
    "        if y_actual[i] == y_hat[i] == 1:\n",
    "            TP += 1\n",
    "        elif y_hat[i] == 1 and y_actual[i] != y_hat[i]:  # False Positive\n",
    "            FP += 1\n",
    "            FP_indices.append(i)\n",
    "        elif y_actual[i] == y_hat[i] == 0:\n",
    "            TN += 1\n",
    "        elif y_hat[i] == 0 and y_actual[i] != y_hat[i]:  # False Negative\n",
    "            FN += 1\n",
    "            FN_indices.append(i)\n",
    "\n",
    "    return(TP, FP, TN, FN, FP_indices, FN_indices)"
   ]
  },
  {
   "cell_type": "code",
   "execution_count": 36,
   "metadata": {},
   "outputs": [
    {
     "data": {
      "text/plain": [
       "(235,\n",
       " 34,\n",
       " 194,\n",
       " 37,\n",
       " [275,\n",
       "  311,\n",
       "  343,\n",
       "  350,\n",
       "  356,\n",
       "  363,\n",
       "  397,\n",
       "  410,\n",
       "  412,\n",
       "  415,\n",
       "  421,\n",
       "  425,\n",
       "  431,\n",
       "  433,\n",
       "  439,\n",
       "  442,\n",
       "  443,\n",
       "  444,\n",
       "  445,\n",
       "  446,\n",
       "  447,\n",
       "  448,\n",
       "  453,\n",
       "  457,\n",
       "  458,\n",
       "  459,\n",
       "  460,\n",
       "  465,\n",
       "  466,\n",
       "  486,\n",
       "  491,\n",
       "  496,\n",
       "  498,\n",
       "  499],\n",
       " [31,\n",
       "  90,\n",
       "  98,\n",
       "  103,\n",
       "  105,\n",
       "  112,\n",
       "  137,\n",
       "  141,\n",
       "  160,\n",
       "  161,\n",
       "  198,\n",
       "  199,\n",
       "  200,\n",
       "  201,\n",
       "  202,\n",
       "  203,\n",
       "  205,\n",
       "  206,\n",
       "  207,\n",
       "  209,\n",
       "  212,\n",
       "  213,\n",
       "  214,\n",
       "  217,\n",
       "  220,\n",
       "  225,\n",
       "  226,\n",
       "  227,\n",
       "  230,\n",
       "  239,\n",
       "  243,\n",
       "  248,\n",
       "  258,\n",
       "  259,\n",
       "  265,\n",
       "  269,\n",
       "  270])"
      ]
     },
     "execution_count": 36,
     "metadata": {},
     "output_type": "execute_result"
    }
   ],
   "source": [
    "perf_measure(y_test_numeric, y_pred_rf_numeric)"
   ]
  },
  {
   "cell_type": "code",
   "execution_count": 37,
   "metadata": {},
   "outputs": [],
   "source": [
    "# Calculate the performance metrics and retrieve indices for FP and FN\n",
    "TP, FP, TN, FN, FP_indices, FN_indices = perf_measure(y_test_numeric, y_pred_rf_numeric)\n",
    "\n",
    "# Select the FP and FN data from the dataset\n",
    "FP_data = dataset.iloc[FP_indices][['id-berita', 'url', 'content per paragraf']]\n",
    "FN_data = dataset.iloc[FN_indices][['id-berita', 'url', 'content per paragraf']]"
   ]
  },
  {
   "cell_type": "code",
   "execution_count": 38,
   "metadata": {},
   "outputs": [
    {
     "name": "stdout",
     "output_type": "stream",
     "text": [
      "False Positives (FP):\n",
      "    id-berita                                                url  \\\n",
      "275       268  https://tekno.sindonews.com/read/683585/776/re...   \n",
      "311       272  https://tekno.sindonews.com/read/653809/776/in...   \n",
      "343       274  https://tekno.sindonews.com/read/638045/776/as...   \n",
      "350       275  https://tekno.sindonews.com/read/635979/776/yu...   \n",
      "356       276  https://tekno.sindonews.com/read/628343/776/op...   \n",
      "363       277  https://tekno.sindonews.com/read/625267/776/xi...   \n",
      "397       279  https://tekno.sindonews.com/read/615807/776/la...   \n",
      "410       281  https://tekno.sindonews.com/read/605785/776/di...   \n",
      "412       281  https://tekno.sindonews.com/read/605785/776/di...   \n",
      "415       282  https://tekno.sindonews.com/read/604305/776/re...   \n",
      "421       282  https://tekno.sindonews.com/read/604305/776/re...   \n",
      "425       283  https://tekno.sindonews.com/read/601229/776/sp...   \n",
      "431       283  https://tekno.sindonews.com/read/601229/776/sp...   \n",
      "433       283  https://tekno.sindonews.com/read/601229/776/sp...   \n",
      "439       284  https://tekno.sindonews.com/read/593345/776/ti...   \n",
      "442       284  https://tekno.sindonews.com/read/593345/776/ti...   \n",
      "443       284  https://tekno.sindonews.com/read/593345/776/ti...   \n",
      "444       284  https://tekno.sindonews.com/read/593345/776/ti...   \n",
      "445       284  https://tekno.sindonews.com/read/593345/776/ti...   \n",
      "446       284  https://tekno.sindonews.com/read/593345/776/ti...   \n",
      "447       284  https://tekno.sindonews.com/read/593345/776/ti...   \n",
      "448       284  https://tekno.sindonews.com/read/593345/776/ti...   \n",
      "453       284  https://tekno.sindonews.com/read/593345/776/ti...   \n",
      "457       285  https://tekno.sindonews.com/read/593311/776/in...   \n",
      "458       285  https://tekno.sindonews.com/read/593311/776/in...   \n",
      "459       285  https://tekno.sindonews.com/read/593311/776/in...   \n",
      "460       285  https://tekno.sindonews.com/read/593311/776/in...   \n",
      "465       286  https://tekno.sindonews.com/read/590474/776/se...   \n",
      "466       286  https://tekno.sindonews.com/read/590474/776/se...   \n",
      "486       289  https://tekno.sindonews.com/read/578050/776/pe...   \n",
      "491       290  https://tekno.sindonews.com/read/576022/776/be...   \n",
      "496       291  https://tekno.sindonews.com/read/569414/776/me...   \n",
      "498       291  https://tekno.sindonews.com/read/569414/776/me...   \n",
      "499       291  https://tekno.sindonews.com/read/569414/776/me...   \n",
      "\n",
      "                                  content per paragraf  \n",
      "275  HUAWEI P50 Pro menampilkan Desain Kamera Dual-...  \n",
      "311  “Selama satu abad terakhir, evolusi teknologi ...  \n",
      "343  Daya Tahan dan Keamanan Kelas Enterprise. Daya...  \n",
      "350  Mi TV 4 55” Bezel-less 4K menyodorkan pengalam...  \n",
      "356  2. Pro Gamer Mode. OPPO A95 memiliki aplikasi ...  \n",
      "363  Mendukung teknologi Bluetooth 5.2, konsumsi da...  \n",
      "397  Tahan Panas. OPPO mengklaim bahwa A95 sudah di...  \n",
      "410  5. Pengisian daya cepat. 33W OPPO A95 tetap me...  \n",
      "412  7. Steady Video. Untuk perekaman video, OPPO A...  \n",
      "415  Oppo Reno 4. Pilihan pertama smartphone Oppo y...  \n",
      "421  Oppo memiliki banyak pilihan smartphone yang b...  \n",
      "425  Sementara itu, HUAWEI WATCH GT 3 46mm secara o...  \n",
      "431  6. Rencana Penyesuaian Dinamis yang Cerdas. Hu...  \n",
      "433  Hal senaga dinyatakan Daniel Minardi, Head of ...  \n",
      "439  Lug minimalis, lensa besar, dan desain ringan ...  \n",
      "442  Dengan modul PPG 5.0 yang baru, akurasi pemant...  \n",
      "443  Selain itu, Healthy Living Shamrock yang baru ...  \n",
      "444  Pemantau Olahraga. HUAWEI WATCH GT 3 juga dile...  \n",
      "445  HUAWEI WATCH GT 3 adalah personal trainer yang...  \n",
      "446  Didukung HarmonyOS. HUAWEI WATCH GT 3 didukung...  \n",
      "447  Baterai Tahan Lama. Dalam gaya hidup yang serb...  \n",
      "448  Dukungan Mitra. Pada peluncuran HUAWEI WATCH G...  \n",
      "453  Selain itu, HUAWEI WATCH GT 3 42 mm Elegant Ed...  \n",
      "457  1. DCP-T220. Printer Brother DCP-T220 merupaka...  \n",
      "458  2. DCP-T420W. Printer seri ini merupakan print...  \n",
      "459  3. DCP-T520W. Printer DCP-T520W dengan layar L...  \n",
      "460  4. DCP-T720DW. Printer Ink Tank ini memiliki f...  \n",
      "465  OPPO Omoji memungkinkan pengguna membuat avata...  \n",
      "466  Menggunakan Omoji, pengguna bisa memiliki avat...  \n",
      "486  Selain itu, lanjut Marwan, teknologi 5G tentun...  \n",
      "491  Selain itu, ada juga WaVe Exclusive Fan Kit ya...  \n",
      "496  Ini penting karena terkadang kegiatan WFH just...  \n",
      "498  Bersepeda. Bersepeda adalah “me time” favorit ...  \n",
      "499  Mendengar Lagu Sambil Rebahan. Ada kalanya ota...  \n",
      "Jumlah dari FP adalah 34 paragraf.\n",
      "\n",
      "False Negatives (FN):\n",
      "    id-berita                                                url  \\\n",
      "31        233  https://tekno.sindonews.com/read/793329/776/di...   \n",
      "90        244  https://tekno.sindonews.com/read/755881/776/ep...   \n",
      "98        246  https://tekno.sindonews.com/read/753737/776/th...   \n",
      "103       247  https://tekno.sindonews.com/read/751047/776/se...   \n",
      "105       247  https://tekno.sindonews.com/read/751047/776/se...   \n",
      "112       248  https://tekno.sindonews.com/read/751033/776/in...   \n",
      "137       253  https://tekno.sindonews.com/read/741011/776/hu...   \n",
      "141       253  https://tekno.sindonews.com/read/741011/776/hu...   \n",
      "160       254  https://tekno.sindonews.com/read/734955/776/ac...   \n",
      "161       254  https://tekno.sindonews.com/read/734955/776/ac...   \n",
      "198       258  https://tekno.sindonews.com/read/709767/776/re...   \n",
      "199       259  https://tekno.sindonews.com/read/707921/776/as...   \n",
      "200       259  https://tekno.sindonews.com/read/707921/776/as...   \n",
      "201       259  https://tekno.sindonews.com/read/707921/776/as...   \n",
      "202       259  https://tekno.sindonews.com/read/707921/776/as...   \n",
      "203       259  https://tekno.sindonews.com/read/707921/776/as...   \n",
      "205       259  https://tekno.sindonews.com/read/707921/776/as...   \n",
      "206       259  https://tekno.sindonews.com/read/707921/776/as...   \n",
      "207       259  https://tekno.sindonews.com/read/707921/776/as...   \n",
      "209       259  https://tekno.sindonews.com/read/707921/776/as...   \n",
      "212       259  https://tekno.sindonews.com/read/707921/776/as...   \n",
      "213       259  https://tekno.sindonews.com/read/707921/776/as...   \n",
      "214       259  https://tekno.sindonews.com/read/707921/776/as...   \n",
      "217       260  https://tekno.sindonews.com/read/702041/776/as...   \n",
      "220       260  https://tekno.sindonews.com/read/702041/776/as...   \n",
      "225       260  https://tekno.sindonews.com/read/702041/776/as...   \n",
      "226       260  https://tekno.sindonews.com/read/702041/776/as...   \n",
      "227       260  https://tekno.sindonews.com/read/702041/776/as...   \n",
      "230       261  https://tekno.sindonews.com/read/695193/776/te...   \n",
      "239       263  https://tekno.sindonews.com/read/689689/776/pe...   \n",
      "243       264  https://tekno.sindonews.com/read/688539/776/ga...   \n",
      "248       264  https://tekno.sindonews.com/read/688539/776/ga...   \n",
      "258       266  https://tekno.sindonews.com/read/684945/776/ab...   \n",
      "259       266  https://tekno.sindonews.com/read/684945/776/ab...   \n",
      "265       267  https://tekno.sindonews.com/read/683929/776/po...   \n",
      "269       267  https://tekno.sindonews.com/read/683929/776/po...   \n",
      "270       267  https://tekno.sindonews.com/read/683929/776/po...   \n",
      "\n",
      "                                  content per paragraf  \n",
      "31   Perhelatan juga dimanfaatkan oleh IOH untuk me...  \n",
      "90   8. Label Printer Printer Epson Label Works. In...  \n",
      "98   1. OPPO A96. OPPO A96 mengusung layar 6,59 inc...  \n",
      "103  1. OPPO A96. OPPO A96 mengusung layar 6,59 inc...  \n",
      "105  3. OPPO A55 OPPO A55 hadir membawa layar beruk...  \n",
      "112  5. Samsung Galaxy A03. Rekomendasi terakhir sm...  \n",
      "137  Teknologi canggih, durabilitas tinggi, dan des...  \n",
      "141  Inovasi yang dihadirkan oleh Intel Core Genera...  \n",
      "160  Display Jernih Memanjakan Mata. Acer memang me...  \n",
      "161  Dapur Pacu Bisa Diandalkan Dengan berbagai keu...  \n",
      "198  Rebahan Dapat Uang? Sekarang Bisa di Reward Zo...  \n",
      "199  ASUS mengumumkan ExpertBook B1400, laptop 14-i...  \n",
      "200  Tidak hanya hadir dengan desain yang sangat po...  \n",
      "201  ExpertBook B1400 juga dilengkapi dengan sistem...  \n",
      "202  Kencang dan Fleksibel untuk Sekolah dan UMKM K...  \n",
      "203  Teknologi tersebut bahkan memungkinkan sistem ...  \n",
      "205  Tak hanya itu, ASUS pun menyadari bahwa kehidu...  \n",
      "206  Konektivitas Lengkap. Konektivitas merupakan s...  \n",
      "207  Menariknya, ExpertBook B1400 masih mengusung p...  \n",
      "209  Layarnya juga sudah mengantongi sertifikasi lo...  \n",
      "212  Cocok untuk Beraktivitas di Mana Saja Dunia bi...  \n",
      "213  Teknologi Two Way AI Noise-Cancelling di Exper...  \n",
      "214  Spesifikasi ASUS ExpertBook B1400 : CPU Intel®...  \n",
      "217  ExpertBook B5 kali ini hadir dengan desain con...  \n",
      "220  Menggunakan ExpertBook B5 Flip (B5302F) memung...  \n",
      "225  Dirancang untuk Berbisnis Laptop untuk pebisni...  \n",
      "226  ASUS merancang ExpertBook B5 Flip (B5302F) seb...  \n",
      "227  Sebuah laptop tidak akan dapat bergabung denga...  \n",
      "230  Dari segi spesifikasi, meski ketiga model terb...  \n",
      "239  Tim Free Fire Tangcity Esports akan memulai pe...  \n",
      "243  Samsung Galaxy S22 Series 5G bisa jadi pilihan...  \n",
      "248  Sehingga kamu bisa mendapatkan video yang smoo...  \n",
      "258  Nah, menariknya teknologi AI terbaru Galaxy S2...  \n",
      "259  Galaxy S22 5G dibekali baterai 3.700 mAh, tekn...  \n",
      "265  Kemajuan teknologi yang berkembang pesat saat ...  \n",
      "269  Selain itu, metal frame yang kuat dan kokoh me...  \n",
      "270  Produk TV Polytron Mini LED Quantum dilengkapi...  \n",
      "Jumlah dari FN adalah 37 paragraf.\n"
     ]
    }
   ],
   "source": [
    "# Display the results\n",
    "print(\"False Positives (FP):\")\n",
    "print(FP_data)\n",
    "print('Jumlah dari FP adalah',len(FP_data), 'paragraf.')\n",
    "\n",
    "print(\"\\nFalse Negatives (FN):\")\n",
    "print(FN_data)\n",
    "print('Jumlah dari FN adalah',len(FN_data), 'paragraf.')"
   ]
  },
  {
   "cell_type": "code",
   "execution_count": 39,
   "metadata": {},
   "outputs": [],
   "source": [
    "import os\n",
    "# Specify the folder path\n",
    "folder_path = 'E:/Asiyah/tesis/Thesis Persuasive Detection at Paragraph-Level/Mine/RF/FN-FP/'  # Replace this with your desired folder path\n",
    "\n",
    "# Full paths for saving files\n",
    "fp_file_path = os.path.join(folder_path, 'FP_Data_GloVe-RF-Biner.csv')\n",
    "fn_file_path = os.path.join(folder_path, 'FN_Data_GloVe-RF-Biner.csv')\n",
    "\n",
    "# Save FP_data and FN_data to CSV files within the specified folder\n",
    "FP_data.to_csv(fp_file_path, index=False)\n",
    "FN_data.to_csv(fn_file_path, index=False)"
   ]
  }
 ],
 "metadata": {
  "accelerator": "GPU",
  "colab": {
   "gpuType": "T4",
   "machine_shape": "hm",
   "provenance": [
    {
     "file_id": "1xj6PhnfVxFJO0knwQZLhz7vMM0rodIP_",
     "timestamp": 1724078933197
    }
   ]
  },
  "kernelspec": {
   "display_name": "Python 3 (ipykernel)",
   "language": "python",
   "name": "python3"
  },
  "language_info": {
   "codemirror_mode": {
    "name": "ipython",
    "version": 3
   },
   "file_extension": ".py",
   "mimetype": "text/x-python",
   "name": "python",
   "nbconvert_exporter": "python",
   "pygments_lexer": "ipython3",
   "version": "3.12.2"
  }
 },
 "nbformat": 4,
 "nbformat_minor": 4
}
